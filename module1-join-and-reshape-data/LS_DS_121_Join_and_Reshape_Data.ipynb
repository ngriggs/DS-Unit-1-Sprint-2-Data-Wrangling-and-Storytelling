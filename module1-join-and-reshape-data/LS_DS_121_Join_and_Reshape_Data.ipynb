{
  "nbformat": 4,
  "nbformat_minor": 0,
  "metadata": {
    "colab": {
      "name": "LS_DS_121_Join_and_Reshape_Data.ipynb",
      "version": "0.3.2",
      "provenance": [],
      "collapsed_sections": []
    },
    "kernelspec": {
      "display_name": "Python 3",
      "language": "python",
      "name": "python3"
    }
  },
  "cells": [
    {
      "cell_type": "markdown",
      "metadata": {
        "colab_type": "text",
        "id": "pmU5YUal1eTZ"
      },
      "source": [
        "_Lambda School Data Science_\n",
        "\n",
        "# Join and Reshape datasets\n",
        "\n",
        "Objectives\n",
        "- concatenate data with pandas\n",
        "- merge data with pandas\n",
        "-  understand tidy data formatting\n",
        "-  melt and pivot data with pandas\n",
        "\n",
        "Links\n",
        "- [Pandas Cheat Sheet](https://github.com/pandas-dev/pandas/blob/master/doc/cheatsheet/Pandas_Cheat_Sheet.pdf)\n",
        "- [Tidy Data](https://en.wikipedia.org/wiki/Tidy_data)\n",
        "  - Combine Data Sets: Standard Joins\n",
        "  - Tidy Data\n",
        "  - Reshaping Data\n",
        "- Python Data Science Handbook\n",
        "  - [Chapter 3.6](https://jakevdp.github.io/PythonDataScienceHandbook/03.06-concat-and-append.html), Combining Datasets: Concat and Append\n",
        "  - [Chapter 3.7](https://jakevdp.github.io/PythonDataScienceHandbook/03.07-merge-and-join.html), Combining Datasets: Merge and Join\n",
        "  - [Chapter 3.8](https://jakevdp.github.io/PythonDataScienceHandbook/03.08-aggregation-and-grouping.html), Aggregation and Grouping\n",
        "  - [Chapter 3.9](https://jakevdp.github.io/PythonDataScienceHandbook/03.09-pivot-tables.html), Pivot Tables\n",
        "  \n",
        "Reference\n",
        "- Pandas Documentation: [Reshaping and Pivot Tables](https://pandas.pydata.org/pandas-docs/stable/reshaping.html)\n",
        "- Modern Pandas, Part 5: [Tidy Data](https://tomaugspurger.github.io/modern-5-tidy.html)"
      ]
    },
    {
      "cell_type": "markdown",
      "metadata": {
        "colab_type": "text",
        "id": "Mmi3J5fXrwZ3"
      },
      "source": [
        "## Download data\n",
        "\n",
        "We’ll work with a dataset of [3 Million Instacart Orders, Open Sourced](https://tech.instacart.com/3-million-instacart-orders-open-sourced-d40d29ead6f2)!"
      ]
    },
    {
      "cell_type": "code",
      "metadata": {
        "colab_type": "code",
        "id": "K2kcrJVybjrW",
        "colab": {}
      },
      "source": [
        "!wget https://s3.amazonaws.com/instacart-datasets/instacart_online_grocery_shopping_2017_05_01.tar.gz"
      ],
      "execution_count": 0,
      "outputs": []
    },
    {
      "cell_type": "code",
      "metadata": {
        "colab_type": "code",
        "id": "kqX40b2kdgAb",
        "colab": {}
      },
      "source": [
        "!tar --gunzip --extract --verbose --file=instacart_online_grocery_shopping_2017_05_01.tar.gz"
      ],
      "execution_count": 0,
      "outputs": []
    },
    {
      "cell_type": "code",
      "metadata": {
        "colab_type": "code",
        "id": "YbCvZZCBfHCI",
        "colab": {}
      },
      "source": [
        "%cd instacart_2017_05_01"
      ],
      "execution_count": 0,
      "outputs": []
    },
    {
      "cell_type": "code",
      "metadata": {
        "id": "etshR5kpvWOj",
        "colab_type": "code",
        "colab": {}
      },
      "source": [
        "!ls -lh *.csv"
      ],
      "execution_count": 0,
      "outputs": []
    },
    {
      "cell_type": "markdown",
      "metadata": {
        "id": "RcCu3Tlgv6J2",
        "colab_type": "text"
      },
      "source": [
        "# Join Datasets"
      ]
    },
    {
      "cell_type": "markdown",
      "metadata": {
        "colab_type": "text",
        "id": "RsA14wiKr03j"
      },
      "source": [
        "## Goal: Reproduce this example\n",
        "\n",
        "The first two orders for user id 1:"
      ]
    },
    {
      "cell_type": "code",
      "metadata": {
        "colab_type": "code",
        "id": "vLqOTMcfjprg",
        "colab": {}
      },
      "source": [
        "from IPython.display import display, Image\n",
        "url = 'https://cdn-images-1.medium.com/max/1600/1*vYGFQCafJtGBBX5mbl0xyw.png'\n",
        "example = Image(url=url, width=600)\n",
        "\n",
        "display(example)"
      ],
      "execution_count": 0,
      "outputs": []
    },
    {
      "cell_type": "markdown",
      "metadata": {
        "colab_type": "text",
        "id": "nPwG8aM_txl4"
      },
      "source": [
        "## Load data\n",
        "\n",
        "Here's a list of all six CSV filenames"
      ]
    },
    {
      "cell_type": "code",
      "metadata": {
        "colab_type": "code",
        "id": "Ksah0cOrfdJQ",
        "colab": {}
      },
      "source": [
        "!ls -lh *.csv"
      ],
      "execution_count": 0,
      "outputs": []
    },
    {
      "cell_type": "markdown",
      "metadata": {
        "colab_type": "text",
        "id": "AHT7fKuxvPgV"
      },
      "source": [
        "For each CSV\n",
        "- Load it with pandas\n",
        "- Look at the dataframe's shape\n",
        "- Look at its head (first rows)\n",
        "- `display(example)`\n",
        "- Which columns does it have in common with the example we want to reproduce?"
      ]
    },
    {
      "cell_type": "markdown",
      "metadata": {
        "colab_type": "text",
        "id": "cB_5T6TprcUH"
      },
      "source": [
        "### aisles"
      ]
    },
    {
      "cell_type": "code",
      "metadata": {
        "colab_type": "code",
        "id": "JB3bvwSDK6v3",
        "colab": {}
      },
      "source": [
        "import pandas as pd\n",
        "aisles = pd.read_csv('aisles.csv')\n",
        "print(aisles.shape)\n",
        "aisles.head()"
      ],
      "execution_count": 0,
      "outputs": []
    },
    {
      "cell_type": "markdown",
      "metadata": {
        "colab_type": "text",
        "id": "9-GrkqM6rfXr"
      },
      "source": [
        "### departments"
      ]
    },
    {
      "cell_type": "code",
      "metadata": {
        "id": "yxFd5n20yOVn",
        "colab_type": "code",
        "colab": {}
      },
      "source": [
        "departments = pd.read_csv('departments.csv')\n",
        "print(departments.shape)\n",
        "departments.head()"
      ],
      "execution_count": 0,
      "outputs": []
    },
    {
      "cell_type": "markdown",
      "metadata": {
        "colab_type": "text",
        "id": "VhhVcn9kK-nG"
      },
      "source": [
        "### order_products__prior"
      ]
    },
    {
      "cell_type": "code",
      "metadata": {
        "id": "86rIMNFSzKaG",
        "colab_type": "code",
        "colab": {}
      },
      "source": [
        "order_products__prior = pd.read_csv('order_products__prior.csv')\n",
        "print(order_products__prior.shape)\n",
        "order_products__prior.head()"
      ],
      "execution_count": 0,
      "outputs": []
    },
    {
      "cell_type": "markdown",
      "metadata": {
        "colab_type": "text",
        "id": "HVYJEKJcLBut"
      },
      "source": [
        "### order_products__train"
      ]
    },
    {
      "cell_type": "code",
      "metadata": {
        "id": "xgwSUCBk6Ciy",
        "colab_type": "code",
        "colab": {}
      },
      "source": [
        "order_products__train = pd.read_csv('order_products__train.csv')\n",
        "print(order_products__train.shape)\n",
        "order_products__train.head()"
      ],
      "execution_count": 0,
      "outputs": []
    },
    {
      "cell_type": "code",
      "metadata": {
        "id": "bxkKzR7u0ksh",
        "colab_type": "code",
        "colab": {}
      },
      "source": [
        "!free -m"
      ],
      "execution_count": 0,
      "outputs": []
    },
    {
      "cell_type": "markdown",
      "metadata": {
        "colab_type": "text",
        "id": "LYPrWUJnrp7G"
      },
      "source": [
        "### orders"
      ]
    },
    {
      "cell_type": "code",
      "metadata": {
        "id": "UfPRTW5w128P",
        "colab_type": "code",
        "colab": {}
      },
      "source": [
        "orders = pd.read_csv('orders.csv')\n",
        "print(orders.shape)\n",
        "orders.head()"
      ],
      "execution_count": 0,
      "outputs": []
    },
    {
      "cell_type": "markdown",
      "metadata": {
        "colab_type": "text",
        "id": "nIX3SYXersao"
      },
      "source": [
        "### products"
      ]
    },
    {
      "cell_type": "code",
      "metadata": {
        "id": "3BKG5dxy2IOA",
        "colab_type": "code",
        "colab": {}
      },
      "source": [
        "products = pd.read_csv('products.csv')\n",
        "print(products.shape)\n",
        "products.head()"
      ],
      "execution_count": 0,
      "outputs": []
    },
    {
      "cell_type": "markdown",
      "metadata": {
        "colab_type": "text",
        "id": "cbHumXOiJfy2"
      },
      "source": [
        "## Concatenate order_products__prior and order_products__train"
      ]
    },
    {
      "cell_type": "code",
      "metadata": {
        "colab_type": "code",
        "id": "TJ23kqpAY8Vv",
        "colab": {}
      },
      "source": [
        "order_products = pd.concat([order_products__prior, order_products__train])\n",
        "print(order_products.shape)\n",
        "order_products.head()"
      ],
      "execution_count": 0,
      "outputs": []
    },
    {
      "cell_type": "code",
      "metadata": {
        "id": "UXFctVbD3nqk",
        "colab_type": "code",
        "colab": {}
      },
      "source": [
        "order_products.isna().sum()"
      ],
      "execution_count": 0,
      "outputs": []
    },
    {
      "cell_type": "markdown",
      "metadata": {
        "colab_type": "text",
        "id": "Z1YRw5ypJuv2"
      },
      "source": [
        "## Get a subset of orders — the first two orders for user id 1"
      ]
    },
    {
      "cell_type": "markdown",
      "metadata": {
        "id": "eJ9EixWs6K64",
        "colab_type": "text"
      },
      "source": [
        "From `orders` dataframe:\n",
        "- user_id\n",
        "- order_id\n",
        "- order_number\n",
        "- order_dow\n",
        "- order_hour_of_day"
      ]
    },
    {
      "cell_type": "code",
      "metadata": {
        "id": "f3Km0Xw_4lVi",
        "colab_type": "code",
        "colab": {}
      },
      "source": [
        "orders.head(1)"
      ],
      "execution_count": 0,
      "outputs": []
    },
    {
      "cell_type": "code",
      "metadata": {
        "id": "aaCWZqFj6H8S",
        "colab_type": "code",
        "colab": {}
      },
      "source": [
        "columns = ['order_id',\t'user_id',\t'order_number',\t'order_dow',\t'order_hour_of_day']\n",
        "subset = orders.loc[(orders.user_id == 1) & (orders.order_number <= 2), columns]\n",
        "subset"
      ],
      "execution_count": 0,
      "outputs": []
    },
    {
      "cell_type": "markdown",
      "metadata": {
        "colab_type": "text",
        "id": "3K1p0QHuKPnt"
      },
      "source": [
        "## Merge dataframes"
      ]
    },
    {
      "cell_type": "markdown",
      "metadata": {
        "id": "4MVZ9vb1BuO0",
        "colab_type": "text"
      },
      "source": [
        "Merge the subset from `orders` with columns from `order_products`"
      ]
    },
    {
      "cell_type": "code",
      "metadata": {
        "id": "3lajwEE86iKc",
        "colab_type": "code",
        "colab": {}
      },
      "source": [
        "display(example)"
      ],
      "execution_count": 0,
      "outputs": []
    },
    {
      "cell_type": "markdown",
      "metadata": {
        "id": "i1uLO1bxByfz",
        "colab_type": "text"
      },
      "source": [
        "Merge with columns from `products`"
      ]
    },
    {
      "cell_type": "code",
      "metadata": {
        "id": "D3Hfo2dkJlmh",
        "colab_type": "code",
        "colab": {}
      },
      "source": [
        "merged = pd.merge(subset, order_products[['order_id', 'add_to_cart_order', 'product_id']], how='left', on='order_id')\n",
        "merged.head(10)"
      ],
      "execution_count": 0,
      "outputs": []
    },
    {
      "cell_type": "code",
      "metadata": {
        "id": "vp_rFW6z81os",
        "colab_type": "code",
        "colab": {}
      },
      "source": [
        "subset.shape, order_products.shape, merged.shape"
      ],
      "execution_count": 0,
      "outputs": []
    },
    {
      "cell_type": "code",
      "metadata": {
        "id": "YEgHix2S9SdA",
        "colab_type": "code",
        "colab": {}
      },
      "source": [
        "products.head(1)"
      ],
      "execution_count": 0,
      "outputs": []
    },
    {
      "cell_type": "code",
      "metadata": {
        "id": "owUqW2rl9UyK",
        "colab_type": "code",
        "colab": {}
      },
      "source": [
        "final = pd.merge(merged, products[['product_id',\t'product_name']], how='left', on='product_id')"
      ],
      "execution_count": 0,
      "outputs": []
    },
    {
      "cell_type": "code",
      "metadata": {
        "id": "4YwnpU569nDM",
        "colab_type": "code",
        "colab": {}
      },
      "source": [
        "final"
      ],
      "execution_count": 0,
      "outputs": []
    },
    {
      "cell_type": "markdown",
      "metadata": {
        "id": "dDfzKXJdwApV",
        "colab_type": "text"
      },
      "source": [
        "# Reshape Datasets"
      ]
    },
    {
      "cell_type": "markdown",
      "metadata": {
        "id": "4stCppWhwIx0",
        "colab_type": "text"
      },
      "source": [
        "## Why reshape data?\n",
        "\n",
        "#### Some libraries prefer data in different formats\n",
        "\n",
        "For example, the Seaborn data visualization library prefers data in \"Tidy\" format often (but not always).\n",
        "\n",
        "> \"[Seaborn will be most powerful when your datasets have a particular organization.](https://seaborn.pydata.org/introduction.html#organizing-datasets) This format ia alternately called “long-form” or “tidy” data and is described in detail by Hadley Wickham. The rules can be simply stated:\n",
        "\n",
        "> - Each variable is a column\n",
        "- Each observation is a row\n",
        "\n",
        "> A helpful mindset for determining whether your data are tidy is to think backwards from the plot you want to draw. From this perspective, a “variable” is something that will be assigned a role in the plot.\"\n",
        "\n",
        "#### Data science is often about putting square pegs in round holes\n",
        "\n",
        "Here's an inspiring [video clip from _Apollo 13_](https://www.youtube.com/watch?v=ry55--J4_VQ): “Invent a way to put a square peg in a round hole.” It's a good metaphor for data wrangling!"
      ]
    },
    {
      "cell_type": "markdown",
      "metadata": {
        "id": "79KITszBwXp7",
        "colab_type": "text"
      },
      "source": [
        "## Hadley Wickham's Examples\n",
        "\n",
        "From his paper, [Tidy Data](http://vita.had.co.nz/papers/tidy-data.html)"
      ]
    },
    {
      "cell_type": "code",
      "metadata": {
        "id": "Jna5sk5FwYHr",
        "colab_type": "code",
        "colab": {}
      },
      "source": [
        "%matplotlib inline\n",
        "import pandas as pd\n",
        "import numpy as np\n",
        "import seaborn as sns\n",
        "\n",
        "table1 = pd.DataFrame(\n",
        "    [[np.nan, 2],\n",
        "     [16,    11], \n",
        "     [3,      1]],\n",
        "    index=['John Smith', 'Jane Doe', 'Mary Johnson'], \n",
        "    columns=['treatmenta', 'treatmentb'])\n",
        "\n",
        "table2 = table1.T"
      ],
      "execution_count": 0,
      "outputs": []
    },
    {
      "cell_type": "markdown",
      "metadata": {
        "id": "eWe5rpI9wdvT",
        "colab_type": "text"
      },
      "source": [
        "\"Table 1 provides some data about an imaginary experiment in a format commonly seen in the wild. \n",
        "\n",
        "The table has two columns and three rows, and both rows and columns are labelled.\""
      ]
    },
    {
      "cell_type": "code",
      "metadata": {
        "id": "SdUp5LbcwgNK",
        "colab_type": "code",
        "colab": {}
      },
      "source": [
        "table1"
      ],
      "execution_count": 0,
      "outputs": []
    },
    {
      "cell_type": "markdown",
      "metadata": {
        "id": "SaEcDmZhwmon",
        "colab_type": "text"
      },
      "source": [
        "\"There are many ways to structure the same underlying data. \n",
        "\n",
        "Table 2 shows the same data as Table 1, but the rows and columns have been transposed. The data is the same, but the layout is different.\""
      ]
    },
    {
      "cell_type": "code",
      "metadata": {
        "id": "SwDVoCj5woAn",
        "colab_type": "code",
        "colab": {}
      },
      "source": [
        "table2"
      ],
      "execution_count": 0,
      "outputs": []
    },
    {
      "cell_type": "markdown",
      "metadata": {
        "id": "k3ratDNbwsyN",
        "colab_type": "text"
      },
      "source": [
        "\"Table 3 reorganises Table 1 to make the values, variables and obserations more clear.\n",
        "\n",
        "Table 3 is the tidy version of Table 1. Each row represents an observation, the result of one treatment on one person, and each column is a variable.\"\n",
        "\n",
        "| name         | trt | result |\n",
        "|--------------|-----|--------|\n",
        "| John Smith   | a   | -      |\n",
        "| Jane Doe     | a   | 16     |\n",
        "| Mary Johnson | a   | 3      |\n",
        "| John Smith   | b   | 2      |\n",
        "| Jane Doe     | b   | 11     |\n",
        "| Mary Johnson | b   | 1      |"
      ]
    },
    {
      "cell_type": "markdown",
      "metadata": {
        "id": "WsvD1I3TwwnI",
        "colab_type": "text"
      },
      "source": [
        "## Table 1 --> Tidy\n",
        "\n",
        "We can use the pandas `melt` function to reshape Table 1 into Tidy format."
      ]
    },
    {
      "cell_type": "code",
      "metadata": {
        "id": "S48tKmC46veF",
        "colab_type": "code",
        "colab": {}
      },
      "source": [
        "table1"
      ],
      "execution_count": 0,
      "outputs": []
    },
    {
      "cell_type": "code",
      "metadata": {
        "id": "pmmt41wJDEHs",
        "colab_type": "code",
        "colab": {}
      },
      "source": [
        "table1.columns"
      ],
      "execution_count": 0,
      "outputs": []
    },
    {
      "cell_type": "code",
      "metadata": {
        "id": "sLL9tnsbDHNu",
        "colab_type": "code",
        "colab": {}
      },
      "source": [
        "table1 = table1.reset_index()\n",
        "table1"
      ],
      "execution_count": 0,
      "outputs": []
    },
    {
      "cell_type": "code",
      "metadata": {
        "id": "l5OuYmOyDPvP",
        "colab_type": "code",
        "colab": {}
      },
      "source": [
        "tidy = table1.melt(id_vars='index')\n",
        "tidy"
      ],
      "execution_count": 0,
      "outputs": []
    },
    {
      "cell_type": "code",
      "metadata": {
        "id": "mC-keTtcDw3g",
        "colab_type": "code",
        "colab": {}
      },
      "source": [
        "tidy = tidy.rename(columns={'index':'name', 'variable': 'trt', 'value': 'result'})\n",
        "tidy['trt'] = tidy.trt.str.replace('treatment', '')\n",
        "tidy"
      ],
      "execution_count": 0,
      "outputs": []
    },
    {
      "cell_type": "markdown",
      "metadata": {
        "id": "Ck15sXaJxPrd",
        "colab_type": "text"
      },
      "source": [
        "## Table 2 --> Tidy"
      ]
    },
    {
      "cell_type": "code",
      "metadata": {
        "id": "k2Qn94RIxQhV",
        "colab_type": "code",
        "colab": {}
      },
      "source": [
        "##### LEAVE BLANK --an assignment exercise #####"
      ],
      "execution_count": 0,
      "outputs": []
    },
    {
      "cell_type": "markdown",
      "metadata": {
        "id": "As0W7PWLxea3",
        "colab_type": "text"
      },
      "source": [
        "## Tidy --> Table 1\n",
        "\n",
        "The `pivot_table` function is the inverse of `melt`."
      ]
    },
    {
      "cell_type": "code",
      "metadata": {
        "id": "CdZZiLYoxfJC",
        "colab_type": "code",
        "colab": {}
      },
      "source": [
        "wide = tidy.pivot_table(values='result', index='name', columns='trt')\n",
        "wide"
      ],
      "execution_count": 0,
      "outputs": []
    },
    {
      "cell_type": "markdown",
      "metadata": {
        "id": "3GeAKoSZxoPS",
        "colab_type": "text"
      },
      "source": [
        "## Tidy --> Table 2"
      ]
    },
    {
      "cell_type": "code",
      "metadata": {
        "id": "W2jjciN2xk9r",
        "colab_type": "code",
        "colab": {}
      },
      "source": [
        "##### LEAVE BLANK --an assignment exercise #####"
      ],
      "execution_count": 0,
      "outputs": []
    },
    {
      "cell_type": "markdown",
      "metadata": {
        "id": "jr0jQy6Oxqi7",
        "colab_type": "text"
      },
      "source": [
        "# Seaborn example\n",
        "\n",
        "The rules can be simply stated:\n",
        "\n",
        "- Each variable is a column\n",
        "- Each observation is a row\n",
        "\n",
        "A helpful mindset for determining whether your data are tidy is to think backwards from the plot you want to draw. From this perspective, a “variable” is something that will be assigned a role in the plot.\""
      ]
    },
    {
      "cell_type": "code",
      "metadata": {
        "id": "kWo3FIP9xuKo",
        "colab_type": "code",
        "colab": {}
      },
      "source": [
        "sns.catplot(x='trt', y='result', col='name', \n",
        "            kind='bar', data=tidy, height=2);"
      ],
      "execution_count": 0,
      "outputs": []
    },
    {
      "cell_type": "markdown",
      "metadata": {
        "id": "cIgT41Rxx4oj",
        "colab_type": "text"
      },
      "source": [
        "## Now with Instacart data"
      ]
    },
    {
      "cell_type": "code",
      "metadata": {
        "id": "Oydw0VvGxyDJ",
        "colab_type": "code",
        "colab": {}
      },
      "source": [
        "products = pd.read_csv('products.csv')\n",
        "\n",
        "order_products = pd.concat([pd.read_csv('order_products__prior.csv'), \n",
        "                            pd.read_csv('order_products__train.csv')])\n",
        "\n",
        "orders = pd.read_csv('orders.csv')"
      ],
      "execution_count": 0,
      "outputs": []
    },
    {
      "cell_type": "markdown",
      "metadata": {
        "id": "6p-IsG0jyXQj",
        "colab_type": "text"
      },
      "source": [
        "## Goal: Reproduce part of this example\n",
        "\n",
        "Instead of a plot with 50 products, we'll just do two — the first products from each list\n",
        "- Half And Half Ultra Pasteurized\n",
        "- Half Baked Frozen Yogurt"
      ]
    },
    {
      "cell_type": "code",
      "metadata": {
        "id": "Rs-_n9yjyZ15",
        "colab_type": "code",
        "colab": {}
      },
      "source": [
        "from IPython.display import display, Image\n",
        "url = 'https://cdn-images-1.medium.com/max/1600/1*wKfV6OV-_1Ipwrl7AjjSuw.png'\n",
        "example = Image(url=url, width=600)\n",
        "\n",
        "display(example)"
      ],
      "execution_count": 0,
      "outputs": []
    },
    {
      "cell_type": "markdown",
      "metadata": {
        "id": "Vj5GR7I4ydBg",
        "colab_type": "text"
      },
      "source": [
        "So, given a `product_name` we need to calculate its `order_hour_of_day` pattern."
      ]
    },
    {
      "cell_type": "markdown",
      "metadata": {
        "id": "Vc9_s7-LyhBI",
        "colab_type": "text"
      },
      "source": [
        "## Subset and Merge\n",
        "\n",
        "One challenge of performing a merge on this data is that the `products` and `orders` datasets do not have any common columns that we can merge on. Due to this we will have to use the `order_products` dataset to provide the columns that we will use to perform the merge."
      ]
    },
    {
      "cell_type": "code",
      "metadata": {
        "id": "W1yHMS-OyUTH",
        "colab_type": "code",
        "colab": {}
      },
      "source": [
        "product_names = ['Half And Half Ultra Pasteurized', 'Half Baked Frozen Yogurt']"
      ],
      "execution_count": 0,
      "outputs": []
    },
    {
      "cell_type": "code",
      "metadata": {
        "id": "no9qikG6HUPQ",
        "colab_type": "code",
        "colab": {}
      },
      "source": [
        "products.columns.to_list()"
      ],
      "execution_count": 0,
      "outputs": []
    },
    {
      "cell_type": "code",
      "metadata": {
        "id": "mOLuhwtUHWnx",
        "colab_type": "code",
        "colab": {}
      },
      "source": [
        "orders.columns.to_list()"
      ],
      "execution_count": 0,
      "outputs": []
    },
    {
      "cell_type": "code",
      "metadata": {
        "id": "uCtlisORHZSS",
        "colab_type": "code",
        "colab": {}
      },
      "source": [
        "order_products.columns.to_list()"
      ],
      "execution_count": 0,
      "outputs": []
    },
    {
      "cell_type": "code",
      "metadata": {
        "id": "U_oi0ag0HblH",
        "colab_type": "code",
        "colab": {}
      },
      "source": [
        "merged = (products[['product_id', 'product_name']]\n",
        "          .merge(order_products[['product_id', 'order_id']])\n",
        "          .merge(orders[['order_id', 'order_hour_of_day']]))\n",
        "merged"
      ],
      "execution_count": 0,
      "outputs": []
    },
    {
      "cell_type": "code",
      "metadata": {
        "id": "dfqY-pRuIsnM",
        "colab_type": "code",
        "colab": {}
      },
      "source": [
        "condition = ((merged['product_name'] == product_names[0]) |\n",
        "            (merged['product_name'] == product_names[1]))\n",
        "\n",
        "# Other approach that works\n",
        "condition = merged['product_name'].isin(product_names)"
      ],
      "execution_count": 0,
      "outputs": []
    },
    {
      "cell_type": "code",
      "metadata": {
        "id": "s2Td6fh1JMbL",
        "colab_type": "code",
        "colab": {}
      },
      "source": [
        "subset = merged[condition]\n",
        "print(subset.shape)\n",
        "subset.head()"
      ],
      "execution_count": 0,
      "outputs": []
    },
    {
      "cell_type": "markdown",
      "metadata": {
        "id": "UvhcadjFzx0Q",
        "colab_type": "text"
      },
      "source": [
        "## 4 ways to reshape and plot"
      ]
    },
    {
      "cell_type": "markdown",
      "metadata": {
        "id": "aEE_nCWjzz7f",
        "colab_type": "text"
      },
      "source": [
        "### 1. value_counts"
      ]
    },
    {
      "cell_type": "code",
      "metadata": {
        "id": "vTL3Cko87VL-",
        "colab_type": "code",
        "colab": {}
      },
      "source": [
        "subset.groupby('order_hour_of_day').product_name.value_counts().unstack().plot()"
      ],
      "execution_count": 0,
      "outputs": []
    },
    {
      "cell_type": "markdown",
      "metadata": {
        "id": "tMSd6YDj0BjE",
        "colab_type": "text"
      },
      "source": [
        "### 2. crosstab"
      ]
    },
    {
      "cell_type": "code",
      "metadata": {
        "id": "Slu2bWYK0CZD",
        "colab_type": "code",
        "colab": {}
      },
      "source": [
        "pd.crosstab(subset['order_hour_of_day'], subset['product_name'], normalize='columns').plot()"
      ],
      "execution_count": 0,
      "outputs": []
    },
    {
      "cell_type": "markdown",
      "metadata": {
        "id": "ICjPVqO70Hv8",
        "colab_type": "text"
      },
      "source": [
        "### 3. Pivot Table"
      ]
    },
    {
      "cell_type": "code",
      "metadata": {
        "id": "LQtMNVa10I_S",
        "colab_type": "code",
        "colab": {}
      },
      "source": [
        "subset.pivot_table(index='order_hour_of_day', columns='product_name')"
      ],
      "execution_count": 0,
      "outputs": []
    },
    {
      "cell_type": "markdown",
      "metadata": {
        "id": "7A9jfBVv0M7e",
        "colab_type": "text"
      },
      "source": [
        "### 4. melt"
      ]
    },
    {
      "cell_type": "markdown",
      "metadata": {
        "colab_type": "text",
        "id": "kAMtvSQWPUcj"
      },
      "source": [
        "# Assignment\n",
        "\n",
        "## Join Data Section\n",
        "\n",
        "These are the top 10 most frequently ordered products. How many times was each ordered? \n",
        "\n",
        "1. Banana\n",
        "2. Bag of Organic Bananas\n",
        "3. Organic Strawberries\n",
        "4. Organic Baby Spinach \n",
        "5. Organic Hass Avocado\n",
        "6. Organic Avocado\n",
        "7. Large Lemon \n",
        "8. Strawberries\n",
        "9. Limes \n",
        "10. Organic Whole Milk\n",
        "\n",
        "First, write down which columns you need and which dataframes have them.\n",
        "\n",
        "Next, merge these into a single dataframe.\n",
        "\n",
        "Then, use pandas functions from the previous lesson to get the counts of the top 10 most frequently ordered products.\n",
        "\n",
        "## Reshape Data Section\n",
        "\n",
        "- Replicate the lesson code\n",
        "- Complete the code cells we skipped near the beginning of the notebook\n",
        "- Table 2 --> Tidy\n",
        "- Tidy --> Table 2\n",
        "- Load seaborn's `flights` dataset by running the cell below. Then create a pivot table showing the number of passengers by month and year. Use year for the index and month for the columns. You've done it right if you get 112 passengers for January 1949 and 432 passengers for December 1960."
      ]
    },
    {
      "cell_type": "markdown",
      "metadata": {
        "id": "UlvdvU52zvFE",
        "colab_type": "text"
      },
      "source": [
        "### Join Data Section"
      ]
    },
    {
      "cell_type": "code",
      "metadata": {
        "id": "2AmbAKm20PAg",
        "colab_type": "code",
        "colab": {}
      },
      "source": [
        "!wget https://s3.amazonaws.com/instacart-datasets/instacart_online_grocery_shopping_2017_05_01.tar.gz"
      ],
      "execution_count": 0,
      "outputs": []
    },
    {
      "cell_type": "code",
      "metadata": {
        "id": "YHDGtFRxsY5H",
        "colab_type": "code",
        "colab": {}
      },
      "source": [
        "!tar --gunzip --extract --verbose --file=instacart_online_grocery_shopping_2017_05_01.tar.gz"
      ],
      "execution_count": 0,
      "outputs": []
    },
    {
      "cell_type": "code",
      "metadata": {
        "id": "8cI70gr-s8Js",
        "colab_type": "code",
        "colab": {}
      },
      "source": [
        "%cd instacart_2017_05_01"
      ],
      "execution_count": 0,
      "outputs": []
    },
    {
      "cell_type": "code",
      "metadata": {
        "id": "oA0mJCPOsd_r",
        "colab_type": "code",
        "colab": {}
      },
      "source": [
        "import pandas as pd\n",
        "products = pd.read_csv('products.csv')\n",
        "print(products.shape)\n",
        "products.head()"
      ],
      "execution_count": 0,
      "outputs": []
    },
    {
      "cell_type": "code",
      "metadata": {
        "id": "avc5GAybswf7",
        "colab_type": "code",
        "colab": {}
      },
      "source": [
        "order_products__prior = pd.read_csv('order_products__prior.csv')\n",
        "print(order_products__prior.shape)\n",
        "order_products__prior.head()"
      ],
      "execution_count": 0,
      "outputs": []
    },
    {
      "cell_type": "code",
      "metadata": {
        "id": "Eh8x7DIgtHLj",
        "colab_type": "code",
        "colab": {}
      },
      "source": [
        "order_products__train = pd.read_csv('order_products__train.csv')\n",
        "print(order_products__train.shape)\n",
        "order_products__train.head()"
      ],
      "execution_count": 0,
      "outputs": []
    },
    {
      "cell_type": "code",
      "metadata": {
        "id": "W7vhCOBitLrZ",
        "colab_type": "code",
        "colab": {}
      },
      "source": [
        "order_products = pd.concat([order_products__prior, order_products__train])\n",
        "print(order_products.shape)\n",
        "order_products.head()"
      ],
      "execution_count": 0,
      "outputs": []
    },
    {
      "cell_type": "code",
      "metadata": {
        "id": "ODMRdGWFtSWU",
        "colab_type": "code",
        "colab": {}
      },
      "source": [
        "merged = (products[['product_id', 'product_name']].merge(order_products[['product_id', 'order_id', 'add_to_cart_order']]))\n",
        "merged.head()"
      ],
      "execution_count": 0,
      "outputs": []
    },
    {
      "cell_type": "code",
      "metadata": {
        "id": "uRye0EYwuIwT",
        "colab_type": "code",
        "colab": {}
      },
      "source": [
        "# So technically, these items were added to the cart more; however, some of them were not ordered more than other items.\n",
        "merged.groupby('product_name').add_to_cart_order.sum().sort_values(ascending=False)[:10]"
      ],
      "execution_count": 0,
      "outputs": []
    },
    {
      "cell_type": "code",
      "metadata": {
        "id": "3E7EubQWwTKH",
        "colab_type": "code",
        "colab": {}
      },
      "source": [
        "merged.product_name.value_counts()[:10]"
      ],
      "execution_count": 0,
      "outputs": []
    },
    {
      "cell_type": "code",
      "metadata": {
        "id": "Jw3JhsYIwN7D",
        "colab_type": "code",
        "colab": {}
      },
      "source": [
        "product_names = ['Banana',\n",
        "'Bag of Organic Bananas',\n",
        "'Organic Strawberries',\n",
        "'Organic Baby Spinach',\n",
        "'Organic Hass Avocado',\n",
        "'Organic Avocado',\n",
        "'Large Lemon',\n",
        "'Strawberries',\n",
        "'Limes',\n",
        "'Organic Whole Milk']"
      ],
      "execution_count": 0,
      "outputs": []
    },
    {
      "cell_type": "code",
      "metadata": {
        "id": "lDUCMBtawZ5V",
        "colab_type": "code",
        "colab": {}
      },
      "source": [
        "condition = merged['product_name'].isin(product_names)"
      ],
      "execution_count": 0,
      "outputs": []
    },
    {
      "cell_type": "code",
      "metadata": {
        "id": "9g5C-iTFxEIa",
        "colab_type": "code",
        "colab": {}
      },
      "source": [
        "subset = merged[condition]\n",
        "print(subset.shape)\n",
        "subset.head()"
      ],
      "execution_count": 0,
      "outputs": []
    },
    {
      "cell_type": "code",
      "metadata": {
        "id": "y2Xncmq-vpIv",
        "colab_type": "code",
        "colab": {}
      },
      "source": [
        "subset.groupby('product_name').add_to_cart_order.sum().sort_values(ascending=False)[:10]"
      ],
      "execution_count": 0,
      "outputs": []
    },
    {
      "cell_type": "markdown",
      "metadata": {
        "id": "s663PYDTzzZ8",
        "colab_type": "text"
      },
      "source": [
        "### Reshape Data Section"
      ]
    },
    {
      "cell_type": "code",
      "metadata": {
        "id": "Y6Wz1AHEz1gM",
        "colab_type": "code",
        "colab": {}
      },
      "source": [
        "%matplotlib inline\n",
        "import pandas as pd\n",
        "import numpy as np\n",
        "import seaborn as sns\n",
        "\n",
        "table1 = pd.DataFrame(\n",
        "    [[np.nan, 2],\n",
        "     [16,    11], \n",
        "     [3,      1]],\n",
        "    index=['John Smith', 'Jane Doe', 'Mary Johnson'], \n",
        "    columns=['treatmenta', 'treatmentb'])\n",
        "\n",
        "table2 = table1.T"
      ],
      "execution_count": 0,
      "outputs": []
    },
    {
      "cell_type": "markdown",
      "metadata": {
        "colab_type": "text",
        "id": "rYC2f3cP0eIM"
      },
      "source": [
        "\"Table 3 reorganises Table 1 to make the values, variables and obserations more clear.\n",
        "\n",
        "Table 3 is the tidy version of Table 1. Each row represents an observation, the result of one treatment on one person, and each column is a variable.\"\n",
        "\n",
        "| name         | trt | result |\n",
        "|--------------|-----|--------|\n",
        "| John Smith   | a   | -      |\n",
        "| Jane Doe     | a   | 16     |\n",
        "| Mary Johnson | a   | 3      |\n",
        "| John Smith   | b   | 2      |\n",
        "| Jane Doe     | b   | 11     |\n",
        "| Mary Johnson | b   | 1      |"
      ]
    },
    {
      "cell_type": "code",
      "metadata": {
        "id": "1qfV3UXE0FyM",
        "colab_type": "code",
        "colab": {}
      },
      "source": [
        "table2"
      ],
      "execution_count": 0,
      "outputs": []
    },
    {
      "cell_type": "code",
      "metadata": {
        "id": "asi9WSr01Sec",
        "colab_type": "code",
        "colab": {}
      },
      "source": [
        "table2 = table2.reset_index()\n",
        "table2"
      ],
      "execution_count": 0,
      "outputs": []
    },
    {
      "cell_type": "code",
      "metadata": {
        "id": "ScYglm-11_uK",
        "colab_type": "code",
        "colab": {}
      },
      "source": [
        "tidy = table2.melt(id_vars='index')\n",
        "tidy"
      ],
      "execution_count": 0,
      "outputs": []
    },
    {
      "cell_type": "code",
      "metadata": {
        "id": "28Slt78s2Ivq",
        "colab_type": "code",
        "colab": {}
      },
      "source": [
        "tidy = tidy.rename(columns={'index': 'trt', 'variable': 'name', 'value': 'result'})\n",
        "tidy"
      ],
      "execution_count": 0,
      "outputs": []
    },
    {
      "cell_type": "code",
      "metadata": {
        "id": "0SpMVSNT2s9K",
        "colab_type": "code",
        "colab": {}
      },
      "source": [
        "tidy['trt'] = tidy.trt.str.replace('treatment', '')\n",
        "tidy"
      ],
      "execution_count": 0,
      "outputs": []
    },
    {
      "cell_type": "code",
      "metadata": {
        "id": "bv-X-oeA24zF",
        "colab_type": "code",
        "colab": {}
      },
      "source": [
        "# Now lets use pivot table\n",
        "wide = tidy.pivot_table(values='result', index='trt', columns='name')\n",
        "wide"
      ],
      "execution_count": 0,
      "outputs": []
    },
    {
      "cell_type": "markdown",
      "metadata": {
        "id": "ZbDHbdbP3phX",
        "colab_type": "text"
      },
      "source": [
        "### Seaborn flights data"
      ]
    },
    {
      "cell_type": "code",
      "metadata": {
        "id": "fgxulJQq0uLw",
        "colab_type": "code",
        "colab": {}
      },
      "source": [
        "flights = sns.load_dataset('flights')"
      ],
      "execution_count": 0,
      "outputs": []
    },
    {
      "cell_type": "code",
      "metadata": {
        "id": "s5n_cxw-4YmO",
        "colab_type": "code",
        "colab": {}
      },
      "source": [
        "flights"
      ],
      "execution_count": 0,
      "outputs": []
    },
    {
      "cell_type": "code",
      "metadata": {
        "id": "nLyAMeTZ4Lkd",
        "colab_type": "code",
        "colab": {}
      },
      "source": [
        "flights = flights.pivot_table(index='year', columns='month')\n",
        "flights"
      ],
      "execution_count": 0,
      "outputs": []
    },
    {
      "cell_type": "markdown",
      "metadata": {
        "id": "mnOuqL9K0dqh",
        "colab_type": "text"
      },
      "source": [
        "## Join Data Stretch Challenge\n",
        "\n",
        "The [Instacart blog post](https://tech.instacart.com/3-million-instacart-orders-open-sourced-d40d29ead6f2) has a visualization of \"**Popular products** purchased earliest in the day (green) and latest in the day (red).\" \n",
        "\n",
        "The post says,\n",
        "\n",
        "> \"We can also see the time of day that users purchase specific products.\n",
        "\n",
        "> Healthier snacks and staples tend to be purchased earlier in the day, whereas ice cream (especially Half Baked and The Tonight Dough) are far more popular when customers are ordering in the evening.\n",
        "\n",
        "> **In fact, of the top 25 latest ordered products, the first 24 are ice cream! The last one, of course, is a frozen pizza.**\"\n",
        "\n",
        "Your challenge is to reproduce the list of the top 25 latest ordered popular products.\n",
        "\n",
        "We'll define \"popular products\" as products with more than 2,900 orders.\n",
        "\n",
        "## Reshape Data Stretch Challenge\n",
        "\n",
        "_Try whatever sounds most interesting to you!_\n",
        "\n",
        "- Replicate more of Instacart's visualization showing \"Hour of Day Ordered\" vs \"Percent of Orders by Product\"\n",
        "- Replicate parts of the other visualization from [Instacart's blog post](https://tech.instacart.com/3-million-instacart-orders-open-sourced-d40d29ead6f2), showing \"Number of Purchases\" vs \"Percent Reorder Purchases\"\n",
        "- Get the most recent order for each user in Instacart's dataset. This is a useful baseline when [predicting a user's next order](https://www.kaggle.com/c/instacart-market-basket-analysis)\n",
        "- Replicate parts of the blog post linked at the top of this notebook: [Modern Pandas, Part 5: Tidy Data](https://tomaugspurger.github.io/modern-5-tidy.html)"
      ]
    },
    {
      "cell_type": "code",
      "metadata": {
        "id": "qeV6Kalr4tMG",
        "colab_type": "code",
        "outputId": "6eaa567a-ddd1-4ca0-8240-093260ce132e",
        "colab": {
          "base_uri": "https://localhost:8080/",
          "height": 204
        }
      },
      "source": [
        "!wget https://s3.amazonaws.com/instacart-datasets/instacart_online_grocery_shopping_2017_05_01.tar.gz"
      ],
      "execution_count": 1,
      "outputs": [
        {
          "output_type": "stream",
          "text": [
            "--2019-07-28 21:11:38--  https://s3.amazonaws.com/instacart-datasets/instacart_online_grocery_shopping_2017_05_01.tar.gz\n",
            "Resolving s3.amazonaws.com (s3.amazonaws.com)... 52.216.96.53\n",
            "Connecting to s3.amazonaws.com (s3.amazonaws.com)|52.216.96.53|:443... connected.\n",
            "HTTP request sent, awaiting response... 200 OK\n",
            "Length: 205548478 (196M) [application/x-gzip]\n",
            "Saving to: ‘instacart_online_grocery_shopping_2017_05_01.tar.gz’\n",
            "\n",
            "instacart_online_gr 100%[===================>] 196.03M  33.9MB/s    in 6.1s    \n",
            "\n",
            "2019-07-28 21:11:44 (32.3 MB/s) - ‘instacart_online_grocery_shopping_2017_05_01.tar.gz’ saved [205548478/205548478]\n",
            "\n"
          ],
          "name": "stdout"
        }
      ]
    },
    {
      "cell_type": "code",
      "metadata": {
        "id": "0dJDBFjl5CnR",
        "colab_type": "code",
        "outputId": "ec311074-59ea-4966-f99f-1f17a87f572a",
        "colab": {
          "base_uri": "https://localhost:8080/",
          "height": 238
        }
      },
      "source": [
        "!tar --gunzip --extract --verbose --file=instacart_online_grocery_shopping_2017_05_01.tar.gz"
      ],
      "execution_count": 2,
      "outputs": [
        {
          "output_type": "stream",
          "text": [
            "instacart_2017_05_01/\n",
            "instacart_2017_05_01/._aisles.csv\n",
            "instacart_2017_05_01/aisles.csv\n",
            "instacart_2017_05_01/._departments.csv\n",
            "instacart_2017_05_01/departments.csv\n",
            "instacart_2017_05_01/._order_products__prior.csv\n",
            "instacart_2017_05_01/order_products__prior.csv\n",
            "instacart_2017_05_01/._order_products__train.csv\n",
            "instacart_2017_05_01/order_products__train.csv\n",
            "instacart_2017_05_01/._orders.csv\n",
            "instacart_2017_05_01/orders.csv\n",
            "instacart_2017_05_01/._products.csv\n",
            "instacart_2017_05_01/products.csv\n"
          ],
          "name": "stdout"
        }
      ]
    },
    {
      "cell_type": "code",
      "metadata": {
        "id": "YAU9Mh6-5mIs",
        "colab_type": "code",
        "outputId": "868745d4-688e-4699-caa5-de1f47e45962",
        "colab": {
          "base_uri": "https://localhost:8080/",
          "height": 34
        }
      },
      "source": [
        "%cd instacart_2017_05_01"
      ],
      "execution_count": 3,
      "outputs": [
        {
          "output_type": "stream",
          "text": [
            "/content/instacart_2017_05_01\n"
          ],
          "name": "stdout"
        }
      ]
    },
    {
      "cell_type": "code",
      "metadata": {
        "id": "v6sa-H3c59wZ",
        "colab_type": "code",
        "outputId": "3b737013-8894-45c9-cfc8-94c98a255b0a",
        "colab": {
          "base_uri": "https://localhost:8080/",
          "height": 221
        }
      },
      "source": [
        "import pandas as pd\n",
        "products = pd.read_csv('products.csv')\n",
        "print(products.shape)\n",
        "products.head()"
      ],
      "execution_count": 4,
      "outputs": [
        {
          "output_type": "stream",
          "text": [
            "(49688, 4)\n"
          ],
          "name": "stdout"
        },
        {
          "output_type": "execute_result",
          "data": {
            "text/html": [
              "<div>\n",
              "<style scoped>\n",
              "    .dataframe tbody tr th:only-of-type {\n",
              "        vertical-align: middle;\n",
              "    }\n",
              "\n",
              "    .dataframe tbody tr th {\n",
              "        vertical-align: top;\n",
              "    }\n",
              "\n",
              "    .dataframe thead th {\n",
              "        text-align: right;\n",
              "    }\n",
              "</style>\n",
              "<table border=\"1\" class=\"dataframe\">\n",
              "  <thead>\n",
              "    <tr style=\"text-align: right;\">\n",
              "      <th></th>\n",
              "      <th>product_id</th>\n",
              "      <th>product_name</th>\n",
              "      <th>aisle_id</th>\n",
              "      <th>department_id</th>\n",
              "    </tr>\n",
              "  </thead>\n",
              "  <tbody>\n",
              "    <tr>\n",
              "      <th>0</th>\n",
              "      <td>1</td>\n",
              "      <td>Chocolate Sandwich Cookies</td>\n",
              "      <td>61</td>\n",
              "      <td>19</td>\n",
              "    </tr>\n",
              "    <tr>\n",
              "      <th>1</th>\n",
              "      <td>2</td>\n",
              "      <td>All-Seasons Salt</td>\n",
              "      <td>104</td>\n",
              "      <td>13</td>\n",
              "    </tr>\n",
              "    <tr>\n",
              "      <th>2</th>\n",
              "      <td>3</td>\n",
              "      <td>Robust Golden Unsweetened Oolong Tea</td>\n",
              "      <td>94</td>\n",
              "      <td>7</td>\n",
              "    </tr>\n",
              "    <tr>\n",
              "      <th>3</th>\n",
              "      <td>4</td>\n",
              "      <td>Smart Ones Classic Favorites Mini Rigatoni Wit...</td>\n",
              "      <td>38</td>\n",
              "      <td>1</td>\n",
              "    </tr>\n",
              "    <tr>\n",
              "      <th>4</th>\n",
              "      <td>5</td>\n",
              "      <td>Green Chile Anytime Sauce</td>\n",
              "      <td>5</td>\n",
              "      <td>13</td>\n",
              "    </tr>\n",
              "  </tbody>\n",
              "</table>\n",
              "</div>"
            ],
            "text/plain": [
              "   product_id  ... department_id\n",
              "0           1  ...            19\n",
              "1           2  ...            13\n",
              "2           3  ...             7\n",
              "3           4  ...             1\n",
              "4           5  ...            13\n",
              "\n",
              "[5 rows x 4 columns]"
            ]
          },
          "metadata": {
            "tags": []
          },
          "execution_count": 4
        }
      ]
    },
    {
      "cell_type": "code",
      "metadata": {
        "id": "nxMx6MAs6zW9",
        "colab_type": "code",
        "outputId": "008b720b-3ee1-4d8e-db09-49401d1fbec1",
        "colab": {
          "base_uri": "https://localhost:8080/",
          "height": 221
        }
      },
      "source": [
        "order_products__prior = pd.read_csv('order_products__prior.csv')\n",
        "print(order_products__prior.shape)\n",
        "order_products__prior.head()"
      ],
      "execution_count": 5,
      "outputs": [
        {
          "output_type": "stream",
          "text": [
            "(32434489, 4)\n"
          ],
          "name": "stdout"
        },
        {
          "output_type": "execute_result",
          "data": {
            "text/html": [
              "<div>\n",
              "<style scoped>\n",
              "    .dataframe tbody tr th:only-of-type {\n",
              "        vertical-align: middle;\n",
              "    }\n",
              "\n",
              "    .dataframe tbody tr th {\n",
              "        vertical-align: top;\n",
              "    }\n",
              "\n",
              "    .dataframe thead th {\n",
              "        text-align: right;\n",
              "    }\n",
              "</style>\n",
              "<table border=\"1\" class=\"dataframe\">\n",
              "  <thead>\n",
              "    <tr style=\"text-align: right;\">\n",
              "      <th></th>\n",
              "      <th>order_id</th>\n",
              "      <th>product_id</th>\n",
              "      <th>add_to_cart_order</th>\n",
              "      <th>reordered</th>\n",
              "    </tr>\n",
              "  </thead>\n",
              "  <tbody>\n",
              "    <tr>\n",
              "      <th>0</th>\n",
              "      <td>2</td>\n",
              "      <td>33120</td>\n",
              "      <td>1</td>\n",
              "      <td>1</td>\n",
              "    </tr>\n",
              "    <tr>\n",
              "      <th>1</th>\n",
              "      <td>2</td>\n",
              "      <td>28985</td>\n",
              "      <td>2</td>\n",
              "      <td>1</td>\n",
              "    </tr>\n",
              "    <tr>\n",
              "      <th>2</th>\n",
              "      <td>2</td>\n",
              "      <td>9327</td>\n",
              "      <td>3</td>\n",
              "      <td>0</td>\n",
              "    </tr>\n",
              "    <tr>\n",
              "      <th>3</th>\n",
              "      <td>2</td>\n",
              "      <td>45918</td>\n",
              "      <td>4</td>\n",
              "      <td>1</td>\n",
              "    </tr>\n",
              "    <tr>\n",
              "      <th>4</th>\n",
              "      <td>2</td>\n",
              "      <td>30035</td>\n",
              "      <td>5</td>\n",
              "      <td>0</td>\n",
              "    </tr>\n",
              "  </tbody>\n",
              "</table>\n",
              "</div>"
            ],
            "text/plain": [
              "   order_id  product_id  add_to_cart_order  reordered\n",
              "0         2       33120                  1          1\n",
              "1         2       28985                  2          1\n",
              "2         2        9327                  3          0\n",
              "3         2       45918                  4          1\n",
              "4         2       30035                  5          0"
            ]
          },
          "metadata": {
            "tags": []
          },
          "execution_count": 5
        }
      ]
    },
    {
      "cell_type": "code",
      "metadata": {
        "id": "lt-sVGVl626F",
        "colab_type": "code",
        "outputId": "6af254c5-1dd6-4973-9587-52f8fbb535ee",
        "colab": {
          "base_uri": "https://localhost:8080/",
          "height": 221
        }
      },
      "source": [
        "order_products__train = pd.read_csv('order_products__train.csv')\n",
        "print(order_products__train.shape)\n",
        "order_products__train.head()"
      ],
      "execution_count": 6,
      "outputs": [
        {
          "output_type": "stream",
          "text": [
            "(1384617, 4)\n"
          ],
          "name": "stdout"
        },
        {
          "output_type": "execute_result",
          "data": {
            "text/html": [
              "<div>\n",
              "<style scoped>\n",
              "    .dataframe tbody tr th:only-of-type {\n",
              "        vertical-align: middle;\n",
              "    }\n",
              "\n",
              "    .dataframe tbody tr th {\n",
              "        vertical-align: top;\n",
              "    }\n",
              "\n",
              "    .dataframe thead th {\n",
              "        text-align: right;\n",
              "    }\n",
              "</style>\n",
              "<table border=\"1\" class=\"dataframe\">\n",
              "  <thead>\n",
              "    <tr style=\"text-align: right;\">\n",
              "      <th></th>\n",
              "      <th>order_id</th>\n",
              "      <th>product_id</th>\n",
              "      <th>add_to_cart_order</th>\n",
              "      <th>reordered</th>\n",
              "    </tr>\n",
              "  </thead>\n",
              "  <tbody>\n",
              "    <tr>\n",
              "      <th>0</th>\n",
              "      <td>1</td>\n",
              "      <td>49302</td>\n",
              "      <td>1</td>\n",
              "      <td>1</td>\n",
              "    </tr>\n",
              "    <tr>\n",
              "      <th>1</th>\n",
              "      <td>1</td>\n",
              "      <td>11109</td>\n",
              "      <td>2</td>\n",
              "      <td>1</td>\n",
              "    </tr>\n",
              "    <tr>\n",
              "      <th>2</th>\n",
              "      <td>1</td>\n",
              "      <td>10246</td>\n",
              "      <td>3</td>\n",
              "      <td>0</td>\n",
              "    </tr>\n",
              "    <tr>\n",
              "      <th>3</th>\n",
              "      <td>1</td>\n",
              "      <td>49683</td>\n",
              "      <td>4</td>\n",
              "      <td>0</td>\n",
              "    </tr>\n",
              "    <tr>\n",
              "      <th>4</th>\n",
              "      <td>1</td>\n",
              "      <td>43633</td>\n",
              "      <td>5</td>\n",
              "      <td>1</td>\n",
              "    </tr>\n",
              "  </tbody>\n",
              "</table>\n",
              "</div>"
            ],
            "text/plain": [
              "   order_id  product_id  add_to_cart_order  reordered\n",
              "0         1       49302                  1          1\n",
              "1         1       11109                  2          1\n",
              "2         1       10246                  3          0\n",
              "3         1       49683                  4          0\n",
              "4         1       43633                  5          1"
            ]
          },
          "metadata": {
            "tags": []
          },
          "execution_count": 6
        }
      ]
    },
    {
      "cell_type": "code",
      "metadata": {
        "id": "EJ3vupd26-73",
        "colab_type": "code",
        "outputId": "a12311ed-e967-4a8d-a245-daa6e7c7c484",
        "colab": {
          "base_uri": "https://localhost:8080/",
          "height": 221
        }
      },
      "source": [
        "order_products = pd.concat([order_products__prior, order_products__train])\n",
        "print(order_products.shape)\n",
        "order_products.head()"
      ],
      "execution_count": 7,
      "outputs": [
        {
          "output_type": "stream",
          "text": [
            "(33819106, 4)\n"
          ],
          "name": "stdout"
        },
        {
          "output_type": "execute_result",
          "data": {
            "text/html": [
              "<div>\n",
              "<style scoped>\n",
              "    .dataframe tbody tr th:only-of-type {\n",
              "        vertical-align: middle;\n",
              "    }\n",
              "\n",
              "    .dataframe tbody tr th {\n",
              "        vertical-align: top;\n",
              "    }\n",
              "\n",
              "    .dataframe thead th {\n",
              "        text-align: right;\n",
              "    }\n",
              "</style>\n",
              "<table border=\"1\" class=\"dataframe\">\n",
              "  <thead>\n",
              "    <tr style=\"text-align: right;\">\n",
              "      <th></th>\n",
              "      <th>order_id</th>\n",
              "      <th>product_id</th>\n",
              "      <th>add_to_cart_order</th>\n",
              "      <th>reordered</th>\n",
              "    </tr>\n",
              "  </thead>\n",
              "  <tbody>\n",
              "    <tr>\n",
              "      <th>0</th>\n",
              "      <td>2</td>\n",
              "      <td>33120</td>\n",
              "      <td>1</td>\n",
              "      <td>1</td>\n",
              "    </tr>\n",
              "    <tr>\n",
              "      <th>1</th>\n",
              "      <td>2</td>\n",
              "      <td>28985</td>\n",
              "      <td>2</td>\n",
              "      <td>1</td>\n",
              "    </tr>\n",
              "    <tr>\n",
              "      <th>2</th>\n",
              "      <td>2</td>\n",
              "      <td>9327</td>\n",
              "      <td>3</td>\n",
              "      <td>0</td>\n",
              "    </tr>\n",
              "    <tr>\n",
              "      <th>3</th>\n",
              "      <td>2</td>\n",
              "      <td>45918</td>\n",
              "      <td>4</td>\n",
              "      <td>1</td>\n",
              "    </tr>\n",
              "    <tr>\n",
              "      <th>4</th>\n",
              "      <td>2</td>\n",
              "      <td>30035</td>\n",
              "      <td>5</td>\n",
              "      <td>0</td>\n",
              "    </tr>\n",
              "  </tbody>\n",
              "</table>\n",
              "</div>"
            ],
            "text/plain": [
              "   order_id  product_id  add_to_cart_order  reordered\n",
              "0         2       33120                  1          1\n",
              "1         2       28985                  2          1\n",
              "2         2        9327                  3          0\n",
              "3         2       45918                  4          1\n",
              "4         2       30035                  5          0"
            ]
          },
          "metadata": {
            "tags": []
          },
          "execution_count": 7
        }
      ]
    },
    {
      "cell_type": "code",
      "metadata": {
        "id": "FEqFjX-S7C-g",
        "colab_type": "code",
        "outputId": "96d01db6-56d4-4c4b-f68f-6bdee9f84882",
        "colab": {
          "base_uri": "https://localhost:8080/",
          "height": 221
        }
      },
      "source": [
        "orders = pd.read_csv('orders.csv')\n",
        "print(orders.shape)\n",
        "orders.head()"
      ],
      "execution_count": 8,
      "outputs": [
        {
          "output_type": "stream",
          "text": [
            "(3421083, 7)\n"
          ],
          "name": "stdout"
        },
        {
          "output_type": "execute_result",
          "data": {
            "text/html": [
              "<div>\n",
              "<style scoped>\n",
              "    .dataframe tbody tr th:only-of-type {\n",
              "        vertical-align: middle;\n",
              "    }\n",
              "\n",
              "    .dataframe tbody tr th {\n",
              "        vertical-align: top;\n",
              "    }\n",
              "\n",
              "    .dataframe thead th {\n",
              "        text-align: right;\n",
              "    }\n",
              "</style>\n",
              "<table border=\"1\" class=\"dataframe\">\n",
              "  <thead>\n",
              "    <tr style=\"text-align: right;\">\n",
              "      <th></th>\n",
              "      <th>order_id</th>\n",
              "      <th>user_id</th>\n",
              "      <th>eval_set</th>\n",
              "      <th>order_number</th>\n",
              "      <th>order_dow</th>\n",
              "      <th>order_hour_of_day</th>\n",
              "      <th>days_since_prior_order</th>\n",
              "    </tr>\n",
              "  </thead>\n",
              "  <tbody>\n",
              "    <tr>\n",
              "      <th>0</th>\n",
              "      <td>2539329</td>\n",
              "      <td>1</td>\n",
              "      <td>prior</td>\n",
              "      <td>1</td>\n",
              "      <td>2</td>\n",
              "      <td>8</td>\n",
              "      <td>NaN</td>\n",
              "    </tr>\n",
              "    <tr>\n",
              "      <th>1</th>\n",
              "      <td>2398795</td>\n",
              "      <td>1</td>\n",
              "      <td>prior</td>\n",
              "      <td>2</td>\n",
              "      <td>3</td>\n",
              "      <td>7</td>\n",
              "      <td>15.0</td>\n",
              "    </tr>\n",
              "    <tr>\n",
              "      <th>2</th>\n",
              "      <td>473747</td>\n",
              "      <td>1</td>\n",
              "      <td>prior</td>\n",
              "      <td>3</td>\n",
              "      <td>3</td>\n",
              "      <td>12</td>\n",
              "      <td>21.0</td>\n",
              "    </tr>\n",
              "    <tr>\n",
              "      <th>3</th>\n",
              "      <td>2254736</td>\n",
              "      <td>1</td>\n",
              "      <td>prior</td>\n",
              "      <td>4</td>\n",
              "      <td>4</td>\n",
              "      <td>7</td>\n",
              "      <td>29.0</td>\n",
              "    </tr>\n",
              "    <tr>\n",
              "      <th>4</th>\n",
              "      <td>431534</td>\n",
              "      <td>1</td>\n",
              "      <td>prior</td>\n",
              "      <td>5</td>\n",
              "      <td>4</td>\n",
              "      <td>15</td>\n",
              "      <td>28.0</td>\n",
              "    </tr>\n",
              "  </tbody>\n",
              "</table>\n",
              "</div>"
            ],
            "text/plain": [
              "   order_id  user_id  ... order_hour_of_day  days_since_prior_order\n",
              "0   2539329        1  ...                 8                     NaN\n",
              "1   2398795        1  ...                 7                    15.0\n",
              "2    473747        1  ...                12                    21.0\n",
              "3   2254736        1  ...                 7                    29.0\n",
              "4    431534        1  ...                15                    28.0\n",
              "\n",
              "[5 rows x 7 columns]"
            ]
          },
          "metadata": {
            "tags": []
          },
          "execution_count": 8
        }
      ]
    },
    {
      "cell_type": "code",
      "metadata": {
        "id": "fNbe-vs47MyB",
        "colab_type": "code",
        "outputId": "f2555af8-7c60-4acc-e512-d11cc26c0784",
        "colab": {
          "base_uri": "https://localhost:8080/",
          "height": 221
        }
      },
      "source": [
        "df = (products[['product_id', 'product_name']]\n",
        "      .merge(order_products[['product_id', 'order_id', 'add_to_cart_order']])\n",
        "      .merge(orders[['order_id', 'order_hour_of_day']]))\n",
        "print(df.shape)\n",
        "df.head()\n",
        "\n"
      ],
      "execution_count": 9,
      "outputs": [
        {
          "output_type": "stream",
          "text": [
            "(33819106, 5)\n"
          ],
          "name": "stdout"
        },
        {
          "output_type": "execute_result",
          "data": {
            "text/html": [
              "<div>\n",
              "<style scoped>\n",
              "    .dataframe tbody tr th:only-of-type {\n",
              "        vertical-align: middle;\n",
              "    }\n",
              "\n",
              "    .dataframe tbody tr th {\n",
              "        vertical-align: top;\n",
              "    }\n",
              "\n",
              "    .dataframe thead th {\n",
              "        text-align: right;\n",
              "    }\n",
              "</style>\n",
              "<table border=\"1\" class=\"dataframe\">\n",
              "  <thead>\n",
              "    <tr style=\"text-align: right;\">\n",
              "      <th></th>\n",
              "      <th>product_id</th>\n",
              "      <th>product_name</th>\n",
              "      <th>order_id</th>\n",
              "      <th>add_to_cart_order</th>\n",
              "      <th>order_hour_of_day</th>\n",
              "    </tr>\n",
              "  </thead>\n",
              "  <tbody>\n",
              "    <tr>\n",
              "      <th>0</th>\n",
              "      <td>1</td>\n",
              "      <td>Chocolate Sandwich Cookies</td>\n",
              "      <td>1107</td>\n",
              "      <td>7</td>\n",
              "      <td>11</td>\n",
              "    </tr>\n",
              "    <tr>\n",
              "      <th>1</th>\n",
              "      <td>769</td>\n",
              "      <td>Sliced American Cheese</td>\n",
              "      <td>1107</td>\n",
              "      <td>10</td>\n",
              "      <td>11</td>\n",
              "    </tr>\n",
              "    <tr>\n",
              "      <th>2</th>\n",
              "      <td>6184</td>\n",
              "      <td>Clementines</td>\n",
              "      <td>1107</td>\n",
              "      <td>14</td>\n",
              "      <td>11</td>\n",
              "    </tr>\n",
              "    <tr>\n",
              "      <th>3</th>\n",
              "      <td>8048</td>\n",
              "      <td>Packaged Grape Tomatoes</td>\n",
              "      <td>1107</td>\n",
              "      <td>15</td>\n",
              "      <td>11</td>\n",
              "    </tr>\n",
              "    <tr>\n",
              "      <th>4</th>\n",
              "      <td>9007</td>\n",
              "      <td>Frosted Flakes</td>\n",
              "      <td>1107</td>\n",
              "      <td>17</td>\n",
              "      <td>11</td>\n",
              "    </tr>\n",
              "  </tbody>\n",
              "</table>\n",
              "</div>"
            ],
            "text/plain": [
              "   product_id                product_name  ...  add_to_cart_order  order_hour_of_day\n",
              "0           1  Chocolate Sandwich Cookies  ...                  7                 11\n",
              "1         769      Sliced American Cheese  ...                 10                 11\n",
              "2        6184                 Clementines  ...                 14                 11\n",
              "3        8048     Packaged Grape Tomatoes  ...                 15                 11\n",
              "4        9007              Frosted Flakes  ...                 17                 11\n",
              "\n",
              "[5 rows x 5 columns]"
            ]
          },
          "metadata": {
            "tags": []
          },
          "execution_count": 9
        }
      ]
    },
    {
      "cell_type": "code",
      "metadata": {
        "id": "k8zYgYsW92le",
        "colab_type": "code",
        "colab": {}
      },
      "source": [
        "# Now we can simplify our dataset by getting all items\n",
        "# that have been ordered more than 2900 times\n",
        "\n",
        "# Here we have test = list of number of orders \n",
        "# values = product name for each order\n",
        "test = df.product_name.value_counts().tolist()\n",
        "values = df.product_name.value_counts().keys().tolist()\n",
        "\n",
        "all_orders = [[x, y] for x, y in zip(values, test)]\n",
        "\n",
        "all_orders = pd.DataFrame(all_orders, columns=['item','orders'])\n",
        "\n",
        "# this returns all items that have been ordered more than 2900 times in the dataset\n",
        "over_2900 = all_orders[all_orders.orders > 2900]\n",
        "\n"
      ],
      "execution_count": 0,
      "outputs": []
    },
    {
      "cell_type": "code",
      "metadata": {
        "id": "ihVS347tJV0H",
        "colab_type": "code",
        "outputId": "a80d5544-aa24-4781-bebd-431dfa333d5a",
        "colab": {
          "base_uri": "https://localhost:8080/",
          "height": 221
        }
      },
      "source": [
        "# Now we need to subset our original dataframe, so we'll make a list of the products \n",
        "# that have been ordered over 2900 times and pass that as a condition for our original dataframe\n",
        "\n",
        "product_names = over_2900.item.tolist()\n",
        "\n",
        "condition = df['product_name'].isin(product_names)\n",
        "\n",
        "subset = df[condition]\n",
        "print(subset.shape)\n",
        "subset.head()"
      ],
      "execution_count": 129,
      "outputs": [
        {
          "output_type": "stream",
          "text": [
            "(22450886, 5)\n"
          ],
          "name": "stdout"
        },
        {
          "output_type": "execute_result",
          "data": {
            "text/html": [
              "<div>\n",
              "<style scoped>\n",
              "    .dataframe tbody tr th:only-of-type {\n",
              "        vertical-align: middle;\n",
              "    }\n",
              "\n",
              "    .dataframe tbody tr th {\n",
              "        vertical-align: top;\n",
              "    }\n",
              "\n",
              "    .dataframe thead th {\n",
              "        text-align: right;\n",
              "    }\n",
              "</style>\n",
              "<table border=\"1\" class=\"dataframe\">\n",
              "  <thead>\n",
              "    <tr style=\"text-align: right;\">\n",
              "      <th></th>\n",
              "      <th>product_id</th>\n",
              "      <th>product_name</th>\n",
              "      <th>order_id</th>\n",
              "      <th>add_to_cart_order</th>\n",
              "      <th>order_hour_of_day</th>\n",
              "    </tr>\n",
              "  </thead>\n",
              "  <tbody>\n",
              "    <tr>\n",
              "      <th>2</th>\n",
              "      <td>6184</td>\n",
              "      <td>Clementines</td>\n",
              "      <td>1107</td>\n",
              "      <td>14</td>\n",
              "      <td>11</td>\n",
              "    </tr>\n",
              "    <tr>\n",
              "      <th>3</th>\n",
              "      <td>8048</td>\n",
              "      <td>Packaged Grape Tomatoes</td>\n",
              "      <td>1107</td>\n",
              "      <td>15</td>\n",
              "      <td>11</td>\n",
              "    </tr>\n",
              "    <tr>\n",
              "      <th>6</th>\n",
              "      <td>12078</td>\n",
              "      <td>Shredded Mexican Blend Cheese</td>\n",
              "      <td>1107</td>\n",
              "      <td>9</td>\n",
              "      <td>11</td>\n",
              "    </tr>\n",
              "    <tr>\n",
              "      <th>7</th>\n",
              "      <td>13176</td>\n",
              "      <td>Bag of Organic Bananas</td>\n",
              "      <td>1107</td>\n",
              "      <td>3</td>\n",
              "      <td>11</td>\n",
              "    </tr>\n",
              "    <tr>\n",
              "      <th>8</th>\n",
              "      <td>16797</td>\n",
              "      <td>Strawberries</td>\n",
              "      <td>1107</td>\n",
              "      <td>1</td>\n",
              "      <td>11</td>\n",
              "    </tr>\n",
              "  </tbody>\n",
              "</table>\n",
              "</div>"
            ],
            "text/plain": [
              "   product_id  ... order_hour_of_day\n",
              "2        6184  ...                11\n",
              "3        8048  ...                11\n",
              "6       12078  ...                11\n",
              "7       13176  ...                11\n",
              "8       16797  ...                11\n",
              "\n",
              "[5 rows x 5 columns]"
            ]
          },
          "metadata": {
            "tags": []
          },
          "execution_count": 129
        }
      ]
    },
    {
      "cell_type": "code",
      "metadata": {
        "id": "h07BzzHqL0uX",
        "colab_type": "code",
        "outputId": "fb95b742-c6b7-4b0b-d46e-cb96c913a6f7",
        "colab": {
          "base_uri": "https://localhost:8080/",
          "height": 182
        }
      },
      "source": [
        "# okay, now we need to count the number of product orders for each hour in the day\n",
        "\n",
        "# a note about the error we see in this cell:\n",
        "# we're setting a value (the count for each product) to a slice (subset['count']) of the full dataset\n",
        "# it would be better to use subset.loc[:,'count'] = (the count for each product)\n",
        "\n",
        "subset['count'] = subset.groupby(['order_hour_of_day', 'product_name'])['order_id'].transform('count')\n",
        "subset.head(1)\n",
        "  "
      ],
      "execution_count": 131,
      "outputs": [
        {
          "output_type": "stream",
          "text": [
            "/usr/local/lib/python3.6/dist-packages/ipykernel_launcher.py:2: SettingWithCopyWarning: \n",
            "A value is trying to be set on a copy of a slice from a DataFrame.\n",
            "Try using .loc[row_indexer,col_indexer] = value instead\n",
            "\n",
            "See the caveats in the documentation: http://pandas.pydata.org/pandas-docs/stable/indexing.html#indexing-view-versus-copy\n",
            "  \n"
          ],
          "name": "stderr"
        },
        {
          "output_type": "execute_result",
          "data": {
            "text/html": [
              "<div>\n",
              "<style scoped>\n",
              "    .dataframe tbody tr th:only-of-type {\n",
              "        vertical-align: middle;\n",
              "    }\n",
              "\n",
              "    .dataframe tbody tr th {\n",
              "        vertical-align: top;\n",
              "    }\n",
              "\n",
              "    .dataframe thead th {\n",
              "        text-align: right;\n",
              "    }\n",
              "</style>\n",
              "<table border=\"1\" class=\"dataframe\">\n",
              "  <thead>\n",
              "    <tr style=\"text-align: right;\">\n",
              "      <th></th>\n",
              "      <th>product_id</th>\n",
              "      <th>product_name</th>\n",
              "      <th>order_id</th>\n",
              "      <th>add_to_cart_order</th>\n",
              "      <th>order_hour_of_day</th>\n",
              "      <th>count</th>\n",
              "    </tr>\n",
              "  </thead>\n",
              "  <tbody>\n",
              "    <tr>\n",
              "      <th>2</th>\n",
              "      <td>6184</td>\n",
              "      <td>Clementines</td>\n",
              "      <td>1107</td>\n",
              "      <td>14</td>\n",
              "      <td>11</td>\n",
              "      <td>3397</td>\n",
              "    </tr>\n",
              "  </tbody>\n",
              "</table>\n",
              "</div>"
            ],
            "text/plain": [
              "   product_id product_name  ...  order_hour_of_day  count\n",
              "2        6184  Clementines  ...                 11   3397\n",
              "\n",
              "[1 rows x 6 columns]"
            ]
          },
          "metadata": {
            "tags": []
          },
          "execution_count": 131
        }
      ]
    },
    {
      "cell_type": "code",
      "metadata": {
        "colab_type": "code",
        "outputId": "1d866d3f-f808-4ded-c2ef-e93c97df63be",
        "id": "eVoxFKJHqTTP",
        "colab": {
          "base_uri": "https://localhost:8080/",
          "height": 204
        }
      },
      "source": [
        "subset = subset.drop(['order_id', 'add_to_cart_order'], axis = 1)\n",
        "subset = subset.drop_duplicates()\n",
        "subset.head()"
      ],
      "execution_count": 133,
      "outputs": [
        {
          "output_type": "execute_result",
          "data": {
            "text/html": [
              "<div>\n",
              "<style scoped>\n",
              "    .dataframe tbody tr th:only-of-type {\n",
              "        vertical-align: middle;\n",
              "    }\n",
              "\n",
              "    .dataframe tbody tr th {\n",
              "        vertical-align: top;\n",
              "    }\n",
              "\n",
              "    .dataframe thead th {\n",
              "        text-align: right;\n",
              "    }\n",
              "</style>\n",
              "<table border=\"1\" class=\"dataframe\">\n",
              "  <thead>\n",
              "    <tr style=\"text-align: right;\">\n",
              "      <th></th>\n",
              "      <th>product_id</th>\n",
              "      <th>product_name</th>\n",
              "      <th>order_hour_of_day</th>\n",
              "      <th>count</th>\n",
              "    </tr>\n",
              "  </thead>\n",
              "  <tbody>\n",
              "    <tr>\n",
              "      <th>2</th>\n",
              "      <td>6184</td>\n",
              "      <td>Clementines</td>\n",
              "      <td>11</td>\n",
              "      <td>3397</td>\n",
              "    </tr>\n",
              "    <tr>\n",
              "      <th>3</th>\n",
              "      <td>8048</td>\n",
              "      <td>Packaged Grape Tomatoes</td>\n",
              "      <td>11</td>\n",
              "      <td>1301</td>\n",
              "    </tr>\n",
              "    <tr>\n",
              "      <th>6</th>\n",
              "      <td>12078</td>\n",
              "      <td>Shredded Mexican Blend Cheese</td>\n",
              "      <td>11</td>\n",
              "      <td>339</td>\n",
              "    </tr>\n",
              "    <tr>\n",
              "      <th>7</th>\n",
              "      <td>13176</td>\n",
              "      <td>Bag of Organic Bananas</td>\n",
              "      <td>11</td>\n",
              "      <td>32107</td>\n",
              "    </tr>\n",
              "    <tr>\n",
              "      <th>8</th>\n",
              "      <td>16797</td>\n",
              "      <td>Strawberries</td>\n",
              "      <td>11</td>\n",
              "      <td>12361</td>\n",
              "    </tr>\n",
              "  </tbody>\n",
              "</table>\n",
              "</div>"
            ],
            "text/plain": [
              "   product_id                   product_name  order_hour_of_day  count\n",
              "2        6184                    Clementines                 11   3397\n",
              "3        8048        Packaged Grape Tomatoes                 11   1301\n",
              "6       12078  Shredded Mexican Blend Cheese                 11    339\n",
              "7       13176         Bag of Organic Bananas                 11  32107\n",
              "8       16797                   Strawberries                 11  12361"
            ]
          },
          "metadata": {
            "tags": []
          },
          "execution_count": 133
        }
      ]
    },
    {
      "cell_type": "code",
      "metadata": {
        "id": "ymacxADJPOWw",
        "colab_type": "code",
        "outputId": "587f3986-5f22-46f4-98e9-49f97e66bf6f",
        "colab": {
          "base_uri": "https://localhost:8080/",
          "height": 204
        }
      },
      "source": [
        "subset['percent'] = (subset['count'] / (subset.groupby('order_hour_of_day')['count'].transform('sum')))\n",
        "subset.head()"
      ],
      "execution_count": 134,
      "outputs": [
        {
          "output_type": "execute_result",
          "data": {
            "text/html": [
              "<div>\n",
              "<style scoped>\n",
              "    .dataframe tbody tr th:only-of-type {\n",
              "        vertical-align: middle;\n",
              "    }\n",
              "\n",
              "    .dataframe tbody tr th {\n",
              "        vertical-align: top;\n",
              "    }\n",
              "\n",
              "    .dataframe thead th {\n",
              "        text-align: right;\n",
              "    }\n",
              "</style>\n",
              "<table border=\"1\" class=\"dataframe\">\n",
              "  <thead>\n",
              "    <tr style=\"text-align: right;\">\n",
              "      <th></th>\n",
              "      <th>product_id</th>\n",
              "      <th>product_name</th>\n",
              "      <th>order_hour_of_day</th>\n",
              "      <th>count</th>\n",
              "      <th>percent</th>\n",
              "    </tr>\n",
              "  </thead>\n",
              "  <tbody>\n",
              "    <tr>\n",
              "      <th>2</th>\n",
              "      <td>6184</td>\n",
              "      <td>Clementines</td>\n",
              "      <td>11</td>\n",
              "      <td>3397</td>\n",
              "      <td>0.001796</td>\n",
              "    </tr>\n",
              "    <tr>\n",
              "      <th>3</th>\n",
              "      <td>8048</td>\n",
              "      <td>Packaged Grape Tomatoes</td>\n",
              "      <td>11</td>\n",
              "      <td>1301</td>\n",
              "      <td>0.000688</td>\n",
              "    </tr>\n",
              "    <tr>\n",
              "      <th>6</th>\n",
              "      <td>12078</td>\n",
              "      <td>Shredded Mexican Blend Cheese</td>\n",
              "      <td>11</td>\n",
              "      <td>339</td>\n",
              "      <td>0.000179</td>\n",
              "    </tr>\n",
              "    <tr>\n",
              "      <th>7</th>\n",
              "      <td>13176</td>\n",
              "      <td>Bag of Organic Bananas</td>\n",
              "      <td>11</td>\n",
              "      <td>32107</td>\n",
              "      <td>0.016972</td>\n",
              "    </tr>\n",
              "    <tr>\n",
              "      <th>8</th>\n",
              "      <td>16797</td>\n",
              "      <td>Strawberries</td>\n",
              "      <td>11</td>\n",
              "      <td>12361</td>\n",
              "      <td>0.006534</td>\n",
              "    </tr>\n",
              "  </tbody>\n",
              "</table>\n",
              "</div>"
            ],
            "text/plain": [
              "   product_id                   product_name  ...  count   percent\n",
              "2        6184                    Clementines  ...   3397  0.001796\n",
              "3        8048        Packaged Grape Tomatoes  ...   1301  0.000688\n",
              "6       12078  Shredded Mexican Blend Cheese  ...    339  0.000179\n",
              "7       13176         Bag of Organic Bananas  ...  32107  0.016972\n",
              "8       16797                   Strawberries  ...  12361  0.006534\n",
              "\n",
              "[5 rows x 5 columns]"
            ]
          },
          "metadata": {
            "tags": []
          },
          "execution_count": 134
        }
      ]
    },
    {
      "cell_type": "code",
      "metadata": {
        "id": "jwC88asJcINX",
        "colab_type": "code",
        "colab": {
          "base_uri": "https://localhost:8080/",
          "height": 102
        },
        "outputId": "8626e8c5-b74c-459e-bf75-9b1ae8442505"
      },
      "source": [
        "test = subset.product_name.unique().tolist()\n",
        "test[:5]"
      ],
      "execution_count": 135,
      "outputs": [
        {
          "output_type": "execute_result",
          "data": {
            "text/plain": [
              "['Clementines',\n",
              " 'Packaged Grape Tomatoes',\n",
              " 'Shredded Mexican Blend Cheese',\n",
              " 'Bag of Organic Bananas',\n",
              " 'Strawberries']"
            ]
          },
          "metadata": {
            "tags": []
          },
          "execution_count": 135
        }
      ]
    },
    {
      "cell_type": "code",
      "metadata": {
        "id": "glihCpiYxYfJ",
        "colab_type": "code",
        "colab": {
          "base_uri": "https://localhost:8080/",
          "height": 204
        },
        "outputId": "202f1fb3-7eee-4f03-f590-6ce14c170bf2"
      },
      "source": [
        "subset['test'] = 'NaN'\n",
        "subset.head()"
      ],
      "execution_count": 136,
      "outputs": [
        {
          "output_type": "execute_result",
          "data": {
            "text/html": [
              "<div>\n",
              "<style scoped>\n",
              "    .dataframe tbody tr th:only-of-type {\n",
              "        vertical-align: middle;\n",
              "    }\n",
              "\n",
              "    .dataframe tbody tr th {\n",
              "        vertical-align: top;\n",
              "    }\n",
              "\n",
              "    .dataframe thead th {\n",
              "        text-align: right;\n",
              "    }\n",
              "</style>\n",
              "<table border=\"1\" class=\"dataframe\">\n",
              "  <thead>\n",
              "    <tr style=\"text-align: right;\">\n",
              "      <th></th>\n",
              "      <th>product_id</th>\n",
              "      <th>product_name</th>\n",
              "      <th>order_hour_of_day</th>\n",
              "      <th>count</th>\n",
              "      <th>percent</th>\n",
              "      <th>test</th>\n",
              "    </tr>\n",
              "  </thead>\n",
              "  <tbody>\n",
              "    <tr>\n",
              "      <th>2</th>\n",
              "      <td>6184</td>\n",
              "      <td>Clementines</td>\n",
              "      <td>11</td>\n",
              "      <td>3397</td>\n",
              "      <td>0.001796</td>\n",
              "      <td>NaN</td>\n",
              "    </tr>\n",
              "    <tr>\n",
              "      <th>3</th>\n",
              "      <td>8048</td>\n",
              "      <td>Packaged Grape Tomatoes</td>\n",
              "      <td>11</td>\n",
              "      <td>1301</td>\n",
              "      <td>0.000688</td>\n",
              "      <td>NaN</td>\n",
              "    </tr>\n",
              "    <tr>\n",
              "      <th>6</th>\n",
              "      <td>12078</td>\n",
              "      <td>Shredded Mexican Blend Cheese</td>\n",
              "      <td>11</td>\n",
              "      <td>339</td>\n",
              "      <td>0.000179</td>\n",
              "      <td>NaN</td>\n",
              "    </tr>\n",
              "    <tr>\n",
              "      <th>7</th>\n",
              "      <td>13176</td>\n",
              "      <td>Bag of Organic Bananas</td>\n",
              "      <td>11</td>\n",
              "      <td>32107</td>\n",
              "      <td>0.016972</td>\n",
              "      <td>NaN</td>\n",
              "    </tr>\n",
              "    <tr>\n",
              "      <th>8</th>\n",
              "      <td>16797</td>\n",
              "      <td>Strawberries</td>\n",
              "      <td>11</td>\n",
              "      <td>12361</td>\n",
              "      <td>0.006534</td>\n",
              "      <td>NaN</td>\n",
              "    </tr>\n",
              "  </tbody>\n",
              "</table>\n",
              "</div>"
            ],
            "text/plain": [
              "   product_id                   product_name  ...   percent  test\n",
              "2        6184                    Clementines  ...  0.001796   NaN\n",
              "3        8048        Packaged Grape Tomatoes  ...  0.000688   NaN\n",
              "6       12078  Shredded Mexican Blend Cheese  ...  0.000179   NaN\n",
              "7       13176         Bag of Organic Bananas  ...  0.016972   NaN\n",
              "8       16797                   Strawberries  ...  0.006534   NaN\n",
              "\n",
              "[5 rows x 6 columns]"
            ]
          },
          "metadata": {
            "tags": []
          },
          "execution_count": 136
        }
      ]
    },
    {
      "cell_type": "code",
      "metadata": {
        "colab_type": "code",
        "outputId": "c63663a9-976a-4861-a8f7-3aeb607d5ffb",
        "id": "EpLJbpYiyiAh",
        "colab": {
          "base_uri": "https://localhost:8080/",
          "height": 1000
        }
      },
      "source": [
        "subset.loc[subset['product_name']=='Clementines', ['test']] = 0\n",
        "subset"
      ],
      "execution_count": 137,
      "outputs": [
        {
          "output_type": "execute_result",
          "data": {
            "text/html": [
              "<div>\n",
              "<style scoped>\n",
              "    .dataframe tbody tr th:only-of-type {\n",
              "        vertical-align: middle;\n",
              "    }\n",
              "\n",
              "    .dataframe tbody tr th {\n",
              "        vertical-align: top;\n",
              "    }\n",
              "\n",
              "    .dataframe thead th {\n",
              "        text-align: right;\n",
              "    }\n",
              "</style>\n",
              "<table border=\"1\" class=\"dataframe\">\n",
              "  <thead>\n",
              "    <tr style=\"text-align: right;\">\n",
              "      <th></th>\n",
              "      <th>product_id</th>\n",
              "      <th>product_name</th>\n",
              "      <th>order_hour_of_day</th>\n",
              "      <th>count</th>\n",
              "      <th>percent</th>\n",
              "      <th>test</th>\n",
              "    </tr>\n",
              "  </thead>\n",
              "  <tbody>\n",
              "    <tr>\n",
              "      <th>2</th>\n",
              "      <td>6184</td>\n",
              "      <td>Clementines</td>\n",
              "      <td>11</td>\n",
              "      <td>3397</td>\n",
              "      <td>0.001796</td>\n",
              "      <td>0</td>\n",
              "    </tr>\n",
              "    <tr>\n",
              "      <th>3</th>\n",
              "      <td>8048</td>\n",
              "      <td>Packaged Grape Tomatoes</td>\n",
              "      <td>11</td>\n",
              "      <td>1301</td>\n",
              "      <td>0.000688</td>\n",
              "      <td>NaN</td>\n",
              "    </tr>\n",
              "    <tr>\n",
              "      <th>6</th>\n",
              "      <td>12078</td>\n",
              "      <td>Shredded Mexican Blend Cheese</td>\n",
              "      <td>11</td>\n",
              "      <td>339</td>\n",
              "      <td>0.000179</td>\n",
              "      <td>NaN</td>\n",
              "    </tr>\n",
              "    <tr>\n",
              "      <th>7</th>\n",
              "      <td>13176</td>\n",
              "      <td>Bag of Organic Bananas</td>\n",
              "      <td>11</td>\n",
              "      <td>32107</td>\n",
              "      <td>0.016972</td>\n",
              "      <td>NaN</td>\n",
              "    </tr>\n",
              "    <tr>\n",
              "      <th>8</th>\n",
              "      <td>16797</td>\n",
              "      <td>Strawberries</td>\n",
              "      <td>11</td>\n",
              "      <td>12361</td>\n",
              "      <td>0.006534</td>\n",
              "      <td>NaN</td>\n",
              "    </tr>\n",
              "    <tr>\n",
              "      <th>11</th>\n",
              "      <td>28413</td>\n",
              "      <td>Bunny-Luv Organic Carrots</td>\n",
              "      <td>11</td>\n",
              "      <td>349</td>\n",
              "      <td>0.000184</td>\n",
              "      <td>NaN</td>\n",
              "    </tr>\n",
              "    <tr>\n",
              "      <th>13</th>\n",
              "      <td>32689</td>\n",
              "      <td>Romaine Hearts</td>\n",
              "      <td>11</td>\n",
              "      <td>2325</td>\n",
              "      <td>0.001229</td>\n",
              "      <td>NaN</td>\n",
              "    </tr>\n",
              "    <tr>\n",
              "      <th>14</th>\n",
              "      <td>34234</td>\n",
              "      <td>Grade AA Large White Eggs</td>\n",
              "      <td>11</td>\n",
              "      <td>577</td>\n",
              "      <td>0.000305</td>\n",
              "      <td>NaN</td>\n",
              "    </tr>\n",
              "    <tr>\n",
              "      <th>15</th>\n",
              "      <td>43867</td>\n",
              "      <td>100% Grated Parmesan Cheese</td>\n",
              "      <td>11</td>\n",
              "      <td>489</td>\n",
              "      <td>0.000258</td>\n",
              "      <td>NaN</td>\n",
              "    </tr>\n",
              "    <tr>\n",
              "      <th>16</th>\n",
              "      <td>46149</td>\n",
              "      <td>Zero Calorie Cola</td>\n",
              "      <td>11</td>\n",
              "      <td>1080</td>\n",
              "      <td>0.000571</td>\n",
              "      <td>NaN</td>\n",
              "    </tr>\n",
              "    <tr>\n",
              "      <th>18</th>\n",
              "      <td>9076</td>\n",
              "      <td>Blueberries</td>\n",
              "      <td>14</td>\n",
              "      <td>4659</td>\n",
              "      <td>0.002494</td>\n",
              "      <td>NaN</td>\n",
              "    </tr>\n",
              "    <tr>\n",
              "      <th>19</th>\n",
              "      <td>14161</td>\n",
              "      <td>Kiwi</td>\n",
              "      <td>14</td>\n",
              "      <td>842</td>\n",
              "      <td>0.000451</td>\n",
              "      <td>NaN</td>\n",
              "    </tr>\n",
              "    <tr>\n",
              "      <th>20</th>\n",
              "      <td>16797</td>\n",
              "      <td>Strawberries</td>\n",
              "      <td>14</td>\n",
              "      <td>12274</td>\n",
              "      <td>0.006570</td>\n",
              "      <td>NaN</td>\n",
              "    </tr>\n",
              "    <tr>\n",
              "      <th>23</th>\n",
              "      <td>43352</td>\n",
              "      <td>Raspberries</td>\n",
              "      <td>14</td>\n",
              "      <td>4717</td>\n",
              "      <td>0.002525</td>\n",
              "      <td>NaN</td>\n",
              "    </tr>\n",
              "    <tr>\n",
              "      <th>25</th>\n",
              "      <td>4210</td>\n",
              "      <td>Whole Milk</td>\n",
              "      <td>14</td>\n",
              "      <td>3048</td>\n",
              "      <td>0.001632</td>\n",
              "      <td>NaN</td>\n",
              "    </tr>\n",
              "    <tr>\n",
              "      <th>36</th>\n",
              "      <td>5161</td>\n",
              "      <td>Dried Mango</td>\n",
              "      <td>15</td>\n",
              "      <td>932</td>\n",
              "      <td>0.000505</td>\n",
              "      <td>NaN</td>\n",
              "    </tr>\n",
              "    <tr>\n",
              "      <th>37</th>\n",
              "      <td>6184</td>\n",
              "      <td>Clementines</td>\n",
              "      <td>15</td>\n",
              "      <td>2343</td>\n",
              "      <td>0.001269</td>\n",
              "      <td>0</td>\n",
              "    </tr>\n",
              "    <tr>\n",
              "      <th>39</th>\n",
              "      <td>8048</td>\n",
              "      <td>Packaged Grape Tomatoes</td>\n",
              "      <td>15</td>\n",
              "      <td>976</td>\n",
              "      <td>0.000529</td>\n",
              "      <td>NaN</td>\n",
              "    </tr>\n",
              "    <tr>\n",
              "      <th>40</th>\n",
              "      <td>9076</td>\n",
              "      <td>Blueberries</td>\n",
              "      <td>15</td>\n",
              "      <td>4623</td>\n",
              "      <td>0.002504</td>\n",
              "      <td>NaN</td>\n",
              "    </tr>\n",
              "    <tr>\n",
              "      <th>41</th>\n",
              "      <td>9387</td>\n",
              "      <td>Granny Smith Apples</td>\n",
              "      <td>15</td>\n",
              "      <td>2946</td>\n",
              "      <td>0.001596</td>\n",
              "      <td>NaN</td>\n",
              "    </tr>\n",
              "    <tr>\n",
              "      <th>43</th>\n",
              "      <td>11759</td>\n",
              "      <td>Organic Simply Naked Pita Chips</td>\n",
              "      <td>15</td>\n",
              "      <td>734</td>\n",
              "      <td>0.000398</td>\n",
              "      <td>NaN</td>\n",
              "    </tr>\n",
              "    <tr>\n",
              "      <th>44</th>\n",
              "      <td>12341</td>\n",
              "      <td>Hass Avocados</td>\n",
              "      <td>15</td>\n",
              "      <td>4031</td>\n",
              "      <td>0.002183</td>\n",
              "      <td>NaN</td>\n",
              "    </tr>\n",
              "    <tr>\n",
              "      <th>45</th>\n",
              "      <td>12427</td>\n",
              "      <td>Original Beef Jerky</td>\n",
              "      <td>15</td>\n",
              "      <td>508</td>\n",
              "      <td>0.000275</td>\n",
              "      <td>NaN</td>\n",
              "    </tr>\n",
              "    <tr>\n",
              "      <th>46</th>\n",
              "      <td>15200</td>\n",
              "      <td>Organic Green Beans</td>\n",
              "      <td>15</td>\n",
              "      <td>570</td>\n",
              "      <td>0.000309</td>\n",
              "      <td>NaN</td>\n",
              "    </tr>\n",
              "    <tr>\n",
              "      <th>47</th>\n",
              "      <td>16797</td>\n",
              "      <td>Strawberries</td>\n",
              "      <td>15</td>\n",
              "      <td>12001</td>\n",
              "      <td>0.006500</td>\n",
              "      <td>NaN</td>\n",
              "    </tr>\n",
              "    <tr>\n",
              "      <th>48</th>\n",
              "      <td>19691</td>\n",
              "      <td>Green Seedless Grapes</td>\n",
              "      <td>15</td>\n",
              "      <td>967</td>\n",
              "      <td>0.000524</td>\n",
              "      <td>NaN</td>\n",
              "    </tr>\n",
              "    <tr>\n",
              "      <th>49</th>\n",
              "      <td>21292</td>\n",
              "      <td>Rainbow Bell Peppers</td>\n",
              "      <td>15</td>\n",
              "      <td>865</td>\n",
              "      <td>0.000469</td>\n",
              "      <td>NaN</td>\n",
              "    </tr>\n",
              "    <tr>\n",
              "      <th>51</th>\n",
              "      <td>21903</td>\n",
              "      <td>Organic Baby Spinach</td>\n",
              "      <td>15</td>\n",
              "      <td>20830</td>\n",
              "      <td>0.011282</td>\n",
              "      <td>NaN</td>\n",
              "    </tr>\n",
              "    <tr>\n",
              "      <th>56</th>\n",
              "      <td>30450</td>\n",
              "      <td>Creamy Almond Butter</td>\n",
              "      <td>15</td>\n",
              "      <td>1803</td>\n",
              "      <td>0.000977</td>\n",
              "      <td>NaN</td>\n",
              "    </tr>\n",
              "    <tr>\n",
              "      <th>58</th>\n",
              "      <td>30720</td>\n",
              "      <td>Sugar Snap Peas</td>\n",
              "      <td>15</td>\n",
              "      <td>1155</td>\n",
              "      <td>0.000626</td>\n",
              "      <td>NaN</td>\n",
              "    </tr>\n",
              "    <tr>\n",
              "      <th>...</th>\n",
              "      <td>...</td>\n",
              "      <td>...</td>\n",
              "      <td>...</td>\n",
              "      <td>...</td>\n",
              "      <td>...</td>\n",
              "      <td>...</td>\n",
              "    </tr>\n",
              "    <tr>\n",
              "      <th>26029468</th>\n",
              "      <td>39427</td>\n",
              "      <td>Apples + Strawberries Organic Nibbly Fingers</td>\n",
              "      <td>4</td>\n",
              "      <td>1</td>\n",
              "      <td>0.000029</td>\n",
              "      <td>NaN</td>\n",
              "    </tr>\n",
              "    <tr>\n",
              "      <th>26294160</th>\n",
              "      <td>33827</td>\n",
              "      <td>Fat Free French Vanilla Creamer</td>\n",
              "      <td>2</td>\n",
              "      <td>3</td>\n",
              "      <td>0.000067</td>\n",
              "      <td>NaN</td>\n",
              "    </tr>\n",
              "    <tr>\n",
              "      <th>26322516</th>\n",
              "      <td>33037</td>\n",
              "      <td>Wheat English Muffins</td>\n",
              "      <td>3</td>\n",
              "      <td>2</td>\n",
              "      <td>0.000061</td>\n",
              "      <td>NaN</td>\n",
              "    </tr>\n",
              "    <tr>\n",
              "      <th>26496202</th>\n",
              "      <td>40939</td>\n",
              "      <td>Drinking Water</td>\n",
              "      <td>2</td>\n",
              "      <td>7</td>\n",
              "      <td>0.000156</td>\n",
              "      <td>NaN</td>\n",
              "    </tr>\n",
              "    <tr>\n",
              "      <th>26889960</th>\n",
              "      <td>28682</td>\n",
              "      <td>Chocolate Peanut Butter Cup Gelato</td>\n",
              "      <td>2</td>\n",
              "      <td>3</td>\n",
              "      <td>0.000067</td>\n",
              "      <td>NaN</td>\n",
              "    </tr>\n",
              "    <tr>\n",
              "      <th>26915743</th>\n",
              "      <td>19887</td>\n",
              "      <td>Unsweetened Vanilla Almond Breeze</td>\n",
              "      <td>4</td>\n",
              "      <td>4</td>\n",
              "      <td>0.000116</td>\n",
              "      <td>NaN</td>\n",
              "    </tr>\n",
              "    <tr>\n",
              "      <th>26921177</th>\n",
              "      <td>15541</td>\n",
              "      <td>Original Almondmilk</td>\n",
              "      <td>3</td>\n",
              "      <td>4</td>\n",
              "      <td>0.000123</td>\n",
              "      <td>NaN</td>\n",
              "    </tr>\n",
              "    <tr>\n",
              "      <th>27447324</th>\n",
              "      <td>11130</td>\n",
              "      <td>Single Serve Crispy Wheat Crackers</td>\n",
              "      <td>4</td>\n",
              "      <td>1</td>\n",
              "      <td>0.000029</td>\n",
              "      <td>NaN</td>\n",
              "    </tr>\n",
              "    <tr>\n",
              "      <th>27908827</th>\n",
              "      <td>34862</td>\n",
              "      <td>Tiny Twists Pretzels</td>\n",
              "      <td>2</td>\n",
              "      <td>1</td>\n",
              "      <td>0.000022</td>\n",
              "      <td>NaN</td>\n",
              "    </tr>\n",
              "    <tr>\n",
              "      <th>27989420</th>\n",
              "      <td>26856</td>\n",
              "      <td>Organic Ezekiel 4:9 Sesame Bread</td>\n",
              "      <td>3</td>\n",
              "      <td>3</td>\n",
              "      <td>0.000092</td>\n",
              "      <td>NaN</td>\n",
              "    </tr>\n",
              "    <tr>\n",
              "      <th>28684577</th>\n",
              "      <td>46931</td>\n",
              "      <td>Peaches</td>\n",
              "      <td>4</td>\n",
              "      <td>4</td>\n",
              "      <td>0.000116</td>\n",
              "      <td>NaN</td>\n",
              "    </tr>\n",
              "    <tr>\n",
              "      <th>28686422</th>\n",
              "      <td>22802</td>\n",
              "      <td>Mineral Water</td>\n",
              "      <td>3</td>\n",
              "      <td>3</td>\n",
              "      <td>0.000092</td>\n",
              "      <td>NaN</td>\n",
              "    </tr>\n",
              "    <tr>\n",
              "      <th>28979723</th>\n",
              "      <td>13259</td>\n",
              "      <td>Organic Variety Pack</td>\n",
              "      <td>3</td>\n",
              "      <td>4</td>\n",
              "      <td>0.000123</td>\n",
              "      <td>NaN</td>\n",
              "    </tr>\n",
              "    <tr>\n",
              "      <th>29092286</th>\n",
              "      <td>19887</td>\n",
              "      <td>Unsweetened Vanilla Almond Breeze</td>\n",
              "      <td>5</td>\n",
              "      <td>7</td>\n",
              "      <td>0.000117</td>\n",
              "      <td>NaN</td>\n",
              "    </tr>\n",
              "    <tr>\n",
              "      <th>29124609</th>\n",
              "      <td>47900</td>\n",
              "      <td>Uncured, No Sugar, Hickory Smoked Bacon</td>\n",
              "      <td>3</td>\n",
              "      <td>3</td>\n",
              "      <td>0.000092</td>\n",
              "      <td>NaN</td>\n",
              "    </tr>\n",
              "    <tr>\n",
              "      <th>29385579</th>\n",
              "      <td>31487</td>\n",
              "      <td>Boomchickapop Sweet &amp; Salty Kettle Corn</td>\n",
              "      <td>4</td>\n",
              "      <td>2</td>\n",
              "      <td>0.000058</td>\n",
              "      <td>NaN</td>\n",
              "    </tr>\n",
              "    <tr>\n",
              "      <th>29670751</th>\n",
              "      <td>41793</td>\n",
              "      <td>Mini Chocolate Chunk Cookies</td>\n",
              "      <td>3</td>\n",
              "      <td>2</td>\n",
              "      <td>0.000061</td>\n",
              "      <td>NaN</td>\n",
              "    </tr>\n",
              "    <tr>\n",
              "      <th>30161447</th>\n",
              "      <td>20169</td>\n",
              "      <td>Annie Peely Fruit 4.5 Z</td>\n",
              "      <td>4</td>\n",
              "      <td>1</td>\n",
              "      <td>0.000029</td>\n",
              "      <td>NaN</td>\n",
              "    </tr>\n",
              "    <tr>\n",
              "      <th>30729203</th>\n",
              "      <td>42536</td>\n",
              "      <td>Gluten Free Original Granola</td>\n",
              "      <td>3</td>\n",
              "      <td>1</td>\n",
              "      <td>0.000031</td>\n",
              "      <td>NaN</td>\n",
              "    </tr>\n",
              "    <tr>\n",
              "      <th>30891185</th>\n",
              "      <td>13914</td>\n",
              "      <td>Cheez-It Baked Snack Crackers</td>\n",
              "      <td>4</td>\n",
              "      <td>3</td>\n",
              "      <td>0.000087</td>\n",
              "      <td>NaN</td>\n",
              "    </tr>\n",
              "    <tr>\n",
              "      <th>30930152</th>\n",
              "      <td>15693</td>\n",
              "      <td>Organic Peach Oo La Long Tea</td>\n",
              "      <td>4</td>\n",
              "      <td>2</td>\n",
              "      <td>0.000058</td>\n",
              "      <td>NaN</td>\n",
              "    </tr>\n",
              "    <tr>\n",
              "      <th>31149883</th>\n",
              "      <td>13032</td>\n",
              "      <td>Cinnamon Toast Crunch</td>\n",
              "      <td>5</td>\n",
              "      <td>2</td>\n",
              "      <td>0.000033</td>\n",
              "      <td>NaN</td>\n",
              "    </tr>\n",
              "    <tr>\n",
              "      <th>31187990</th>\n",
              "      <td>16757</td>\n",
              "      <td>Barista Blend Pure Almond Milk</td>\n",
              "      <td>4</td>\n",
              "      <td>1</td>\n",
              "      <td>0.000029</td>\n",
              "      <td>NaN</td>\n",
              "    </tr>\n",
              "    <tr>\n",
              "      <th>31744423</th>\n",
              "      <td>13914</td>\n",
              "      <td>Cheez-It Baked Snack Crackers</td>\n",
              "      <td>3</td>\n",
              "      <td>1</td>\n",
              "      <td>0.000031</td>\n",
              "      <td>NaN</td>\n",
              "    </tr>\n",
              "    <tr>\n",
              "      <th>31930761</th>\n",
              "      <td>15269</td>\n",
              "      <td>Natural Medium Cheddar Cheese</td>\n",
              "      <td>3</td>\n",
              "      <td>2</td>\n",
              "      <td>0.000061</td>\n",
              "      <td>NaN</td>\n",
              "    </tr>\n",
              "    <tr>\n",
              "      <th>32025624</th>\n",
              "      <td>48812</td>\n",
              "      <td>Variety Pack</td>\n",
              "      <td>3</td>\n",
              "      <td>2</td>\n",
              "      <td>0.000061</td>\n",
              "      <td>NaN</td>\n",
              "    </tr>\n",
              "    <tr>\n",
              "      <th>32351772</th>\n",
              "      <td>34160</td>\n",
              "      <td>of Hanover 100 Calorie Pretzels Mini</td>\n",
              "      <td>3</td>\n",
              "      <td>1</td>\n",
              "      <td>0.000031</td>\n",
              "      <td>NaN</td>\n",
              "    </tr>\n",
              "    <tr>\n",
              "      <th>32565052</th>\n",
              "      <td>40120</td>\n",
              "      <td>Organic Multigrain Bread</td>\n",
              "      <td>3</td>\n",
              "      <td>1</td>\n",
              "      <td>0.000031</td>\n",
              "      <td>NaN</td>\n",
              "    </tr>\n",
              "    <tr>\n",
              "      <th>33323194</th>\n",
              "      <td>46061</td>\n",
              "      <td>Popcorn</td>\n",
              "      <td>3</td>\n",
              "      <td>1</td>\n",
              "      <td>0.000031</td>\n",
              "      <td>NaN</td>\n",
              "    </tr>\n",
              "    <tr>\n",
              "      <th>33412880</th>\n",
              "      <td>43192</td>\n",
              "      <td>Dark with 70% Cacao Content Organic Chocolate Bar</td>\n",
              "      <td>3</td>\n",
              "      <td>1</td>\n",
              "      <td>0.000031</td>\n",
              "      <td>NaN</td>\n",
              "    </tr>\n",
              "  </tbody>\n",
              "</table>\n",
              "<p>49200 rows × 6 columns</p>\n",
              "</div>"
            ],
            "text/plain": [
              "          product_id  ... test\n",
              "2               6184  ...    0\n",
              "3               8048  ...  NaN\n",
              "6              12078  ...  NaN\n",
              "7              13176  ...  NaN\n",
              "8              16797  ...  NaN\n",
              "11             28413  ...  NaN\n",
              "13             32689  ...  NaN\n",
              "14             34234  ...  NaN\n",
              "15             43867  ...  NaN\n",
              "16             46149  ...  NaN\n",
              "18              9076  ...  NaN\n",
              "19             14161  ...  NaN\n",
              "20             16797  ...  NaN\n",
              "23             43352  ...  NaN\n",
              "25              4210  ...  NaN\n",
              "36              5161  ...  NaN\n",
              "37              6184  ...    0\n",
              "39              8048  ...  NaN\n",
              "40              9076  ...  NaN\n",
              "41              9387  ...  NaN\n",
              "43             11759  ...  NaN\n",
              "44             12341  ...  NaN\n",
              "45             12427  ...  NaN\n",
              "46             15200  ...  NaN\n",
              "47             16797  ...  NaN\n",
              "48             19691  ...  NaN\n",
              "49             21292  ...  NaN\n",
              "51             21903  ...  NaN\n",
              "56             30450  ...  NaN\n",
              "58             30720  ...  NaN\n",
              "...              ...  ...  ...\n",
              "26029468       39427  ...  NaN\n",
              "26294160       33827  ...  NaN\n",
              "26322516       33037  ...  NaN\n",
              "26496202       40939  ...  NaN\n",
              "26889960       28682  ...  NaN\n",
              "26915743       19887  ...  NaN\n",
              "26921177       15541  ...  NaN\n",
              "27447324       11130  ...  NaN\n",
              "27908827       34862  ...  NaN\n",
              "27989420       26856  ...  NaN\n",
              "28684577       46931  ...  NaN\n",
              "28686422       22802  ...  NaN\n",
              "28979723       13259  ...  NaN\n",
              "29092286       19887  ...  NaN\n",
              "29124609       47900  ...  NaN\n",
              "29385579       31487  ...  NaN\n",
              "29670751       41793  ...  NaN\n",
              "30161447       20169  ...  NaN\n",
              "30729203       42536  ...  NaN\n",
              "30891185       13914  ...  NaN\n",
              "30930152       15693  ...  NaN\n",
              "31149883       13032  ...  NaN\n",
              "31187990       16757  ...  NaN\n",
              "31744423       13914  ...  NaN\n",
              "31930761       15269  ...  NaN\n",
              "32025624       48812  ...  NaN\n",
              "32351772       34160  ...  NaN\n",
              "32565052       40120  ...  NaN\n",
              "33323194       46061  ...  NaN\n",
              "33412880       43192  ...  NaN\n",
              "\n",
              "[49200 rows x 6 columns]"
            ]
          },
          "metadata": {
            "tags": []
          },
          "execution_count": 137
        }
      ]
    },
    {
      "cell_type": "code",
      "metadata": {
        "id": "4StDNAt7yxfb",
        "colab_type": "code",
        "colab": {
          "base_uri": "https://localhost:8080/",
          "height": 34
        },
        "outputId": "fc78622b-c8de-4690-c3c5-e998b1ce1447"
      },
      "source": [
        "a = subset[subset['product_name']=='Clementines']['count'].sum()\n",
        "b = subset[subset['product_name']=='Clementines']['order_hour_of_day'] * subset[subset['product_name']== 'Clementines']['count']\n",
        "c = sum(b) / a \n",
        "print(c)"
      ],
      "execution_count": 138,
      "outputs": [
        {
          "output_type": "stream",
          "text": [
            "12.368174193949184\n"
          ],
          "name": "stdout"
        }
      ]
    },
    {
      "cell_type": "code",
      "metadata": {
        "id": "PshhPWCUcbXG",
        "colab_type": "code",
        "colab": {}
      },
      "source": [
        "for i in test:\n",
        "  a = subset[subset['product_name']==i]['count'].sum()\n",
        "  b = subset[subset['product_name']==i]['order_hour_of_day'] * subset[subset['product_name']== i]['count']\n",
        "  c = sum(b) / a \n",
        "  subset.loc[subset['product_name']==i, ['test']] = c\n"
      ],
      "execution_count": 0,
      "outputs": []
    },
    {
      "cell_type": "code",
      "metadata": {
        "id": "_NTyDmfZcbjk",
        "colab_type": "code",
        "colab": {
          "base_uri": "https://localhost:8080/",
          "height": 359
        },
        "outputId": "99fbb8c0-6215-4ecc-a4a1-64a9a07fee24"
      },
      "source": [
        "subset.head(10)"
      ],
      "execution_count": 126,
      "outputs": [
        {
          "output_type": "execute_result",
          "data": {
            "text/html": [
              "<div>\n",
              "<style scoped>\n",
              "    .dataframe tbody tr th:only-of-type {\n",
              "        vertical-align: middle;\n",
              "    }\n",
              "\n",
              "    .dataframe tbody tr th {\n",
              "        vertical-align: top;\n",
              "    }\n",
              "\n",
              "    .dataframe thead th {\n",
              "        text-align: right;\n",
              "    }\n",
              "</style>\n",
              "<table border=\"1\" class=\"dataframe\">\n",
              "  <thead>\n",
              "    <tr style=\"text-align: right;\">\n",
              "      <th></th>\n",
              "      <th>product_id</th>\n",
              "      <th>product_name</th>\n",
              "      <th>order_hour_of_day</th>\n",
              "      <th>count</th>\n",
              "      <th>percent</th>\n",
              "      <th>test</th>\n",
              "    </tr>\n",
              "  </thead>\n",
              "  <tbody>\n",
              "    <tr>\n",
              "      <th>2</th>\n",
              "      <td>6184.0</td>\n",
              "      <td>Clementines</td>\n",
              "      <td>11.0</td>\n",
              "      <td>3397.0</td>\n",
              "      <td>0.001796</td>\n",
              "      <td>12.3682</td>\n",
              "    </tr>\n",
              "    <tr>\n",
              "      <th>3</th>\n",
              "      <td>8048.0</td>\n",
              "      <td>Packaged Grape Tomatoes</td>\n",
              "      <td>11.0</td>\n",
              "      <td>1301.0</td>\n",
              "      <td>0.000688</td>\n",
              "      <td>13.0716</td>\n",
              "    </tr>\n",
              "    <tr>\n",
              "      <th>6</th>\n",
              "      <td>12078.0</td>\n",
              "      <td>Shredded Mexican Blend Cheese</td>\n",
              "      <td>11.0</td>\n",
              "      <td>339.0</td>\n",
              "      <td>0.000179</td>\n",
              "      <td>13.1177</td>\n",
              "    </tr>\n",
              "    <tr>\n",
              "      <th>7</th>\n",
              "      <td>13176.0</td>\n",
              "      <td>Bag of Organic Bananas</td>\n",
              "      <td>11.0</td>\n",
              "      <td>32107.0</td>\n",
              "      <td>0.016972</td>\n",
              "      <td>13.3764</td>\n",
              "    </tr>\n",
              "    <tr>\n",
              "      <th>8</th>\n",
              "      <td>16797.0</td>\n",
              "      <td>Strawberries</td>\n",
              "      <td>11.0</td>\n",
              "      <td>12361.0</td>\n",
              "      <td>0.006534</td>\n",
              "      <td>13.3451</td>\n",
              "    </tr>\n",
              "    <tr>\n",
              "      <th>11</th>\n",
              "      <td>28413.0</td>\n",
              "      <td>Bunny-Luv Organic Carrots</td>\n",
              "      <td>11.0</td>\n",
              "      <td>349.0</td>\n",
              "      <td>0.000184</td>\n",
              "      <td>13.0484</td>\n",
              "    </tr>\n",
              "    <tr>\n",
              "      <th>13</th>\n",
              "      <td>32689.0</td>\n",
              "      <td>Romaine Hearts</td>\n",
              "      <td>11.0</td>\n",
              "      <td>2325.0</td>\n",
              "      <td>0.001229</td>\n",
              "      <td>13.278</td>\n",
              "    </tr>\n",
              "    <tr>\n",
              "      <th>14</th>\n",
              "      <td>34234.0</td>\n",
              "      <td>Grade AA Large White Eggs</td>\n",
              "      <td>11.0</td>\n",
              "      <td>577.0</td>\n",
              "      <td>0.000305</td>\n",
              "      <td>13.3434</td>\n",
              "    </tr>\n",
              "    <tr>\n",
              "      <th>15</th>\n",
              "      <td>43867.0</td>\n",
              "      <td>100% Grated Parmesan Cheese</td>\n",
              "      <td>11.0</td>\n",
              "      <td>489.0</td>\n",
              "      <td>0.000258</td>\n",
              "      <td>13.7535</td>\n",
              "    </tr>\n",
              "    <tr>\n",
              "      <th>16</th>\n",
              "      <td>46149.0</td>\n",
              "      <td>Zero Calorie Cola</td>\n",
              "      <td>11.0</td>\n",
              "      <td>1080.0</td>\n",
              "      <td>0.000571</td>\n",
              "      <td>12.1689</td>\n",
              "    </tr>\n",
              "  </tbody>\n",
              "</table>\n",
              "</div>"
            ],
            "text/plain": [
              "    product_id                   product_name  ...   percent     test\n",
              "2       6184.0                    Clementines  ...  0.001796  12.3682\n",
              "3       8048.0        Packaged Grape Tomatoes  ...  0.000688  13.0716\n",
              "6      12078.0  Shredded Mexican Blend Cheese  ...  0.000179  13.1177\n",
              "7      13176.0         Bag of Organic Bananas  ...  0.016972  13.3764\n",
              "8      16797.0                   Strawberries  ...  0.006534  13.3451\n",
              "11     28413.0      Bunny-Luv Organic Carrots  ...  0.000184  13.0484\n",
              "13     32689.0                 Romaine Hearts  ...  0.001229   13.278\n",
              "14     34234.0      Grade AA Large White Eggs  ...  0.000305  13.3434\n",
              "15     43867.0    100% Grated Parmesan Cheese  ...  0.000258  13.7535\n",
              "16     46149.0              Zero Calorie Cola  ...  0.000571  12.1689\n",
              "\n",
              "[10 rows x 6 columns]"
            ]
          },
          "metadata": {
            "tags": []
          },
          "execution_count": 126
        }
      ]
    },
    {
      "cell_type": "code",
      "metadata": {
        "id": "JbnT2nHdqoRI",
        "colab_type": "code",
        "colab": {
          "base_uri": "https://localhost:8080/",
          "height": 204
        },
        "outputId": "53ef298d-2b32-43ed-fd6e-fe1cebba6502"
      },
      "source": [
        "df2 = subset[['test', 'product_name']]\n",
        "df2 = df2.drop_duplicates(['product_name'])\n",
        "df2.head()"
      ],
      "execution_count": 140,
      "outputs": [
        {
          "output_type": "execute_result",
          "data": {
            "text/html": [
              "<div>\n",
              "<style scoped>\n",
              "    .dataframe tbody tr th:only-of-type {\n",
              "        vertical-align: middle;\n",
              "    }\n",
              "\n",
              "    .dataframe tbody tr th {\n",
              "        vertical-align: top;\n",
              "    }\n",
              "\n",
              "    .dataframe thead th {\n",
              "        text-align: right;\n",
              "    }\n",
              "</style>\n",
              "<table border=\"1\" class=\"dataframe\">\n",
              "  <thead>\n",
              "    <tr style=\"text-align: right;\">\n",
              "      <th></th>\n",
              "      <th>test</th>\n",
              "      <th>product_name</th>\n",
              "    </tr>\n",
              "  </thead>\n",
              "  <tbody>\n",
              "    <tr>\n",
              "      <th>2</th>\n",
              "      <td>12.3682</td>\n",
              "      <td>Clementines</td>\n",
              "    </tr>\n",
              "    <tr>\n",
              "      <th>3</th>\n",
              "      <td>13.0716</td>\n",
              "      <td>Packaged Grape Tomatoes</td>\n",
              "    </tr>\n",
              "    <tr>\n",
              "      <th>6</th>\n",
              "      <td>13.1177</td>\n",
              "      <td>Shredded Mexican Blend Cheese</td>\n",
              "    </tr>\n",
              "    <tr>\n",
              "      <th>7</th>\n",
              "      <td>13.3764</td>\n",
              "      <td>Bag of Organic Bananas</td>\n",
              "    </tr>\n",
              "    <tr>\n",
              "      <th>8</th>\n",
              "      <td>13.3451</td>\n",
              "      <td>Strawberries</td>\n",
              "    </tr>\n",
              "  </tbody>\n",
              "</table>\n",
              "</div>"
            ],
            "text/plain": [
              "      test                   product_name\n",
              "2  12.3682                    Clementines\n",
              "3  13.0716        Packaged Grape Tomatoes\n",
              "6  13.1177  Shredded Mexican Blend Cheese\n",
              "7  13.3764         Bag of Organic Bananas\n",
              "8  13.3451                   Strawberries"
            ]
          },
          "metadata": {
            "tags": []
          },
          "execution_count": 140
        }
      ]
    },
    {
      "cell_type": "code",
      "metadata": {
        "id": "IFWRS75gq6TU",
        "colab_type": "code",
        "colab": {
          "base_uri": "https://localhost:8080/",
          "height": 442
        },
        "outputId": "f76be2a6-7a92-4de2-cbdb-e146fb3d1084"
      },
      "source": [
        "early_list = df2.sort_values('test', ascending=True)[:25]['product_name'].tolist()\n",
        "early_list"
      ],
      "execution_count": 144,
      "outputs": [
        {
          "output_type": "execute_result",
          "data": {
            "text/plain": [
              "['Half And Half Ultra Pasteurized',\n",
              " 'Sweet & Salty Nut Granola Bars Peanut',\n",
              " 'Pub Mix',\n",
              " 'Nutri Grain Bars Multi Pack',\n",
              " 'Trail Mix',\n",
              " 'Original Rice Krispies Treats',\n",
              " 'Apples',\n",
              " 'Cheez-It Baked Snack Crackers',\n",
              " 'Dry Roasted Almonds',\n",
              " 'Zero Calorie Cola',\n",
              " \"Crunchy Oats 'n Honey Granola Bars\",\n",
              " 'Original Beef Jerky',\n",
              " 'Cheez-It Cheddar Cracker',\n",
              " 'Popcorn',\n",
              " 'Milk Chocolate Almonds',\n",
              " '0% Greek Strained Yogurt',\n",
              " 'Extra Fancy Unsalted Mixed Nuts',\n",
              " 'Pink Lady Apples',\n",
              " 'with Crispy Almonds Cereal',\n",
              " 'Original Almondmilk',\n",
              " 'Clementines',\n",
              " 'Half And Half Cream',\n",
              " 'French Vanilla Coffee Creamer',\n",
              " 'Orange & Lemon Flavor Variety Pack Sparkling Fruit Beverage',\n",
              " 'Cinnamon Brown Sugar Breakfast Biscuits']"
            ]
          },
          "metadata": {
            "tags": []
          },
          "execution_count": 144
        }
      ]
    },
    {
      "cell_type": "code",
      "metadata": {
        "id": "-Ip6-9pmsIcu",
        "colab_type": "code",
        "colab": {
          "base_uri": "https://localhost:8080/",
          "height": 442
        },
        "outputId": "25c3ece7-e0b9-494c-c2fc-99541ead3f5f"
      },
      "source": [
        "late_list = df2.sort_values('test', ascending=False)[:25]['product_name'].tolist()\n",
        "late_list"
      ],
      "execution_count": 145,
      "outputs": [
        {
          "output_type": "execute_result",
          "data": {
            "text/plain": [
              "['Half Baked Frozen Yogurt',\n",
              " 'The Tonight Dough™ Ice Cream',\n",
              " 'Americone Dream® Ice Cream',\n",
              " 'Half Baked® Ice Cream',\n",
              " 'Phish Food® Ice Cream',\n",
              " 'Milk and Cookies Ice Cream',\n",
              " 'Sicilian Pistachio',\n",
              " 'Chocolate Peanut Butter Cup Gelato',\n",
              " 'Birthday Cake Light Ice Cream',\n",
              " 'Cherry Garcia Ice Cream',\n",
              " 'Strawberry Ice Cream',\n",
              " 'Vanilla Bean Light Ice Cream',\n",
              " 'Coffee Ice Cream',\n",
              " 'Roman Raspberry Sorbetto',\n",
              " 'Mediterranean Mint Gelato',\n",
              " 'Caramel Cookie Crunch Gelato',\n",
              " 'Chocolate Chip Cookie Dough Ice Cream',\n",
              " 'Mint Chip',\n",
              " 'Coconut Almond Minis Frozen Dessert Bars',\n",
              " 'Mint Chocolate Chip Ice Cream',\n",
              " 'Chocolate Peanut Butter Ice Cream',\n",
              " 'Vanilla Milk Chocolate Almond Ice Cream Bars',\n",
              " 'Sea Salt Caramel Gelato',\n",
              " 'Vanilla Bean Ice Cream',\n",
              " 'Rising Crust Pepperoni Pizza']"
            ]
          },
          "metadata": {
            "tags": []
          },
          "execution_count": 145
        }
      ]
    },
    {
      "cell_type": "code",
      "metadata": {
        "id": "NhnyLSUIcbg8",
        "colab_type": "code",
        "colab": {
          "base_uri": "https://localhost:8080/",
          "height": 204
        },
        "outputId": "9e418d0c-09c9-46db-d4bb-f4ed39017a7f"
      },
      "source": [
        "# Now we only want the above product names in our data frames for plotting\n",
        "\n",
        "condition = subset['product_name'].isin(early_list)\n",
        "df_early = subset[condition]\n",
        "df_early.head()"
      ],
      "execution_count": 146,
      "outputs": [
        {
          "output_type": "execute_result",
          "data": {
            "text/html": [
              "<div>\n",
              "<style scoped>\n",
              "    .dataframe tbody tr th:only-of-type {\n",
              "        vertical-align: middle;\n",
              "    }\n",
              "\n",
              "    .dataframe tbody tr th {\n",
              "        vertical-align: top;\n",
              "    }\n",
              "\n",
              "    .dataframe thead th {\n",
              "        text-align: right;\n",
              "    }\n",
              "</style>\n",
              "<table border=\"1\" class=\"dataframe\">\n",
              "  <thead>\n",
              "    <tr style=\"text-align: right;\">\n",
              "      <th></th>\n",
              "      <th>product_id</th>\n",
              "      <th>product_name</th>\n",
              "      <th>order_hour_of_day</th>\n",
              "      <th>count</th>\n",
              "      <th>percent</th>\n",
              "      <th>test</th>\n",
              "    </tr>\n",
              "  </thead>\n",
              "  <tbody>\n",
              "    <tr>\n",
              "      <th>2</th>\n",
              "      <td>6184</td>\n",
              "      <td>Clementines</td>\n",
              "      <td>11</td>\n",
              "      <td>3397</td>\n",
              "      <td>0.001796</td>\n",
              "      <td>12.3682</td>\n",
              "    </tr>\n",
              "    <tr>\n",
              "      <th>16</th>\n",
              "      <td>46149</td>\n",
              "      <td>Zero Calorie Cola</td>\n",
              "      <td>11</td>\n",
              "      <td>1080</td>\n",
              "      <td>0.000571</td>\n",
              "      <td>12.1689</td>\n",
              "    </tr>\n",
              "    <tr>\n",
              "      <th>37</th>\n",
              "      <td>6184</td>\n",
              "      <td>Clementines</td>\n",
              "      <td>15</td>\n",
              "      <td>2343</td>\n",
              "      <td>0.001269</td>\n",
              "      <td>12.3682</td>\n",
              "    </tr>\n",
              "    <tr>\n",
              "      <th>45</th>\n",
              "      <td>12427</td>\n",
              "      <td>Original Beef Jerky</td>\n",
              "      <td>15</td>\n",
              "      <td>508</td>\n",
              "      <td>0.000275</td>\n",
              "      <td>12.2704</td>\n",
              "    </tr>\n",
              "    <tr>\n",
              "      <th>61</th>\n",
              "      <td>38928</td>\n",
              "      <td>0% Greek Strained Yogurt</td>\n",
              "      <td>15</td>\n",
              "      <td>1014</td>\n",
              "      <td>0.000549</td>\n",
              "      <td>12.2988</td>\n",
              "    </tr>\n",
              "  </tbody>\n",
              "</table>\n",
              "</div>"
            ],
            "text/plain": [
              "    product_id              product_name  ...   percent     test\n",
              "2         6184               Clementines  ...  0.001796  12.3682\n",
              "16       46149         Zero Calorie Cola  ...  0.000571  12.1689\n",
              "37        6184               Clementines  ...  0.001269  12.3682\n",
              "45       12427       Original Beef Jerky  ...  0.000275  12.2704\n",
              "61       38928  0% Greek Strained Yogurt  ...  0.000549  12.2988\n",
              "\n",
              "[5 rows x 6 columns]"
            ]
          },
          "metadata": {
            "tags": []
          },
          "execution_count": 146
        }
      ]
    },
    {
      "cell_type": "code",
      "metadata": {
        "id": "99YMj2QOcber",
        "colab_type": "code",
        "colab": {
          "base_uri": "https://localhost:8080/",
          "height": 204
        },
        "outputId": "344a1813-671e-4797-9dd5-01d1018c9b60"
      },
      "source": [
        "condition = subset['product_name'].isin(late_list)\n",
        "df_late = subset[condition]\n",
        "df_late.head()"
      ],
      "execution_count": 147,
      "outputs": [
        {
          "output_type": "execute_result",
          "data": {
            "text/html": [
              "<div>\n",
              "<style scoped>\n",
              "    .dataframe tbody tr th:only-of-type {\n",
              "        vertical-align: middle;\n",
              "    }\n",
              "\n",
              "    .dataframe tbody tr th {\n",
              "        vertical-align: top;\n",
              "    }\n",
              "\n",
              "    .dataframe thead th {\n",
              "        text-align: right;\n",
              "    }\n",
              "</style>\n",
              "<table border=\"1\" class=\"dataframe\">\n",
              "  <thead>\n",
              "    <tr style=\"text-align: right;\">\n",
              "      <th></th>\n",
              "      <th>product_id</th>\n",
              "      <th>product_name</th>\n",
              "      <th>order_hour_of_day</th>\n",
              "      <th>count</th>\n",
              "      <th>percent</th>\n",
              "      <th>test</th>\n",
              "    </tr>\n",
              "  </thead>\n",
              "  <tbody>\n",
              "    <tr>\n",
              "      <th>1033</th>\n",
              "      <td>40002</td>\n",
              "      <td>Strawberry Ice Cream</td>\n",
              "      <td>12</td>\n",
              "      <td>506</td>\n",
              "      <td>0.000280</td>\n",
              "      <td>14.2688</td>\n",
              "    </tr>\n",
              "    <tr>\n",
              "      <th>4365</th>\n",
              "      <td>40002</td>\n",
              "      <td>Strawberry Ice Cream</td>\n",
              "      <td>16</td>\n",
              "      <td>591</td>\n",
              "      <td>0.000338</td>\n",
              "      <td>14.2688</td>\n",
              "    </tr>\n",
              "    <tr>\n",
              "      <th>10390</th>\n",
              "      <td>40002</td>\n",
              "      <td>Strawberry Ice Cream</td>\n",
              "      <td>13</td>\n",
              "      <td>543</td>\n",
              "      <td>0.000295</td>\n",
              "      <td>14.2688</td>\n",
              "    </tr>\n",
              "    <tr>\n",
              "      <th>13769</th>\n",
              "      <td>40002</td>\n",
              "      <td>Strawberry Ice Cream</td>\n",
              "      <td>17</td>\n",
              "      <td>539</td>\n",
              "      <td>0.000379</td>\n",
              "      <td>14.2688</td>\n",
              "    </tr>\n",
              "    <tr>\n",
              "      <th>14075</th>\n",
              "      <td>27179</td>\n",
              "      <td>Rising Crust Pepperoni Pizza</td>\n",
              "      <td>13</td>\n",
              "      <td>320</td>\n",
              "      <td>0.000174</td>\n",
              "      <td>14.0277</td>\n",
              "    </tr>\n",
              "  </tbody>\n",
              "</table>\n",
              "</div>"
            ],
            "text/plain": [
              "       product_id                  product_name  ...   percent     test\n",
              "1033        40002          Strawberry Ice Cream  ...  0.000280  14.2688\n",
              "4365        40002          Strawberry Ice Cream  ...  0.000338  14.2688\n",
              "10390       40002          Strawberry Ice Cream  ...  0.000295  14.2688\n",
              "13769       40002          Strawberry Ice Cream  ...  0.000379  14.2688\n",
              "14075       27179  Rising Crust Pepperoni Pizza  ...  0.000174  14.0277\n",
              "\n",
              "[5 rows x 6 columns]"
            ]
          },
          "metadata": {
            "tags": []
          },
          "execution_count": 147
        }
      ]
    },
    {
      "cell_type": "code",
      "metadata": {
        "id": "9YM9UZGm4Dcv",
        "colab_type": "code",
        "colab": {}
      },
      "source": [
        "df_early = df_early.sort_values('order_hour_of_day', ascending=True)\n",
        "df_late = df_late.sort_values('order_hour_of_day', ascending=True)"
      ],
      "execution_count": 0,
      "outputs": []
    },
    {
      "cell_type": "code",
      "metadata": {
        "id": "1gho1_a-3ZmB",
        "colab_type": "code",
        "colab": {
          "base_uri": "https://localhost:8080/",
          "height": 1000
        },
        "outputId": "b2d8ca70-3188-4cdb-cf21-bfd008263cf9"
      },
      "source": [
        "df_early.groupby('order_hour_of_day').plot();"
      ],
      "execution_count": 162,
      "outputs": [
        {
          "output_type": "stream",
          "text": [
            "/usr/local/lib/python3.6/dist-packages/matplotlib/pyplot.py:514: RuntimeWarning: More than 20 figures have been opened. Figures created through the pyplot interface (`matplotlib.pyplot.figure`) are retained until explicitly closed and may consume too much memory. (To control this warning, see the rcParam `figure.max_open_warning`).\n",
            "  max_open_warning, RuntimeWarning)\n"
          ],
          "name": "stderr"
        },
        {
          "output_type": "display_data",
          "data": {
            "image/png": "[encoded data removed]",
            "text/plain": [
              "<Figure size 432x288 with 1 Axes>"
            ]
          },
          "metadata": {
            "tags": []
          }
        },
        {
          "output_type": "display_data",
          "data": {
            "image/png": "[encoded data removed]",
            "text/plain": [
              "<Figure size 432x288 with 1 Axes>"
            ]
          },
          "metadata": {
            "tags": []
          }
        },
        {
          "output_type": "display_data",
          "data": {
            "image/png": "[encoded data removed]",
            "text/plain": [
              "<Figure size 432x288 with 1 Axes>"
            ]
          },
          "metadata": {
            "tags": []
          }
        },
        {
          "output_type": "display_data",
          "data": {
            "image/png": "[encoded data removed]",
            "text/plain": [
              "<Figure size 432x288 with 1 Axes>"
            ]
          },
          "metadata": {
            "tags": []
          }
        },
        {
          "output_type": "display_data",
          "data": {
            "image/png": "[encoded data removed]",
            "text/plain": [
              "<Figure size 432x288 with 1 Axes>"
            ]
          },
          "metadata": {
            "tags": []
          }
        },
        {
          "output_type": "display_data",
          "data": {
            "image/png": "[encoded data removed]",
            "text/plain": [
              "<Figure size 432x288 with 1 Axes>"
            ]
          },
          "metadata": {
            "tags": []
          }
        },
        {
          "output_type": "display_data",
          "data": {
            "image/png": "[encoded data removed]",
            "text/plain": [
              "<Figure size 432x288 with 1 Axes>"
            ]
          },
          "metadata": {
            "tags": []
          }
        },
        {
          "output_type": "display_data",
          "data": {
            "image/png": "[encoded data removed]",
            "text/plain": [
              "<Figure size 432x288 with 1 Axes>"
            ]
          },
          "metadata": {
            "tags": []
          }
        },
        {
          "output_type": "display_data",
          "data": {
            "image/png": "[encoded data removed]",
            "text/plain": [
              "<Figure size 432x288 with 1 Axes>"
            ]
          },
          "metadata": {
            "tags": []
          }
        },
        {
          "output_type": "display_data",
          "data": {
            "image/png": "[encoded data removed]",
            "text/plain": [
              "<Figure size 432x288 with 1 Axes>"
            ]
          },
          "metadata": {
            "tags": []
          }
        },
        {
          "output_type": "display_data",
          "data": {
            "image/png": "[encoded data removed]",
            "text/plain": [
              "<Figure size 432x288 with 1 Axes>"
            ]
          },
          "metadata": {
            "tags": []
          }
        },
        {
          "output_type": "display_data",
          "data": {
            "image/png": "[encoded data removed]",
            "text/plain": [
              "<Figure size 432x288 with 1 Axes>"
            ]
          },
          "metadata": {
            "tags": []
          }
        },
        {
          "output_type": "display_data",
          "data": {
            "image/png": "[encoded data removed]",
            "text/plain": [
              "<Figure size 432x288 with 1 Axes>"
            ]
          },
          "metadata": {
            "tags": []
          }
        },
        {
          "output_type": "display_data",
          "data": {
            "image/png": "[encoded data removed]",
            "text/plain": [
              "<Figure size 432x288 with 1 Axes>"
            ]
          },
          "metadata": {
            "tags": []
          }
        },
        {
          "output_type": "display_data",
          "data": {
            "image/png": "[encoded data removed]",
            "text/plain": [
              "<Figure size 432x288 with 1 Axes>"
            ]
          },
          "metadata": {
            "tags": []
          }
        },
        {
          "output_type": "display_data",
          "data": {
            "image/png": "[encoded data removed]",
            "text/plain": [
              "<Figure size 432x288 with 1 Axes>"
            ]
          },
          "metadata": {
            "tags": []
          }
        },
        {
          "output_type": "display_data",
          "data": {
            "image/png": "[encoded data removed]",
            "text/plain": [
              "<Figure size 432x288 with 1 Axes>"
            ]
          },
          "metadata": {
            "tags": []
          }
        },
        {
          "output_type": "display_data",
          "data": {
            "image/png": "[encoded data removed]",
            "text/plain": [
              "<Figure size 432x288 with 1 Axes>"
            ]
          },
          "metadata": {
            "tags": []
          }
        },
        {
          "output_type": "display_data",
          "data": {
            "image/png": "[encoded data removed]",
            "text/plain": [
              "<Figure size 432x288 with 1 Axes>"
            ]
          },
          "metadata": {
            "tags": []
          }
        },
        {
          "output_type": "display_data",
          "data": {
            "image/png": "[encoded data removed]",
            "text/plain": [
              "<Figure size 432x288 with 1 Axes>"
            ]
          },
          "metadata": {
            "tags": []
          }
        },
        {
          "output_type": "display_data",
          "data": {
            "image/png": "[encoded data removed]",
            "text/plain": [
              "<Figure size 432x288 with 1 Axes>"
            ]
          },
          "metadata": {
            "tags": []
          }
        },
        {
          "output_type": "display_data",
          "data": {
            "image/png": "[encoded data removed]",
            "text/plain": [
              "<Figure size 432x288 with 1 Axes>"
            ]
          },
          "metadata": {
            "tags": []
          }
        },
        {
          "output_type": "display_data",
          "data": {
            "image/png": "[encoded data removed]",
            "text/plain": [
              "<Figure size 432x288 with 1 Axes>"
            ]
          },
          "metadata": {
            "tags": []
          }
        },
        {
          "output_type": "display_data",
          "data": {
            "image/png": "[encoded data removed]",
            "text/plain": [
              "<Figure size 432x288 with 1 Axes>"
            ]
          },
          "metadata": {
            "tags": []
          }
        },
        {
          "output_type": "display_data",
          "data": {
            "image/png": "[encoded data removed]",
            "text/plain": [
              "<Figure size 432x288 with 1 Axes>"
            ]
          },
          "metadata": {
            "tags": []
          }
        }
      ]
    },
    {
      "cell_type": "code",
      "metadata": {
        "id": "tD3PMeCbcbc8",
        "colab_type": "code",
        "colab": {
          "base_uri": "https://localhost:8080/",
          "height": 608
        },
        "outputId": "748a097a-ba36-4a1a-a4d1-faadc21b302e"
      },
      "source": [
        "df_early.groupby('product_name')['order_hour_of_day'].plot(figsize=(20,10));"
      ],
      "execution_count": 159,
      "outputs": [
        {
          "output_type": "display_data",
          "data": {
            "image/png": "[encoded data removed]",
            "text/plain": [
              "<Figure size 1440x720 with 1 Axes>"
            ]
          },
          "metadata": {
            "tags": []
          }
        }
      ]
    },
    {
      "cell_type": "code",
      "metadata": {
        "id": "-vtcRzuQcbbB",
        "colab_type": "code",
        "colab": {}
      },
      "source": [
        ""
      ],
      "execution_count": 0,
      "outputs": []
    },
    {
      "cell_type": "code",
      "metadata": {
        "id": "K_i4Kb0D6kHb",
        "colab_type": "code",
        "colab": {}
      },
      "source": [
        ""
      ],
      "execution_count": 0,
      "outputs": []
    }
  ]
}