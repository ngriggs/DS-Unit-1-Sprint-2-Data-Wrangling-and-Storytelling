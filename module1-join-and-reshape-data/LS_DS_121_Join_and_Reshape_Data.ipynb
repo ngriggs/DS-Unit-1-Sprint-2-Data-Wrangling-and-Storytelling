{
  "nbformat": 4,
  "nbformat_minor": 0,
  "metadata": {
    "colab": {
      "name": "LS_DS_121_Join_and_Reshape_Data.ipynb",
      "version": "0.3.2",
      "provenance": [],
      "collapsed_sections": []
    },
    "kernelspec": {
      "display_name": "Python 3",
      "language": "python",
      "name": "python3"
    }
  },
  "cells": [
    {
      "cell_type": "markdown",
      "metadata": {
        "colab_type": "text",
        "id": "pmU5YUal1eTZ"
      },
      "source": [
        "_Lambda School Data Science_\n",
        "\n",
        "# Join and Reshape datasets\n",
        "\n",
        "Objectives\n",
        "- concatenate data with pandas\n",
        "- merge data with pandas\n",
        "-  understand tidy data formatting\n",
        "-  melt and pivot data with pandas\n",
        "\n",
        "Links\n",
        "- [Pandas Cheat Sheet](https://github.com/pandas-dev/pandas/blob/master/doc/cheatsheet/Pandas_Cheat_Sheet.pdf)\n",
        "- [Tidy Data](https://en.wikipedia.org/wiki/Tidy_data)\n",
        "  - Combine Data Sets: Standard Joins\n",
        "  - Tidy Data\n",
        "  - Reshaping Data\n",
        "- Python Data Science Handbook\n",
        "  - [Chapter 3.6](https://jakevdp.github.io/PythonDataScienceHandbook/03.06-concat-and-append.html), Combining Datasets: Concat and Append\n",
        "  - [Chapter 3.7](https://jakevdp.github.io/PythonDataScienceHandbook/03.07-merge-and-join.html), Combining Datasets: Merge and Join\n",
        "  - [Chapter 3.8](https://jakevdp.github.io/PythonDataScienceHandbook/03.08-aggregation-and-grouping.html), Aggregation and Grouping\n",
        "  - [Chapter 3.9](https://jakevdp.github.io/PythonDataScienceHandbook/03.09-pivot-tables.html), Pivot Tables\n",
        "  \n",
        "Reference\n",
        "- Pandas Documentation: [Reshaping and Pivot Tables](https://pandas.pydata.org/pandas-docs/stable/reshaping.html)\n",
        "- Modern Pandas, Part 5: [Tidy Data](https://tomaugspurger.github.io/modern-5-tidy.html)"
      ]
    },
    {
      "cell_type": "markdown",
      "metadata": {
        "colab_type": "text",
        "id": "Mmi3J5fXrwZ3"
      },
      "source": [
        "## Download data\n",
        "\n",
        "We’ll work with a dataset of [3 Million Instacart Orders, Open Sourced](https://tech.instacart.com/3-million-instacart-orders-open-sourced-d40d29ead6f2)!"
      ]
    },
    {
      "cell_type": "code",
      "metadata": {
        "colab_type": "code",
        "id": "K2kcrJVybjrW",
        "colab": {}
      },
      "source": [
        "!wget https://s3.amazonaws.com/instacart-datasets/instacart_online_grocery_shopping_2017_05_01.tar.gz"
      ],
      "execution_count": 0,
      "outputs": []
    },
    {
      "cell_type": "code",
      "metadata": {
        "colab_type": "code",
        "id": "kqX40b2kdgAb",
        "colab": {}
      },
      "source": [
        "!tar --gunzip --extract --verbose --file=instacart_online_grocery_shopping_2017_05_01.tar.gz"
      ],
      "execution_count": 0,
      "outputs": []
    },
    {
      "cell_type": "code",
      "metadata": {
        "colab_type": "code",
        "id": "YbCvZZCBfHCI",
        "colab": {}
      },
      "source": [
        "%cd instacart_2017_05_01"
      ],
      "execution_count": 0,
      "outputs": []
    },
    {
      "cell_type": "code",
      "metadata": {
        "id": "etshR5kpvWOj",
        "colab_type": "code",
        "colab": {}
      },
      "source": [
        "!ls -lh *.csv"
      ],
      "execution_count": 0,
      "outputs": []
    },
    {
      "cell_type": "markdown",
      "metadata": {
        "id": "RcCu3Tlgv6J2",
        "colab_type": "text"
      },
      "source": [
        "# Join Datasets"
      ]
    },
    {
      "cell_type": "markdown",
      "metadata": {
        "colab_type": "text",
        "id": "RsA14wiKr03j"
      },
      "source": [
        "## Goal: Reproduce this example\n",
        "\n",
        "The first two orders for user id 1:"
      ]
    },
    {
      "cell_type": "code",
      "metadata": {
        "colab_type": "code",
        "id": "vLqOTMcfjprg",
        "colab": {}
      },
      "source": [
        "from IPython.display import display, Image\n",
        "url = 'https://cdn-images-1.medium.com/max/1600/1*vYGFQCafJtGBBX5mbl0xyw.png'\n",
        "example = Image(url=url, width=600)\n",
        "\n",
        "display(example)"
      ],
      "execution_count": 0,
      "outputs": []
    },
    {
      "cell_type": "markdown",
      "metadata": {
        "colab_type": "text",
        "id": "nPwG8aM_txl4"
      },
      "source": [
        "## Load data\n",
        "\n",
        "Here's a list of all six CSV filenames"
      ]
    },
    {
      "cell_type": "code",
      "metadata": {
        "colab_type": "code",
        "id": "Ksah0cOrfdJQ",
        "colab": {}
      },
      "source": [
        "!ls -lh *.csv"
      ],
      "execution_count": 0,
      "outputs": []
    },
    {
      "cell_type": "markdown",
      "metadata": {
        "colab_type": "text",
        "id": "AHT7fKuxvPgV"
      },
      "source": [
        "For each CSV\n",
        "- Load it with pandas\n",
        "- Look at the dataframe's shape\n",
        "- Look at its head (first rows)\n",
        "- `display(example)`\n",
        "- Which columns does it have in common with the example we want to reproduce?"
      ]
    },
    {
      "cell_type": "markdown",
      "metadata": {
        "colab_type": "text",
        "id": "cB_5T6TprcUH"
      },
      "source": [
        "### aisles"
      ]
    },
    {
      "cell_type": "code",
      "metadata": {
        "colab_type": "code",
        "id": "JB3bvwSDK6v3",
        "colab": {}
      },
      "source": [
        "import pandas as pd\n",
        "aisles = pd.read_csv('aisles.csv')\n",
        "print(aisles.shape)\n",
        "aisles.head()"
      ],
      "execution_count": 0,
      "outputs": []
    },
    {
      "cell_type": "markdown",
      "metadata": {
        "colab_type": "text",
        "id": "9-GrkqM6rfXr"
      },
      "source": [
        "### departments"
      ]
    },
    {
      "cell_type": "code",
      "metadata": {
        "id": "yxFd5n20yOVn",
        "colab_type": "code",
        "colab": {}
      },
      "source": [
        "departments = pd.read_csv('departments.csv')\n",
        "print(departments.shape)\n",
        "departments.head()"
      ],
      "execution_count": 0,
      "outputs": []
    },
    {
      "cell_type": "markdown",
      "metadata": {
        "colab_type": "text",
        "id": "VhhVcn9kK-nG"
      },
      "source": [
        "### order_products__prior"
      ]
    },
    {
      "cell_type": "code",
      "metadata": {
        "id": "86rIMNFSzKaG",
        "colab_type": "code",
        "colab": {}
      },
      "source": [
        "order_products__prior = pd.read_csv('order_products__prior.csv')\n",
        "print(order_products__prior.shape)\n",
        "order_products__prior.head()"
      ],
      "execution_count": 0,
      "outputs": []
    },
    {
      "cell_type": "markdown",
      "metadata": {
        "colab_type": "text",
        "id": "HVYJEKJcLBut"
      },
      "source": [
        "### order_products__train"
      ]
    },
    {
      "cell_type": "code",
      "metadata": {
        "id": "xgwSUCBk6Ciy",
        "colab_type": "code",
        "colab": {}
      },
      "source": [
        "order_products__train = pd.read_csv('order_products__train.csv')\n",
        "print(order_products__train.shape)\n",
        "order_products__train.head()"
      ],
      "execution_count": 0,
      "outputs": []
    },
    {
      "cell_type": "code",
      "metadata": {
        "id": "bxkKzR7u0ksh",
        "colab_type": "code",
        "colab": {}
      },
      "source": [
        "!free -m"
      ],
      "execution_count": 0,
      "outputs": []
    },
    {
      "cell_type": "markdown",
      "metadata": {
        "colab_type": "text",
        "id": "LYPrWUJnrp7G"
      },
      "source": [
        "### orders"
      ]
    },
    {
      "cell_type": "code",
      "metadata": {
        "id": "UfPRTW5w128P",
        "colab_type": "code",
        "colab": {}
      },
      "source": [
        "orders = pd.read_csv('orders.csv')\n",
        "print(orders.shape)\n",
        "orders.head()"
      ],
      "execution_count": 0,
      "outputs": []
    },
    {
      "cell_type": "markdown",
      "metadata": {
        "colab_type": "text",
        "id": "nIX3SYXersao"
      },
      "source": [
        "### products"
      ]
    },
    {
      "cell_type": "code",
      "metadata": {
        "id": "3BKG5dxy2IOA",
        "colab_type": "code",
        "colab": {}
      },
      "source": [
        "products = pd.read_csv('products.csv')\n",
        "print(products.shape)\n",
        "products.head()"
      ],
      "execution_count": 0,
      "outputs": []
    },
    {
      "cell_type": "markdown",
      "metadata": {
        "colab_type": "text",
        "id": "cbHumXOiJfy2"
      },
      "source": [
        "## Concatenate order_products__prior and order_products__train"
      ]
    },
    {
      "cell_type": "code",
      "metadata": {
        "colab_type": "code",
        "id": "TJ23kqpAY8Vv",
        "colab": {}
      },
      "source": [
        "order_products = pd.concat([order_products__prior, order_products__train])\n",
        "print(order_products.shape)\n",
        "order_products.head()"
      ],
      "execution_count": 0,
      "outputs": []
    },
    {
      "cell_type": "code",
      "metadata": {
        "id": "UXFctVbD3nqk",
        "colab_type": "code",
        "colab": {}
      },
      "source": [
        "order_products.isna().sum()"
      ],
      "execution_count": 0,
      "outputs": []
    },
    {
      "cell_type": "markdown",
      "metadata": {
        "colab_type": "text",
        "id": "Z1YRw5ypJuv2"
      },
      "source": [
        "## Get a subset of orders — the first two orders for user id 1"
      ]
    },
    {
      "cell_type": "markdown",
      "metadata": {
        "id": "eJ9EixWs6K64",
        "colab_type": "text"
      },
      "source": [
        "From `orders` dataframe:\n",
        "- user_id\n",
        "- order_id\n",
        "- order_number\n",
        "- order_dow\n",
        "- order_hour_of_day"
      ]
    },
    {
      "cell_type": "code",
      "metadata": {
        "id": "f3Km0Xw_4lVi",
        "colab_type": "code",
        "colab": {}
      },
      "source": [
        "orders.head(1)"
      ],
      "execution_count": 0,
      "outputs": []
    },
    {
      "cell_type": "code",
      "metadata": {
        "id": "aaCWZqFj6H8S",
        "colab_type": "code",
        "colab": {}
      },
      "source": [
        "columns = ['order_id',\t'user_id',\t'order_number',\t'order_dow',\t'order_hour_of_day']\n",
        "subset = orders.loc[(orders.user_id == 1) & (orders.order_number <= 2), columns]\n",
        "subset"
      ],
      "execution_count": 0,
      "outputs": []
    },
    {
      "cell_type": "markdown",
      "metadata": {
        "colab_type": "text",
        "id": "3K1p0QHuKPnt"
      },
      "source": [
        "## Merge dataframes"
      ]
    },
    {
      "cell_type": "markdown",
      "metadata": {
        "id": "4MVZ9vb1BuO0",
        "colab_type": "text"
      },
      "source": [
        "Merge the subset from `orders` with columns from `order_products`"
      ]
    },
    {
      "cell_type": "code",
      "metadata": {
        "id": "3lajwEE86iKc",
        "colab_type": "code",
        "colab": {}
      },
      "source": [
        "display(example)"
      ],
      "execution_count": 0,
      "outputs": []
    },
    {
      "cell_type": "markdown",
      "metadata": {
        "id": "i1uLO1bxByfz",
        "colab_type": "text"
      },
      "source": [
        "Merge with columns from `products`"
      ]
    },
    {
      "cell_type": "code",
      "metadata": {
        "id": "D3Hfo2dkJlmh",
        "colab_type": "code",
        "colab": {}
      },
      "source": [
        "merged = pd.merge(subset, order_products[['order_id', 'add_to_cart_order', 'product_id']], how='left', on='order_id')\n",
        "merged.head(10)"
      ],
      "execution_count": 0,
      "outputs": []
    },
    {
      "cell_type": "code",
      "metadata": {
        "id": "vp_rFW6z81os",
        "colab_type": "code",
        "colab": {}
      },
      "source": [
        "subset.shape, order_products.shape, merged.shape"
      ],
      "execution_count": 0,
      "outputs": []
    },
    {
      "cell_type": "code",
      "metadata": {
        "id": "YEgHix2S9SdA",
        "colab_type": "code",
        "colab": {}
      },
      "source": [
        "products.head(1)"
      ],
      "execution_count": 0,
      "outputs": []
    },
    {
      "cell_type": "code",
      "metadata": {
        "id": "owUqW2rl9UyK",
        "colab_type": "code",
        "colab": {}
      },
      "source": [
        "final = pd.merge(merged, products[['product_id',\t'product_name']], how='left', on='product_id')"
      ],
      "execution_count": 0,
      "outputs": []
    },
    {
      "cell_type": "code",
      "metadata": {
        "id": "4YwnpU569nDM",
        "colab_type": "code",
        "colab": {}
      },
      "source": [
        "final"
      ],
      "execution_count": 0,
      "outputs": []
    },
    {
      "cell_type": "markdown",
      "metadata": {
        "id": "dDfzKXJdwApV",
        "colab_type": "text"
      },
      "source": [
        "# Reshape Datasets"
      ]
    },
    {
      "cell_type": "markdown",
      "metadata": {
        "id": "4stCppWhwIx0",
        "colab_type": "text"
      },
      "source": [
        "## Why reshape data?\n",
        "\n",
        "#### Some libraries prefer data in different formats\n",
        "\n",
        "For example, the Seaborn data visualization library prefers data in \"Tidy\" format often (but not always).\n",
        "\n",
        "> \"[Seaborn will be most powerful when your datasets have a particular organization.](https://seaborn.pydata.org/introduction.html#organizing-datasets) This format ia alternately called “long-form” or “tidy” data and is described in detail by Hadley Wickham. The rules can be simply stated:\n",
        "\n",
        "> - Each variable is a column\n",
        "- Each observation is a row\n",
        "\n",
        "> A helpful mindset for determining whether your data are tidy is to think backwards from the plot you want to draw. From this perspective, a “variable” is something that will be assigned a role in the plot.\"\n",
        "\n",
        "#### Data science is often about putting square pegs in round holes\n",
        "\n",
        "Here's an inspiring [video clip from _Apollo 13_](https://www.youtube.com/watch?v=ry55--J4_VQ): “Invent a way to put a square peg in a round hole.” It's a good metaphor for data wrangling!"
      ]
    },
    {
      "cell_type": "markdown",
      "metadata": {
        "id": "79KITszBwXp7",
        "colab_type": "text"
      },
      "source": [
        "## Hadley Wickham's Examples\n",
        "\n",
        "From his paper, [Tidy Data](http://vita.had.co.nz/papers/tidy-data.html)"
      ]
    },
    {
      "cell_type": "code",
      "metadata": {
        "id": "Jna5sk5FwYHr",
        "colab_type": "code",
        "colab": {}
      },
      "source": [
        "%matplotlib inline\n",
        "import pandas as pd\n",
        "import numpy as np\n",
        "import seaborn as sns\n",
        "\n",
        "table1 = pd.DataFrame(\n",
        "    [[np.nan, 2],\n",
        "     [16,    11], \n",
        "     [3,      1]],\n",
        "    index=['John Smith', 'Jane Doe', 'Mary Johnson'], \n",
        "    columns=['treatmenta', 'treatmentb'])\n",
        "\n",
        "table2 = table1.T"
      ],
      "execution_count": 0,
      "outputs": []
    },
    {
      "cell_type": "markdown",
      "metadata": {
        "id": "eWe5rpI9wdvT",
        "colab_type": "text"
      },
      "source": [
        "\"Table 1 provides some data about an imaginary experiment in a format commonly seen in the wild. \n",
        "\n",
        "The table has two columns and three rows, and both rows and columns are labelled.\""
      ]
    },
    {
      "cell_type": "code",
      "metadata": {
        "id": "SdUp5LbcwgNK",
        "colab_type": "code",
        "colab": {}
      },
      "source": [
        "table1"
      ],
      "execution_count": 0,
      "outputs": []
    },
    {
      "cell_type": "markdown",
      "metadata": {
        "id": "SaEcDmZhwmon",
        "colab_type": "text"
      },
      "source": [
        "\"There are many ways to structure the same underlying data. \n",
        "\n",
        "Table 2 shows the same data as Table 1, but the rows and columns have been transposed. The data is the same, but the layout is different.\""
      ]
    },
    {
      "cell_type": "code",
      "metadata": {
        "id": "SwDVoCj5woAn",
        "colab_type": "code",
        "colab": {}
      },
      "source": [
        "table2"
      ],
      "execution_count": 0,
      "outputs": []
    },
    {
      "cell_type": "markdown",
      "metadata": {
        "id": "k3ratDNbwsyN",
        "colab_type": "text"
      },
      "source": [
        "\"Table 3 reorganises Table 1 to make the values, variables and obserations more clear.\n",
        "\n",
        "Table 3 is the tidy version of Table 1. Each row represents an observation, the result of one treatment on one person, and each column is a variable.\"\n",
        "\n",
        "| name         | trt | result |\n",
        "|--------------|-----|--------|\n",
        "| John Smith   | a   | -      |\n",
        "| Jane Doe     | a   | 16     |\n",
        "| Mary Johnson | a   | 3      |\n",
        "| John Smith   | b   | 2      |\n",
        "| Jane Doe     | b   | 11     |\n",
        "| Mary Johnson | b   | 1      |"
      ]
    },
    {
      "cell_type": "markdown",
      "metadata": {
        "id": "WsvD1I3TwwnI",
        "colab_type": "text"
      },
      "source": [
        "## Table 1 --> Tidy\n",
        "\n",
        "We can use the pandas `melt` function to reshape Table 1 into Tidy format."
      ]
    },
    {
      "cell_type": "code",
      "metadata": {
        "id": "S48tKmC46veF",
        "colab_type": "code",
        "colab": {}
      },
      "source": [
        "table1"
      ],
      "execution_count": 0,
      "outputs": []
    },
    {
      "cell_type": "code",
      "metadata": {
        "id": "pmmt41wJDEHs",
        "colab_type": "code",
        "colab": {}
      },
      "source": [
        "table1.columns"
      ],
      "execution_count": 0,
      "outputs": []
    },
    {
      "cell_type": "code",
      "metadata": {
        "id": "sLL9tnsbDHNu",
        "colab_type": "code",
        "colab": {}
      },
      "source": [
        "table1 = table1.reset_index()\n",
        "table1"
      ],
      "execution_count": 0,
      "outputs": []
    },
    {
      "cell_type": "code",
      "metadata": {
        "id": "l5OuYmOyDPvP",
        "colab_type": "code",
        "colab": {}
      },
      "source": [
        "tidy = table1.melt(id_vars='index')\n",
        "tidy"
      ],
      "execution_count": 0,
      "outputs": []
    },
    {
      "cell_type": "code",
      "metadata": {
        "id": "mC-keTtcDw3g",
        "colab_type": "code",
        "colab": {}
      },
      "source": [
        "tidy = tidy.rename(columns={'index':'name', 'variable': 'trt', 'value': 'result'})\n",
        "tidy['trt'] = tidy.trt.str.replace('treatment', '')\n",
        "tidy"
      ],
      "execution_count": 0,
      "outputs": []
    },
    {
      "cell_type": "markdown",
      "metadata": {
        "id": "Ck15sXaJxPrd",
        "colab_type": "text"
      },
      "source": [
        "## Table 2 --> Tidy"
      ]
    },
    {
      "cell_type": "code",
      "metadata": {
        "id": "k2Qn94RIxQhV",
        "colab_type": "code",
        "colab": {}
      },
      "source": [
        "##### LEAVE BLANK --an assignment exercise #####"
      ],
      "execution_count": 0,
      "outputs": []
    },
    {
      "cell_type": "markdown",
      "metadata": {
        "id": "As0W7PWLxea3",
        "colab_type": "text"
      },
      "source": [
        "## Tidy --> Table 1\n",
        "\n",
        "The `pivot_table` function is the inverse of `melt`."
      ]
    },
    {
      "cell_type": "code",
      "metadata": {
        "id": "CdZZiLYoxfJC",
        "colab_type": "code",
        "colab": {}
      },
      "source": [
        "wide = tidy.pivot_table(values='result', index='name', columns='trt')\n",
        "wide"
      ],
      "execution_count": 0,
      "outputs": []
    },
    {
      "cell_type": "markdown",
      "metadata": {
        "id": "3GeAKoSZxoPS",
        "colab_type": "text"
      },
      "source": [
        "## Tidy --> Table 2"
      ]
    },
    {
      "cell_type": "code",
      "metadata": {
        "id": "W2jjciN2xk9r",
        "colab_type": "code",
        "colab": {}
      },
      "source": [
        "##### LEAVE BLANK --an assignment exercise #####"
      ],
      "execution_count": 0,
      "outputs": []
    },
    {
      "cell_type": "markdown",
      "metadata": {
        "id": "jr0jQy6Oxqi7",
        "colab_type": "text"
      },
      "source": [
        "# Seaborn example\n",
        "\n",
        "The rules can be simply stated:\n",
        "\n",
        "- Each variable is a column\n",
        "- Each observation is a row\n",
        "\n",
        "A helpful mindset for determining whether your data are tidy is to think backwards from the plot you want to draw. From this perspective, a “variable” is something that will be assigned a role in the plot.\""
      ]
    },
    {
      "cell_type": "code",
      "metadata": {
        "id": "kWo3FIP9xuKo",
        "colab_type": "code",
        "colab": {}
      },
      "source": [
        "sns.catplot(x='trt', y='result', col='name', \n",
        "            kind='bar', data=tidy, height=2);"
      ],
      "execution_count": 0,
      "outputs": []
    },
    {
      "cell_type": "markdown",
      "metadata": {
        "id": "cIgT41Rxx4oj",
        "colab_type": "text"
      },
      "source": [
        "## Now with Instacart data"
      ]
    },
    {
      "cell_type": "code",
      "metadata": {
        "id": "Oydw0VvGxyDJ",
        "colab_type": "code",
        "colab": {}
      },
      "source": [
        "products = pd.read_csv('products.csv')\n",
        "\n",
        "order_products = pd.concat([pd.read_csv('order_products__prior.csv'), \n",
        "                            pd.read_csv('order_products__train.csv')])\n",
        "\n",
        "orders = pd.read_csv('orders.csv')"
      ],
      "execution_count": 0,
      "outputs": []
    },
    {
      "cell_type": "markdown",
      "metadata": {
        "id": "6p-IsG0jyXQj",
        "colab_type": "text"
      },
      "source": [
        "## Goal: Reproduce part of this example\n",
        "\n",
        "Instead of a plot with 50 products, we'll just do two — the first products from each list\n",
        "- Half And Half Ultra Pasteurized\n",
        "- Half Baked Frozen Yogurt"
      ]
    },
    {
      "cell_type": "code",
      "metadata": {
        "id": "Rs-_n9yjyZ15",
        "colab_type": "code",
        "colab": {}
      },
      "source": [
        "from IPython.display import display, Image\n",
        "url = 'https://cdn-images-1.medium.com/max/1600/1*wKfV6OV-_1Ipwrl7AjjSuw.png'\n",
        "example = Image(url=url, width=600)\n",
        "\n",
        "display(example)"
      ],
      "execution_count": 0,
      "outputs": []
    },
    {
      "cell_type": "markdown",
      "metadata": {
        "id": "Vj5GR7I4ydBg",
        "colab_type": "text"
      },
      "source": [
        "So, given a `product_name` we need to calculate its `order_hour_of_day` pattern."
      ]
    },
    {
      "cell_type": "markdown",
      "metadata": {
        "id": "Vc9_s7-LyhBI",
        "colab_type": "text"
      },
      "source": [
        "## Subset and Merge\n",
        "\n",
        "One challenge of performing a merge on this data is that the `products` and `orders` datasets do not have any common columns that we can merge on. Due to this we will have to use the `order_products` dataset to provide the columns that we will use to perform the merge."
      ]
    },
    {
      "cell_type": "code",
      "metadata": {
        "id": "W1yHMS-OyUTH",
        "colab_type": "code",
        "colab": {}
      },
      "source": [
        "product_names = ['Half And Half Ultra Pasteurized', 'Half Baked Frozen Yogurt']"
      ],
      "execution_count": 0,
      "outputs": []
    },
    {
      "cell_type": "code",
      "metadata": {
        "id": "no9qikG6HUPQ",
        "colab_type": "code",
        "colab": {}
      },
      "source": [
        "products.columns.to_list()"
      ],
      "execution_count": 0,
      "outputs": []
    },
    {
      "cell_type": "code",
      "metadata": {
        "id": "mOLuhwtUHWnx",
        "colab_type": "code",
        "colab": {}
      },
      "source": [
        "orders.columns.to_list()"
      ],
      "execution_count": 0,
      "outputs": []
    },
    {
      "cell_type": "code",
      "metadata": {
        "id": "uCtlisORHZSS",
        "colab_type": "code",
        "colab": {}
      },
      "source": [
        "order_products.columns.to_list()"
      ],
      "execution_count": 0,
      "outputs": []
    },
    {
      "cell_type": "code",
      "metadata": {
        "id": "U_oi0ag0HblH",
        "colab_type": "code",
        "colab": {}
      },
      "source": [
        "merged = (products[['product_id', 'product_name']]\n",
        "          .merge(order_products[['product_id', 'order_id']])\n",
        "          .merge(orders[['order_id', 'order_hour_of_day']]))\n",
        "merged"
      ],
      "execution_count": 0,
      "outputs": []
    },
    {
      "cell_type": "code",
      "metadata": {
        "id": "dfqY-pRuIsnM",
        "colab_type": "code",
        "colab": {}
      },
      "source": [
        "condition = ((merged['product_name'] == product_names[0]) |\n",
        "            (merged['product_name'] == product_names[1]))\n",
        "\n",
        "# Other approach that works\n",
        "condition = merged['product_name'].isin(product_names)"
      ],
      "execution_count": 0,
      "outputs": []
    },
    {
      "cell_type": "code",
      "metadata": {
        "id": "s2Td6fh1JMbL",
        "colab_type": "code",
        "colab": {}
      },
      "source": [
        "subset = merged[condition]\n",
        "print(subset.shape)\n",
        "subset.head()"
      ],
      "execution_count": 0,
      "outputs": []
    },
    {
      "cell_type": "markdown",
      "metadata": {
        "id": "UvhcadjFzx0Q",
        "colab_type": "text"
      },
      "source": [
        "## 4 ways to reshape and plot"
      ]
    },
    {
      "cell_type": "markdown",
      "metadata": {
        "id": "aEE_nCWjzz7f",
        "colab_type": "text"
      },
      "source": [
        "### 1. value_counts"
      ]
    },
    {
      "cell_type": "code",
      "metadata": {
        "id": "vTL3Cko87VL-",
        "colab_type": "code",
        "colab": {}
      },
      "source": [
        "subset.groupby('order_hour_of_day').product_name.value_counts().unstack().plot()"
      ],
      "execution_count": 0,
      "outputs": []
    },
    {
      "cell_type": "markdown",
      "metadata": {
        "id": "tMSd6YDj0BjE",
        "colab_type": "text"
      },
      "source": [
        "### 2. crosstab"
      ]
    },
    {
      "cell_type": "code",
      "metadata": {
        "id": "Slu2bWYK0CZD",
        "colab_type": "code",
        "colab": {}
      },
      "source": [
        "pd.crosstab(subset['order_hour_of_day'], subset['product_name'], normalize='columns').plot()"
      ],
      "execution_count": 0,
      "outputs": []
    },
    {
      "cell_type": "markdown",
      "metadata": {
        "id": "ICjPVqO70Hv8",
        "colab_type": "text"
      },
      "source": [
        "### 3. Pivot Table"
      ]
    },
    {
      "cell_type": "code",
      "metadata": {
        "id": "LQtMNVa10I_S",
        "colab_type": "code",
        "colab": {}
      },
      "source": [
        "subset.pivot_table(index='order_hour_of_day', columns='product_name')"
      ],
      "execution_count": 0,
      "outputs": []
    },
    {
      "cell_type": "markdown",
      "metadata": {
        "id": "7A9jfBVv0M7e",
        "colab_type": "text"
      },
      "source": [
        "### 4. melt"
      ]
    },
    {
      "cell_type": "markdown",
      "metadata": {
        "colab_type": "text",
        "id": "kAMtvSQWPUcj"
      },
      "source": [
        "# Assignment\n",
        "\n",
        "## Join Data Section\n",
        "\n",
        "These are the top 10 most frequently ordered products. How many times was each ordered? \n",
        "\n",
        "1. Banana\n",
        "2. Bag of Organic Bananas\n",
        "3. Organic Strawberries\n",
        "4. Organic Baby Spinach \n",
        "5. Organic Hass Avocado\n",
        "6. Organic Avocado\n",
        "7. Large Lemon \n",
        "8. Strawberries\n",
        "9. Limes \n",
        "10. Organic Whole Milk\n",
        "\n",
        "First, write down which columns you need and which dataframes have them.\n",
        "\n",
        "Next, merge these into a single dataframe.\n",
        "\n",
        "Then, use pandas functions from the previous lesson to get the counts of the top 10 most frequently ordered products.\n",
        "\n",
        "## Reshape Data Section\n",
        "\n",
        "- Replicate the lesson code\n",
        "- Complete the code cells we skipped near the beginning of the notebook\n",
        "- Table 2 --> Tidy\n",
        "- Tidy --> Table 2\n",
        "- Load seaborn's `flights` dataset by running the cell below. Then create a pivot table showing the number of passengers by month and year. Use year for the index and month for the columns. You've done it right if you get 112 passengers for January 1949 and 432 passengers for December 1960."
      ]
    },
    {
      "cell_type": "markdown",
      "metadata": {
        "id": "UlvdvU52zvFE",
        "colab_type": "text"
      },
      "source": [
        "### Join Data Section"
      ]
    },
    {
      "cell_type": "code",
      "metadata": {
        "id": "2AmbAKm20PAg",
        "colab_type": "code",
        "colab": {}
      },
      "source": [
        "!wget https://s3.amazonaws.com/instacart-datasets/instacart_online_grocery_shopping_2017_05_01.tar.gz"
      ],
      "execution_count": 0,
      "outputs": []
    },
    {
      "cell_type": "code",
      "metadata": {
        "id": "YHDGtFRxsY5H",
        "colab_type": "code",
        "colab": {}
      },
      "source": [
        "!tar --gunzip --extract --verbose --file=instacart_online_grocery_shopping_2017_05_01.tar.gz"
      ],
      "execution_count": 0,
      "outputs": []
    },
    {
      "cell_type": "code",
      "metadata": {
        "id": "8cI70gr-s8Js",
        "colab_type": "code",
        "colab": {}
      },
      "source": [
        "%cd instacart_2017_05_01"
      ],
      "execution_count": 0,
      "outputs": []
    },
    {
      "cell_type": "code",
      "metadata": {
        "id": "oA0mJCPOsd_r",
        "colab_type": "code",
        "colab": {}
      },
      "source": [
        "import pandas as pd\n",
        "products = pd.read_csv('products.csv')\n",
        "print(products.shape)\n",
        "products.head()"
      ],
      "execution_count": 0,
      "outputs": []
    },
    {
      "cell_type": "code",
      "metadata": {
        "id": "avc5GAybswf7",
        "colab_type": "code",
        "colab": {}
      },
      "source": [
        "order_products__prior = pd.read_csv('order_products__prior.csv')\n",
        "print(order_products__prior.shape)\n",
        "order_products__prior.head()"
      ],
      "execution_count": 0,
      "outputs": []
    },
    {
      "cell_type": "code",
      "metadata": {
        "id": "Eh8x7DIgtHLj",
        "colab_type": "code",
        "colab": {}
      },
      "source": [
        "order_products__train = pd.read_csv('order_products__train.csv')\n",
        "print(order_products__train.shape)\n",
        "order_products__train.head()"
      ],
      "execution_count": 0,
      "outputs": []
    },
    {
      "cell_type": "code",
      "metadata": {
        "id": "W7vhCOBitLrZ",
        "colab_type": "code",
        "colab": {}
      },
      "source": [
        "order_products = pd.concat([order_products__prior, order_products__train])\n",
        "print(order_products.shape)\n",
        "order_products.head()"
      ],
      "execution_count": 0,
      "outputs": []
    },
    {
      "cell_type": "code",
      "metadata": {
        "id": "ODMRdGWFtSWU",
        "colab_type": "code",
        "colab": {}
      },
      "source": [
        "merged = (products[['product_id', 'product_name']].merge(order_products[['product_id', 'order_id', 'add_to_cart_order']]))\n",
        "merged.head()"
      ],
      "execution_count": 0,
      "outputs": []
    },
    {
      "cell_type": "code",
      "metadata": {
        "id": "uRye0EYwuIwT",
        "colab_type": "code",
        "colab": {}
      },
      "source": [
        "# So technically, these items were added to the cart more; however, some of them were not ordered more than other items.\n",
        "merged.groupby('product_name').add_to_cart_order.sum().sort_values(ascending=False)[:10]"
      ],
      "execution_count": 0,
      "outputs": []
    },
    {
      "cell_type": "code",
      "metadata": {
        "id": "3E7EubQWwTKH",
        "colab_type": "code",
        "colab": {}
      },
      "source": [
        "merged.product_name.value_counts()[:10]"
      ],
      "execution_count": 0,
      "outputs": []
    },
    {
      "cell_type": "code",
      "metadata": {
        "id": "Jw3JhsYIwN7D",
        "colab_type": "code",
        "colab": {}
      },
      "source": [
        "product_names = ['Banana',\n",
        "'Bag of Organic Bananas',\n",
        "'Organic Strawberries',\n",
        "'Organic Baby Spinach',\n",
        "'Organic Hass Avocado',\n",
        "'Organic Avocado',\n",
        "'Large Lemon',\n",
        "'Strawberries',\n",
        "'Limes',\n",
        "'Organic Whole Milk']"
      ],
      "execution_count": 0,
      "outputs": []
    },
    {
      "cell_type": "code",
      "metadata": {
        "id": "lDUCMBtawZ5V",
        "colab_type": "code",
        "colab": {}
      },
      "source": [
        "condition = merged['product_name'].isin(product_names)"
      ],
      "execution_count": 0,
      "outputs": []
    },
    {
      "cell_type": "code",
      "metadata": {
        "id": "9g5C-iTFxEIa",
        "colab_type": "code",
        "colab": {}
      },
      "source": [
        "subset = merged[condition]\n",
        "print(subset.shape)\n",
        "subset.head()"
      ],
      "execution_count": 0,
      "outputs": []
    },
    {
      "cell_type": "code",
      "metadata": {
        "id": "y2Xncmq-vpIv",
        "colab_type": "code",
        "colab": {}
      },
      "source": [
        "subset.groupby('product_name').add_to_cart_order.sum().sort_values(ascending=False)[:10]"
      ],
      "execution_count": 0,
      "outputs": []
    },
    {
      "cell_type": "markdown",
      "metadata": {
        "id": "s663PYDTzzZ8",
        "colab_type": "text"
      },
      "source": [
        "### Reshape Data Section"
      ]
    },
    {
      "cell_type": "code",
      "metadata": {
        "id": "Y6Wz1AHEz1gM",
        "colab_type": "code",
        "colab": {}
      },
      "source": [
        "%matplotlib inline\n",
        "import pandas as pd\n",
        "import numpy as np\n",
        "import seaborn as sns\n",
        "\n",
        "table1 = pd.DataFrame(\n",
        "    [[np.nan, 2],\n",
        "     [16,    11], \n",
        "     [3,      1]],\n",
        "    index=['John Smith', 'Jane Doe', 'Mary Johnson'], \n",
        "    columns=['treatmenta', 'treatmentb'])\n",
        "\n",
        "table2 = table1.T"
      ],
      "execution_count": 0,
      "outputs": []
    },
    {
      "cell_type": "markdown",
      "metadata": {
        "colab_type": "text",
        "id": "rYC2f3cP0eIM"
      },
      "source": [
        "\"Table 3 reorganises Table 1 to make the values, variables and obserations more clear.\n",
        "\n",
        "Table 3 is the tidy version of Table 1. Each row represents an observation, the result of one treatment on one person, and each column is a variable.\"\n",
        "\n",
        "| name         | trt | result |\n",
        "|--------------|-----|--------|\n",
        "| John Smith   | a   | -      |\n",
        "| Jane Doe     | a   | 16     |\n",
        "| Mary Johnson | a   | 3      |\n",
        "| John Smith   | b   | 2      |\n",
        "| Jane Doe     | b   | 11     |\n",
        "| Mary Johnson | b   | 1      |"
      ]
    },
    {
      "cell_type": "code",
      "metadata": {
        "id": "1qfV3UXE0FyM",
        "colab_type": "code",
        "colab": {}
      },
      "source": [
        "table2"
      ],
      "execution_count": 0,
      "outputs": []
    },
    {
      "cell_type": "code",
      "metadata": {
        "id": "asi9WSr01Sec",
        "colab_type": "code",
        "colab": {}
      },
      "source": [
        "table2 = table2.reset_index()\n",
        "table2"
      ],
      "execution_count": 0,
      "outputs": []
    },
    {
      "cell_type": "code",
      "metadata": {
        "id": "ScYglm-11_uK",
        "colab_type": "code",
        "colab": {}
      },
      "source": [
        "tidy = table2.melt(id_vars='index')\n",
        "tidy"
      ],
      "execution_count": 0,
      "outputs": []
    },
    {
      "cell_type": "code",
      "metadata": {
        "id": "28Slt78s2Ivq",
        "colab_type": "code",
        "colab": {}
      },
      "source": [
        "tidy = tidy.rename(columns={'index': 'trt', 'variable': 'name', 'value': 'result'})\n",
        "tidy"
      ],
      "execution_count": 0,
      "outputs": []
    },
    {
      "cell_type": "code",
      "metadata": {
        "id": "0SpMVSNT2s9K",
        "colab_type": "code",
        "colab": {}
      },
      "source": [
        "tidy['trt'] = tidy.trt.str.replace('treatment', '')\n",
        "tidy"
      ],
      "execution_count": 0,
      "outputs": []
    },
    {
      "cell_type": "code",
      "metadata": {
        "id": "bv-X-oeA24zF",
        "colab_type": "code",
        "colab": {}
      },
      "source": [
        "# Now lets use pivot table\n",
        "wide = tidy.pivot_table(values='result', index='trt', columns='name')\n",
        "wide"
      ],
      "execution_count": 0,
      "outputs": []
    },
    {
      "cell_type": "markdown",
      "metadata": {
        "id": "ZbDHbdbP3phX",
        "colab_type": "text"
      },
      "source": [
        "### Seaborn flights data"
      ]
    },
    {
      "cell_type": "code",
      "metadata": {
        "id": "fgxulJQq0uLw",
        "colab_type": "code",
        "colab": {}
      },
      "source": [
        "flights = sns.load_dataset('flights')"
      ],
      "execution_count": 0,
      "outputs": []
    },
    {
      "cell_type": "code",
      "metadata": {
        "id": "s5n_cxw-4YmO",
        "colab_type": "code",
        "colab": {}
      },
      "source": [
        "flights"
      ],
      "execution_count": 0,
      "outputs": []
    },
    {
      "cell_type": "code",
      "metadata": {
        "id": "nLyAMeTZ4Lkd",
        "colab_type": "code",
        "colab": {}
      },
      "source": [
        "flights = flights.pivot_table(index='year', columns='month')\n",
        "flights"
      ],
      "execution_count": 0,
      "outputs": []
    },
    {
      "cell_type": "markdown",
      "metadata": {
        "id": "mnOuqL9K0dqh",
        "colab_type": "text"
      },
      "source": [
        "## Join Data Stretch Challenge\n",
        "\n",
        "The [Instacart blog post](https://tech.instacart.com/3-million-instacart-orders-open-sourced-d40d29ead6f2) has a visualization of \"**Popular products** purchased earliest in the day (green) and latest in the day (red).\" \n",
        "\n",
        "The post says,\n",
        "\n",
        "> \"We can also see the time of day that users purchase specific products.\n",
        "\n",
        "> Healthier snacks and staples tend to be purchased earlier in the day, whereas ice cream (especially Half Baked and The Tonight Dough) are far more popular when customers are ordering in the evening.\n",
        "\n",
        "> **In fact, of the top 25 latest ordered products, the first 24 are ice cream! The last one, of course, is a frozen pizza.**\"\n",
        "\n",
        "Your challenge is to reproduce the list of the top 25 latest ordered popular products.\n",
        "\n",
        "We'll define \"popular products\" as products with more than 2,900 orders.\n",
        "\n",
        "## Reshape Data Stretch Challenge\n",
        "\n",
        "_Try whatever sounds most interesting to you!_\n",
        "\n",
        "- Replicate more of Instacart's visualization showing \"Hour of Day Ordered\" vs \"Percent of Orders by Product\"\n",
        "- Replicate parts of the other visualization from [Instacart's blog post](https://tech.instacart.com/3-million-instacart-orders-open-sourced-d40d29ead6f2), showing \"Number of Purchases\" vs \"Percent Reorder Purchases\"\n",
        "- Get the most recent order for each user in Instacart's dataset. This is a useful baseline when [predicting a user's next order](https://www.kaggle.com/c/instacart-market-basket-analysis)\n",
        "- Replicate parts of the blog post linked at the top of this notebook: [Modern Pandas, Part 5: Tidy Data](https://tomaugspurger.github.io/modern-5-tidy.html)"
      ]
    },
    {
      "cell_type": "code",
      "metadata": {
        "id": "qeV6Kalr4tMG",
        "colab_type": "code",
        "outputId": "f29a9506-2e1e-41a0-b7c6-6e573b174b37",
        "colab": {
          "base_uri": "https://localhost:8080/",
          "height": 204
        }
      },
      "source": [
        "!wget https://s3.amazonaws.com/instacart-datasets/instacart_online_grocery_shopping_2017_05_01.tar.gz"
      ],
      "execution_count": 1,
      "outputs": [
        {
          "output_type": "stream",
          "text": [
            "--2019-07-27 03:39:57--  https://s3.amazonaws.com/instacart-datasets/instacart_online_grocery_shopping_2017_05_01.tar.gz\n",
            "Resolving s3.amazonaws.com (s3.amazonaws.com)... 52.216.205.109\n",
            "Connecting to s3.amazonaws.com (s3.amazonaws.com)|52.216.205.109|:443... connected.\n",
            "HTTP request sent, awaiting response... 200 OK\n",
            "Length: 205548478 (196M) [application/x-gzip]\n",
            "Saving to: ‘instacart_online_grocery_shopping_2017_05_01.tar.gz.3’\n",
            "\n",
            "instacart_online_gr 100%[===================>] 196.03M  79.7MB/s    in 2.5s    \n",
            "\n",
            "2019-07-27 03:39:59 (79.7 MB/s) - ‘instacart_online_grocery_shopping_2017_05_01.tar.gz.3’ saved [205548478/205548478]\n",
            "\n"
          ],
          "name": "stdout"
        }
      ]
    },
    {
      "cell_type": "code",
      "metadata": {
        "id": "0dJDBFjl5CnR",
        "colab_type": "code",
        "outputId": "18cde1d8-4a72-46db-947f-e1e9edaae261",
        "colab": {
          "base_uri": "https://localhost:8080/",
          "height": 238
        }
      },
      "source": [
        "!tar --gunzip --extract --verbose --file=instacart_online_grocery_shopping_2017_05_01.tar.gz"
      ],
      "execution_count": 2,
      "outputs": [
        {
          "output_type": "stream",
          "text": [
            "instacart_2017_05_01/\n",
            "instacart_2017_05_01/._aisles.csv\n",
            "instacart_2017_05_01/aisles.csv\n",
            "instacart_2017_05_01/._departments.csv\n",
            "instacart_2017_05_01/departments.csv\n",
            "instacart_2017_05_01/._order_products__prior.csv\n",
            "instacart_2017_05_01/order_products__prior.csv\n",
            "instacart_2017_05_01/._order_products__train.csv\n",
            "instacart_2017_05_01/order_products__train.csv\n",
            "instacart_2017_05_01/._orders.csv\n",
            "instacart_2017_05_01/orders.csv\n",
            "instacart_2017_05_01/._products.csv\n",
            "instacart_2017_05_01/products.csv\n"
          ],
          "name": "stdout"
        }
      ]
    },
    {
      "cell_type": "code",
      "metadata": {
        "id": "YAU9Mh6-5mIs",
        "colab_type": "code",
        "outputId": "e51455c0-7d47-4ab9-a15b-a5aa80f5ae87",
        "colab": {
          "base_uri": "https://localhost:8080/",
          "height": 34
        }
      },
      "source": [
        "%cd instacart_2017_05_01"
      ],
      "execution_count": 3,
      "outputs": [
        {
          "output_type": "stream",
          "text": [
            "/content/instacart_2017_05_01\n"
          ],
          "name": "stdout"
        }
      ]
    },
    {
      "cell_type": "code",
      "metadata": {
        "id": "v6sa-H3c59wZ",
        "colab_type": "code",
        "outputId": "26234051-eb73-4245-ab8e-c350c77ba48a",
        "colab": {
          "base_uri": "https://localhost:8080/",
          "height": 221
        }
      },
      "source": [
        "import pandas as pd\n",
        "products = pd.read_csv('products.csv')\n",
        "print(products.shape)\n",
        "products.head()"
      ],
      "execution_count": 4,
      "outputs": [
        {
          "output_type": "stream",
          "text": [
            "(49688, 4)\n"
          ],
          "name": "stdout"
        },
        {
          "output_type": "execute_result",
          "data": {
            "text/html": [
              "<div>\n",
              "<style scoped>\n",
              "    .dataframe tbody tr th:only-of-type {\n",
              "        vertical-align: middle;\n",
              "    }\n",
              "\n",
              "    .dataframe tbody tr th {\n",
              "        vertical-align: top;\n",
              "    }\n",
              "\n",
              "    .dataframe thead th {\n",
              "        text-align: right;\n",
              "    }\n",
              "</style>\n",
              "<table border=\"1\" class=\"dataframe\">\n",
              "  <thead>\n",
              "    <tr style=\"text-align: right;\">\n",
              "      <th></th>\n",
              "      <th>product_id</th>\n",
              "      <th>product_name</th>\n",
              "      <th>aisle_id</th>\n",
              "      <th>department_id</th>\n",
              "    </tr>\n",
              "  </thead>\n",
              "  <tbody>\n",
              "    <tr>\n",
              "      <th>0</th>\n",
              "      <td>1</td>\n",
              "      <td>Chocolate Sandwich Cookies</td>\n",
              "      <td>61</td>\n",
              "      <td>19</td>\n",
              "    </tr>\n",
              "    <tr>\n",
              "      <th>1</th>\n",
              "      <td>2</td>\n",
              "      <td>All-Seasons Salt</td>\n",
              "      <td>104</td>\n",
              "      <td>13</td>\n",
              "    </tr>\n",
              "    <tr>\n",
              "      <th>2</th>\n",
              "      <td>3</td>\n",
              "      <td>Robust Golden Unsweetened Oolong Tea</td>\n",
              "      <td>94</td>\n",
              "      <td>7</td>\n",
              "    </tr>\n",
              "    <tr>\n",
              "      <th>3</th>\n",
              "      <td>4</td>\n",
              "      <td>Smart Ones Classic Favorites Mini Rigatoni Wit...</td>\n",
              "      <td>38</td>\n",
              "      <td>1</td>\n",
              "    </tr>\n",
              "    <tr>\n",
              "      <th>4</th>\n",
              "      <td>5</td>\n",
              "      <td>Green Chile Anytime Sauce</td>\n",
              "      <td>5</td>\n",
              "      <td>13</td>\n",
              "    </tr>\n",
              "  </tbody>\n",
              "</table>\n",
              "</div>"
            ],
            "text/plain": [
              "   product_id  ... department_id\n",
              "0           1  ...            19\n",
              "1           2  ...            13\n",
              "2           3  ...             7\n",
              "3           4  ...             1\n",
              "4           5  ...            13\n",
              "\n",
              "[5 rows x 4 columns]"
            ]
          },
          "metadata": {
            "tags": []
          },
          "execution_count": 4
        }
      ]
    },
    {
      "cell_type": "code",
      "metadata": {
        "id": "nxMx6MAs6zW9",
        "colab_type": "code",
        "outputId": "d131307a-45bf-4483-ffa1-28ba986be9e5",
        "colab": {
          "base_uri": "https://localhost:8080/",
          "height": 221
        }
      },
      "source": [
        "order_products__prior = pd.read_csv('order_products__prior.csv')\n",
        "print(order_products__prior.shape)\n",
        "order_products__prior.head()"
      ],
      "execution_count": 5,
      "outputs": [
        {
          "output_type": "stream",
          "text": [
            "(32434489, 4)\n"
          ],
          "name": "stdout"
        },
        {
          "output_type": "execute_result",
          "data": {
            "text/html": [
              "<div>\n",
              "<style scoped>\n",
              "    .dataframe tbody tr th:only-of-type {\n",
              "        vertical-align: middle;\n",
              "    }\n",
              "\n",
              "    .dataframe tbody tr th {\n",
              "        vertical-align: top;\n",
              "    }\n",
              "\n",
              "    .dataframe thead th {\n",
              "        text-align: right;\n",
              "    }\n",
              "</style>\n",
              "<table border=\"1\" class=\"dataframe\">\n",
              "  <thead>\n",
              "    <tr style=\"text-align: right;\">\n",
              "      <th></th>\n",
              "      <th>order_id</th>\n",
              "      <th>product_id</th>\n",
              "      <th>add_to_cart_order</th>\n",
              "      <th>reordered</th>\n",
              "    </tr>\n",
              "  </thead>\n",
              "  <tbody>\n",
              "    <tr>\n",
              "      <th>0</th>\n",
              "      <td>2</td>\n",
              "      <td>33120</td>\n",
              "      <td>1</td>\n",
              "      <td>1</td>\n",
              "    </tr>\n",
              "    <tr>\n",
              "      <th>1</th>\n",
              "      <td>2</td>\n",
              "      <td>28985</td>\n",
              "      <td>2</td>\n",
              "      <td>1</td>\n",
              "    </tr>\n",
              "    <tr>\n",
              "      <th>2</th>\n",
              "      <td>2</td>\n",
              "      <td>9327</td>\n",
              "      <td>3</td>\n",
              "      <td>0</td>\n",
              "    </tr>\n",
              "    <tr>\n",
              "      <th>3</th>\n",
              "      <td>2</td>\n",
              "      <td>45918</td>\n",
              "      <td>4</td>\n",
              "      <td>1</td>\n",
              "    </tr>\n",
              "    <tr>\n",
              "      <th>4</th>\n",
              "      <td>2</td>\n",
              "      <td>30035</td>\n",
              "      <td>5</td>\n",
              "      <td>0</td>\n",
              "    </tr>\n",
              "  </tbody>\n",
              "</table>\n",
              "</div>"
            ],
            "text/plain": [
              "   order_id  product_id  add_to_cart_order  reordered\n",
              "0         2       33120                  1          1\n",
              "1         2       28985                  2          1\n",
              "2         2        9327                  3          0\n",
              "3         2       45918                  4          1\n",
              "4         2       30035                  5          0"
            ]
          },
          "metadata": {
            "tags": []
          },
          "execution_count": 5
        }
      ]
    },
    {
      "cell_type": "code",
      "metadata": {
        "id": "lt-sVGVl626F",
        "colab_type": "code",
        "outputId": "cd6df571-ea35-4cab-c3a4-46184d815b96",
        "colab": {
          "base_uri": "https://localhost:8080/",
          "height": 221
        }
      },
      "source": [
        "order_products__train = pd.read_csv('order_products__train.csv')\n",
        "print(order_products__train.shape)\n",
        "order_products__train.head()"
      ],
      "execution_count": 6,
      "outputs": [
        {
          "output_type": "stream",
          "text": [
            "(1384617, 4)\n"
          ],
          "name": "stdout"
        },
        {
          "output_type": "execute_result",
          "data": {
            "text/html": [
              "<div>\n",
              "<style scoped>\n",
              "    .dataframe tbody tr th:only-of-type {\n",
              "        vertical-align: middle;\n",
              "    }\n",
              "\n",
              "    .dataframe tbody tr th {\n",
              "        vertical-align: top;\n",
              "    }\n",
              "\n",
              "    .dataframe thead th {\n",
              "        text-align: right;\n",
              "    }\n",
              "</style>\n",
              "<table border=\"1\" class=\"dataframe\">\n",
              "  <thead>\n",
              "    <tr style=\"text-align: right;\">\n",
              "      <th></th>\n",
              "      <th>order_id</th>\n",
              "      <th>product_id</th>\n",
              "      <th>add_to_cart_order</th>\n",
              "      <th>reordered</th>\n",
              "    </tr>\n",
              "  </thead>\n",
              "  <tbody>\n",
              "    <tr>\n",
              "      <th>0</th>\n",
              "      <td>1</td>\n",
              "      <td>49302</td>\n",
              "      <td>1</td>\n",
              "      <td>1</td>\n",
              "    </tr>\n",
              "    <tr>\n",
              "      <th>1</th>\n",
              "      <td>1</td>\n",
              "      <td>11109</td>\n",
              "      <td>2</td>\n",
              "      <td>1</td>\n",
              "    </tr>\n",
              "    <tr>\n",
              "      <th>2</th>\n",
              "      <td>1</td>\n",
              "      <td>10246</td>\n",
              "      <td>3</td>\n",
              "      <td>0</td>\n",
              "    </tr>\n",
              "    <tr>\n",
              "      <th>3</th>\n",
              "      <td>1</td>\n",
              "      <td>49683</td>\n",
              "      <td>4</td>\n",
              "      <td>0</td>\n",
              "    </tr>\n",
              "    <tr>\n",
              "      <th>4</th>\n",
              "      <td>1</td>\n",
              "      <td>43633</td>\n",
              "      <td>5</td>\n",
              "      <td>1</td>\n",
              "    </tr>\n",
              "  </tbody>\n",
              "</table>\n",
              "</div>"
            ],
            "text/plain": [
              "   order_id  product_id  add_to_cart_order  reordered\n",
              "0         1       49302                  1          1\n",
              "1         1       11109                  2          1\n",
              "2         1       10246                  3          0\n",
              "3         1       49683                  4          0\n",
              "4         1       43633                  5          1"
            ]
          },
          "metadata": {
            "tags": []
          },
          "execution_count": 6
        }
      ]
    },
    {
      "cell_type": "code",
      "metadata": {
        "id": "EJ3vupd26-73",
        "colab_type": "code",
        "outputId": "7a7dae03-a8fc-4fe3-88c6-31d9ae1075bb",
        "colab": {
          "base_uri": "https://localhost:8080/",
          "height": 221
        }
      },
      "source": [
        "order_products = pd.concat([order_products__prior, order_products__train])\n",
        "print(order_products.shape)\n",
        "order_products.head()"
      ],
      "execution_count": 7,
      "outputs": [
        {
          "output_type": "stream",
          "text": [
            "(33819106, 4)\n"
          ],
          "name": "stdout"
        },
        {
          "output_type": "execute_result",
          "data": {
            "text/html": [
              "<div>\n",
              "<style scoped>\n",
              "    .dataframe tbody tr th:only-of-type {\n",
              "        vertical-align: middle;\n",
              "    }\n",
              "\n",
              "    .dataframe tbody tr th {\n",
              "        vertical-align: top;\n",
              "    }\n",
              "\n",
              "    .dataframe thead th {\n",
              "        text-align: right;\n",
              "    }\n",
              "</style>\n",
              "<table border=\"1\" class=\"dataframe\">\n",
              "  <thead>\n",
              "    <tr style=\"text-align: right;\">\n",
              "      <th></th>\n",
              "      <th>order_id</th>\n",
              "      <th>product_id</th>\n",
              "      <th>add_to_cart_order</th>\n",
              "      <th>reordered</th>\n",
              "    </tr>\n",
              "  </thead>\n",
              "  <tbody>\n",
              "    <tr>\n",
              "      <th>0</th>\n",
              "      <td>2</td>\n",
              "      <td>33120</td>\n",
              "      <td>1</td>\n",
              "      <td>1</td>\n",
              "    </tr>\n",
              "    <tr>\n",
              "      <th>1</th>\n",
              "      <td>2</td>\n",
              "      <td>28985</td>\n",
              "      <td>2</td>\n",
              "      <td>1</td>\n",
              "    </tr>\n",
              "    <tr>\n",
              "      <th>2</th>\n",
              "      <td>2</td>\n",
              "      <td>9327</td>\n",
              "      <td>3</td>\n",
              "      <td>0</td>\n",
              "    </tr>\n",
              "    <tr>\n",
              "      <th>3</th>\n",
              "      <td>2</td>\n",
              "      <td>45918</td>\n",
              "      <td>4</td>\n",
              "      <td>1</td>\n",
              "    </tr>\n",
              "    <tr>\n",
              "      <th>4</th>\n",
              "      <td>2</td>\n",
              "      <td>30035</td>\n",
              "      <td>5</td>\n",
              "      <td>0</td>\n",
              "    </tr>\n",
              "  </tbody>\n",
              "</table>\n",
              "</div>"
            ],
            "text/plain": [
              "   order_id  product_id  add_to_cart_order  reordered\n",
              "0         2       33120                  1          1\n",
              "1         2       28985                  2          1\n",
              "2         2        9327                  3          0\n",
              "3         2       45918                  4          1\n",
              "4         2       30035                  5          0"
            ]
          },
          "metadata": {
            "tags": []
          },
          "execution_count": 7
        }
      ]
    },
    {
      "cell_type": "code",
      "metadata": {
        "id": "FEqFjX-S7C-g",
        "colab_type": "code",
        "outputId": "fbc75399-1cf2-4d9d-8860-5e67980bcfb7",
        "colab": {
          "base_uri": "https://localhost:8080/",
          "height": 221
        }
      },
      "source": [
        "orders = pd.read_csv('orders.csv')\n",
        "print(orders.shape)\n",
        "orders.head()"
      ],
      "execution_count": 8,
      "outputs": [
        {
          "output_type": "stream",
          "text": [
            "(3421083, 7)\n"
          ],
          "name": "stdout"
        },
        {
          "output_type": "execute_result",
          "data": {
            "text/html": [
              "<div>\n",
              "<style scoped>\n",
              "    .dataframe tbody tr th:only-of-type {\n",
              "        vertical-align: middle;\n",
              "    }\n",
              "\n",
              "    .dataframe tbody tr th {\n",
              "        vertical-align: top;\n",
              "    }\n",
              "\n",
              "    .dataframe thead th {\n",
              "        text-align: right;\n",
              "    }\n",
              "</style>\n",
              "<table border=\"1\" class=\"dataframe\">\n",
              "  <thead>\n",
              "    <tr style=\"text-align: right;\">\n",
              "      <th></th>\n",
              "      <th>order_id</th>\n",
              "      <th>user_id</th>\n",
              "      <th>eval_set</th>\n",
              "      <th>order_number</th>\n",
              "      <th>order_dow</th>\n",
              "      <th>order_hour_of_day</th>\n",
              "      <th>days_since_prior_order</th>\n",
              "    </tr>\n",
              "  </thead>\n",
              "  <tbody>\n",
              "    <tr>\n",
              "      <th>0</th>\n",
              "      <td>2539329</td>\n",
              "      <td>1</td>\n",
              "      <td>prior</td>\n",
              "      <td>1</td>\n",
              "      <td>2</td>\n",
              "      <td>8</td>\n",
              "      <td>NaN</td>\n",
              "    </tr>\n",
              "    <tr>\n",
              "      <th>1</th>\n",
              "      <td>2398795</td>\n",
              "      <td>1</td>\n",
              "      <td>prior</td>\n",
              "      <td>2</td>\n",
              "      <td>3</td>\n",
              "      <td>7</td>\n",
              "      <td>15.0</td>\n",
              "    </tr>\n",
              "    <tr>\n",
              "      <th>2</th>\n",
              "      <td>473747</td>\n",
              "      <td>1</td>\n",
              "      <td>prior</td>\n",
              "      <td>3</td>\n",
              "      <td>3</td>\n",
              "      <td>12</td>\n",
              "      <td>21.0</td>\n",
              "    </tr>\n",
              "    <tr>\n",
              "      <th>3</th>\n",
              "      <td>2254736</td>\n",
              "      <td>1</td>\n",
              "      <td>prior</td>\n",
              "      <td>4</td>\n",
              "      <td>4</td>\n",
              "      <td>7</td>\n",
              "      <td>29.0</td>\n",
              "    </tr>\n",
              "    <tr>\n",
              "      <th>4</th>\n",
              "      <td>431534</td>\n",
              "      <td>1</td>\n",
              "      <td>prior</td>\n",
              "      <td>5</td>\n",
              "      <td>4</td>\n",
              "      <td>15</td>\n",
              "      <td>28.0</td>\n",
              "    </tr>\n",
              "  </tbody>\n",
              "</table>\n",
              "</div>"
            ],
            "text/plain": [
              "   order_id  user_id  ... order_hour_of_day  days_since_prior_order\n",
              "0   2539329        1  ...                 8                     NaN\n",
              "1   2398795        1  ...                 7                    15.0\n",
              "2    473747        1  ...                12                    21.0\n",
              "3   2254736        1  ...                 7                    29.0\n",
              "4    431534        1  ...                15                    28.0\n",
              "\n",
              "[5 rows x 7 columns]"
            ]
          },
          "metadata": {
            "tags": []
          },
          "execution_count": 8
        }
      ]
    },
    {
      "cell_type": "code",
      "metadata": {
        "id": "fNbe-vs47MyB",
        "colab_type": "code",
        "outputId": "519273cb-8390-48ce-cc27-db4a3b84548f",
        "colab": {
          "base_uri": "https://localhost:8080/",
          "height": 221
        }
      },
      "source": [
        "df = (products[['product_id', 'product_name']]\n",
        "      .merge(order_products[['product_id', 'order_id', 'add_to_cart_order']])\n",
        "      .merge(orders[['order_id', 'order_hour_of_day']]))\n",
        "print(df.shape)\n",
        "df.head()\n",
        "\n"
      ],
      "execution_count": 9,
      "outputs": [
        {
          "output_type": "stream",
          "text": [
            "(33819106, 5)\n"
          ],
          "name": "stdout"
        },
        {
          "output_type": "execute_result",
          "data": {
            "text/html": [
              "<div>\n",
              "<style scoped>\n",
              "    .dataframe tbody tr th:only-of-type {\n",
              "        vertical-align: middle;\n",
              "    }\n",
              "\n",
              "    .dataframe tbody tr th {\n",
              "        vertical-align: top;\n",
              "    }\n",
              "\n",
              "    .dataframe thead th {\n",
              "        text-align: right;\n",
              "    }\n",
              "</style>\n",
              "<table border=\"1\" class=\"dataframe\">\n",
              "  <thead>\n",
              "    <tr style=\"text-align: right;\">\n",
              "      <th></th>\n",
              "      <th>product_id</th>\n",
              "      <th>product_name</th>\n",
              "      <th>order_id</th>\n",
              "      <th>add_to_cart_order</th>\n",
              "      <th>order_hour_of_day</th>\n",
              "    </tr>\n",
              "  </thead>\n",
              "  <tbody>\n",
              "    <tr>\n",
              "      <th>0</th>\n",
              "      <td>1</td>\n",
              "      <td>Chocolate Sandwich Cookies</td>\n",
              "      <td>1107</td>\n",
              "      <td>7</td>\n",
              "      <td>11</td>\n",
              "    </tr>\n",
              "    <tr>\n",
              "      <th>1</th>\n",
              "      <td>769</td>\n",
              "      <td>Sliced American Cheese</td>\n",
              "      <td>1107</td>\n",
              "      <td>10</td>\n",
              "      <td>11</td>\n",
              "    </tr>\n",
              "    <tr>\n",
              "      <th>2</th>\n",
              "      <td>6184</td>\n",
              "      <td>Clementines</td>\n",
              "      <td>1107</td>\n",
              "      <td>14</td>\n",
              "      <td>11</td>\n",
              "    </tr>\n",
              "    <tr>\n",
              "      <th>3</th>\n",
              "      <td>8048</td>\n",
              "      <td>Packaged Grape Tomatoes</td>\n",
              "      <td>1107</td>\n",
              "      <td>15</td>\n",
              "      <td>11</td>\n",
              "    </tr>\n",
              "    <tr>\n",
              "      <th>4</th>\n",
              "      <td>9007</td>\n",
              "      <td>Frosted Flakes</td>\n",
              "      <td>1107</td>\n",
              "      <td>17</td>\n",
              "      <td>11</td>\n",
              "    </tr>\n",
              "  </tbody>\n",
              "</table>\n",
              "</div>"
            ],
            "text/plain": [
              "   product_id                product_name  ...  add_to_cart_order  order_hour_of_day\n",
              "0           1  Chocolate Sandwich Cookies  ...                  7                 11\n",
              "1         769      Sliced American Cheese  ...                 10                 11\n",
              "2        6184                 Clementines  ...                 14                 11\n",
              "3        8048     Packaged Grape Tomatoes  ...                 15                 11\n",
              "4        9007              Frosted Flakes  ...                 17                 11\n",
              "\n",
              "[5 rows x 5 columns]"
            ]
          },
          "metadata": {
            "tags": []
          },
          "execution_count": 9
        }
      ]
    },
    {
      "cell_type": "code",
      "metadata": {
        "id": "k8zYgYsW92le",
        "colab_type": "code",
        "colab": {}
      },
      "source": [
        "# Now we can simplify our dataset by getting all items\n",
        "# that have been ordered more than 2900 times\n",
        "\n",
        "# Here we have test = list of number of orders \n",
        "# values = product name for each order\n",
        "test = df.product_name.value_counts().tolist()\n",
        "values = df.product_name.value_counts().keys().tolist()\n",
        "\n",
        "all_orders = [[x, y] for x, y in zip(values, test)]\n",
        "\n",
        "all_orders = pd.DataFrame(all_orders, columns=['item','orders'])\n",
        "\n",
        "# this returns all items that have been ordered more than 2900 times in the dataset\n",
        "over_2900 = all_orders[all_orders.orders > 2900]\n",
        "\n"
      ],
      "execution_count": 0,
      "outputs": []
    },
    {
      "cell_type": "code",
      "metadata": {
        "id": "ihVS347tJV0H",
        "colab_type": "code",
        "outputId": "5a86d2aa-1ec4-4aec-e177-8ad4eecdfa03",
        "colab": {
          "base_uri": "https://localhost:8080/",
          "height": 221
        }
      },
      "source": [
        "# Now we need to subset our original dataframe, so we'll make a list of the products \n",
        "# that have been ordered over 2900 times and pass that as a condition for our original dataframe\n",
        "\n",
        "product_names = over_2900.item.tolist()\n",
        "\n",
        "condition = df['product_name'].isin(product_names)\n",
        "\n",
        "subset = df[condition]\n",
        "print(subset.shape)\n",
        "subset.head()"
      ],
      "execution_count": 22,
      "outputs": [
        {
          "output_type": "stream",
          "text": [
            "(22450886, 5)\n"
          ],
          "name": "stdout"
        },
        {
          "output_type": "execute_result",
          "data": {
            "text/html": [
              "<div>\n",
              "<style scoped>\n",
              "    .dataframe tbody tr th:only-of-type {\n",
              "        vertical-align: middle;\n",
              "    }\n",
              "\n",
              "    .dataframe tbody tr th {\n",
              "        vertical-align: top;\n",
              "    }\n",
              "\n",
              "    .dataframe thead th {\n",
              "        text-align: right;\n",
              "    }\n",
              "</style>\n",
              "<table border=\"1\" class=\"dataframe\">\n",
              "  <thead>\n",
              "    <tr style=\"text-align: right;\">\n",
              "      <th></th>\n",
              "      <th>product_id</th>\n",
              "      <th>product_name</th>\n",
              "      <th>order_id</th>\n",
              "      <th>add_to_cart_order</th>\n",
              "      <th>order_hour_of_day</th>\n",
              "    </tr>\n",
              "  </thead>\n",
              "  <tbody>\n",
              "    <tr>\n",
              "      <th>2</th>\n",
              "      <td>6184</td>\n",
              "      <td>Clementines</td>\n",
              "      <td>1107</td>\n",
              "      <td>14</td>\n",
              "      <td>11</td>\n",
              "    </tr>\n",
              "    <tr>\n",
              "      <th>3</th>\n",
              "      <td>8048</td>\n",
              "      <td>Packaged Grape Tomatoes</td>\n",
              "      <td>1107</td>\n",
              "      <td>15</td>\n",
              "      <td>11</td>\n",
              "    </tr>\n",
              "    <tr>\n",
              "      <th>6</th>\n",
              "      <td>12078</td>\n",
              "      <td>Shredded Mexican Blend Cheese</td>\n",
              "      <td>1107</td>\n",
              "      <td>9</td>\n",
              "      <td>11</td>\n",
              "    </tr>\n",
              "    <tr>\n",
              "      <th>7</th>\n",
              "      <td>13176</td>\n",
              "      <td>Bag of Organic Bananas</td>\n",
              "      <td>1107</td>\n",
              "      <td>3</td>\n",
              "      <td>11</td>\n",
              "    </tr>\n",
              "    <tr>\n",
              "      <th>8</th>\n",
              "      <td>16797</td>\n",
              "      <td>Strawberries</td>\n",
              "      <td>1107</td>\n",
              "      <td>1</td>\n",
              "      <td>11</td>\n",
              "    </tr>\n",
              "  </tbody>\n",
              "</table>\n",
              "</div>"
            ],
            "text/plain": [
              "   product_id  ... order_hour_of_day\n",
              "2        6184  ...                11\n",
              "3        8048  ...                11\n",
              "6       12078  ...                11\n",
              "7       13176  ...                11\n",
              "8       16797  ...                11\n",
              "\n",
              "[5 rows x 5 columns]"
            ]
          },
          "metadata": {
            "tags": []
          },
          "execution_count": 22
        }
      ]
    },
    {
      "cell_type": "code",
      "metadata": {
        "id": "1v-zofG3M1gI",
        "colab_type": "code",
        "colab": {
          "base_uri": "https://localhost:8080/",
          "height": 34
        },
        "outputId": "ab5c4b3d-93c7-4583-ee9a-03fc6ad2e82d"
      },
      "source": [
        "subset.product_name.nunique()"
      ],
      "execution_count": 12,
      "outputs": [
        {
          "output_type": "execute_result",
          "data": {
            "text/plain": [
              "2051"
            ]
          },
          "metadata": {
            "tags": []
          },
          "execution_count": 12
        }
      ]
    },
    {
      "cell_type": "code",
      "metadata": {
        "id": "dYeddUqPN9K6",
        "colab_type": "code",
        "colab": {
          "base_uri": "https://localhost:8080/",
          "height": 204
        },
        "outputId": "a43d3432-ed22-41f9-9928-42b9e4bbc507"
      },
      "source": [
        "# need to do some tidy stuff here\n",
        "\n",
        "subset = subset.sort_values(['order_hour_of_day', 'product_name'], ascending=[True, True])\n",
        "subset.head()"
      ],
      "execution_count": 23,
      "outputs": [
        {
          "output_type": "execute_result",
          "data": {
            "text/html": [
              "<div>\n",
              "<style scoped>\n",
              "    .dataframe tbody tr th:only-of-type {\n",
              "        vertical-align: middle;\n",
              "    }\n",
              "\n",
              "    .dataframe tbody tr th {\n",
              "        vertical-align: top;\n",
              "    }\n",
              "\n",
              "    .dataframe thead th {\n",
              "        text-align: right;\n",
              "    }\n",
              "</style>\n",
              "<table border=\"1\" class=\"dataframe\">\n",
              "  <thead>\n",
              "    <tr style=\"text-align: right;\">\n",
              "      <th></th>\n",
              "      <th>product_id</th>\n",
              "      <th>product_name</th>\n",
              "      <th>order_id</th>\n",
              "      <th>add_to_cart_order</th>\n",
              "      <th>order_hour_of_day</th>\n",
              "    </tr>\n",
              "  </thead>\n",
              "  <tbody>\n",
              "    <tr>\n",
              "      <th>1578199</th>\n",
              "      <td>49517</td>\n",
              "      <td>0% Fat Free Organic Milk</td>\n",
              "      <td>2494936</td>\n",
              "      <td>5</td>\n",
              "      <td>0</td>\n",
              "    </tr>\n",
              "    <tr>\n",
              "      <th>3065071</th>\n",
              "      <td>49517</td>\n",
              "      <td>0% Fat Free Organic Milk</td>\n",
              "      <td>2000508</td>\n",
              "      <td>2</td>\n",
              "      <td>0</td>\n",
              "    </tr>\n",
              "    <tr>\n",
              "      <th>3172480</th>\n",
              "      <td>49517</td>\n",
              "      <td>0% Fat Free Organic Milk</td>\n",
              "      <td>799947</td>\n",
              "      <td>5</td>\n",
              "      <td>0</td>\n",
              "    </tr>\n",
              "    <tr>\n",
              "      <th>9866910</th>\n",
              "      <td>49517</td>\n",
              "      <td>0% Fat Free Organic Milk</td>\n",
              "      <td>3338565</td>\n",
              "      <td>6</td>\n",
              "      <td>0</td>\n",
              "    </tr>\n",
              "    <tr>\n",
              "      <th>12095995</th>\n",
              "      <td>49517</td>\n",
              "      <td>0% Fat Free Organic Milk</td>\n",
              "      <td>1828112</td>\n",
              "      <td>19</td>\n",
              "      <td>0</td>\n",
              "    </tr>\n",
              "  </tbody>\n",
              "</table>\n",
              "</div>"
            ],
            "text/plain": [
              "          product_id  ... order_hour_of_day\n",
              "1578199        49517  ...                 0\n",
              "3065071        49517  ...                 0\n",
              "3172480        49517  ...                 0\n",
              "9866910        49517  ...                 0\n",
              "12095995       49517  ...                 0\n",
              "\n",
              "[5 rows x 5 columns]"
            ]
          },
          "metadata": {
            "tags": []
          },
          "execution_count": 23
        }
      ]
    },
    {
      "cell_type": "code",
      "metadata": {
        "id": "h07BzzHqL0uX",
        "colab_type": "code",
        "colab": {
          "base_uri": "https://localhost:8080/",
          "height": 979
        },
        "outputId": "78c36b4d-d3c2-4288-eb76-404fdac205a1"
      },
      "source": [
        "# okay, now we need to count the number of product orders for each hour in the day\n",
        "\n",
        "subset['count'] = subset.groupby(['order_hour_of_day', 'product_name'])['order_id'].transform('count')\n",
        "subset.head(30)\n",
        "  "
      ],
      "execution_count": 24,
      "outputs": [
        {
          "output_type": "execute_result",
          "data": {
            "text/html": [
              "<div>\n",
              "<style scoped>\n",
              "    .dataframe tbody tr th:only-of-type {\n",
              "        vertical-align: middle;\n",
              "    }\n",
              "\n",
              "    .dataframe tbody tr th {\n",
              "        vertical-align: top;\n",
              "    }\n",
              "\n",
              "    .dataframe thead th {\n",
              "        text-align: right;\n",
              "    }\n",
              "</style>\n",
              "<table border=\"1\" class=\"dataframe\">\n",
              "  <thead>\n",
              "    <tr style=\"text-align: right;\">\n",
              "      <th></th>\n",
              "      <th>product_id</th>\n",
              "      <th>product_name</th>\n",
              "      <th>order_id</th>\n",
              "      <th>add_to_cart_order</th>\n",
              "      <th>order_hour_of_day</th>\n",
              "      <th>count</th>\n",
              "    </tr>\n",
              "  </thead>\n",
              "  <tbody>\n",
              "    <tr>\n",
              "      <th>1578199</th>\n",
              "      <td>49517</td>\n",
              "      <td>0% Fat Free Organic Milk</td>\n",
              "      <td>2494936</td>\n",
              "      <td>5</td>\n",
              "      <td>0</td>\n",
              "      <td>26</td>\n",
              "    </tr>\n",
              "    <tr>\n",
              "      <th>3065071</th>\n",
              "      <td>49517</td>\n",
              "      <td>0% Fat Free Organic Milk</td>\n",
              "      <td>2000508</td>\n",
              "      <td>2</td>\n",
              "      <td>0</td>\n",
              "      <td>26</td>\n",
              "    </tr>\n",
              "    <tr>\n",
              "      <th>3172480</th>\n",
              "      <td>49517</td>\n",
              "      <td>0% Fat Free Organic Milk</td>\n",
              "      <td>799947</td>\n",
              "      <td>5</td>\n",
              "      <td>0</td>\n",
              "      <td>26</td>\n",
              "    </tr>\n",
              "    <tr>\n",
              "      <th>9866910</th>\n",
              "      <td>49517</td>\n",
              "      <td>0% Fat Free Organic Milk</td>\n",
              "      <td>3338565</td>\n",
              "      <td>6</td>\n",
              "      <td>0</td>\n",
              "      <td>26</td>\n",
              "    </tr>\n",
              "    <tr>\n",
              "      <th>12095995</th>\n",
              "      <td>49517</td>\n",
              "      <td>0% Fat Free Organic Milk</td>\n",
              "      <td>1828112</td>\n",
              "      <td>19</td>\n",
              "      <td>0</td>\n",
              "      <td>26</td>\n",
              "    </tr>\n",
              "    <tr>\n",
              "      <th>12252393</th>\n",
              "      <td>49517</td>\n",
              "      <td>0% Fat Free Organic Milk</td>\n",
              "      <td>1082330</td>\n",
              "      <td>2</td>\n",
              "      <td>0</td>\n",
              "      <td>26</td>\n",
              "    </tr>\n",
              "    <tr>\n",
              "      <th>14054857</th>\n",
              "      <td>49517</td>\n",
              "      <td>0% Fat Free Organic Milk</td>\n",
              "      <td>3115478</td>\n",
              "      <td>11</td>\n",
              "      <td>0</td>\n",
              "      <td>26</td>\n",
              "    </tr>\n",
              "    <tr>\n",
              "      <th>14102892</th>\n",
              "      <td>49517</td>\n",
              "      <td>0% Fat Free Organic Milk</td>\n",
              "      <td>977558</td>\n",
              "      <td>16</td>\n",
              "      <td>0</td>\n",
              "      <td>26</td>\n",
              "    </tr>\n",
              "    <tr>\n",
              "      <th>15494785</th>\n",
              "      <td>49517</td>\n",
              "      <td>0% Fat Free Organic Milk</td>\n",
              "      <td>13704</td>\n",
              "      <td>5</td>\n",
              "      <td>0</td>\n",
              "      <td>26</td>\n",
              "    </tr>\n",
              "    <tr>\n",
              "      <th>16340488</th>\n",
              "      <td>49517</td>\n",
              "      <td>0% Fat Free Organic Milk</td>\n",
              "      <td>1646542</td>\n",
              "      <td>2</td>\n",
              "      <td>0</td>\n",
              "      <td>26</td>\n",
              "    </tr>\n",
              "    <tr>\n",
              "      <th>16340895</th>\n",
              "      <td>49517</td>\n",
              "      <td>0% Fat Free Organic Milk</td>\n",
              "      <td>2680438</td>\n",
              "      <td>7</td>\n",
              "      <td>0</td>\n",
              "      <td>26</td>\n",
              "    </tr>\n",
              "    <tr>\n",
              "      <th>19116844</th>\n",
              "      <td>49517</td>\n",
              "      <td>0% Fat Free Organic Milk</td>\n",
              "      <td>337774</td>\n",
              "      <td>7</td>\n",
              "      <td>0</td>\n",
              "      <td>26</td>\n",
              "    </tr>\n",
              "    <tr>\n",
              "      <th>20128261</th>\n",
              "      <td>49517</td>\n",
              "      <td>0% Fat Free Organic Milk</td>\n",
              "      <td>2008589</td>\n",
              "      <td>5</td>\n",
              "      <td>0</td>\n",
              "      <td>26</td>\n",
              "    </tr>\n",
              "    <tr>\n",
              "      <th>20298107</th>\n",
              "      <td>49517</td>\n",
              "      <td>0% Fat Free Organic Milk</td>\n",
              "      <td>1893174</td>\n",
              "      <td>1</td>\n",
              "      <td>0</td>\n",
              "      <td>26</td>\n",
              "    </tr>\n",
              "    <tr>\n",
              "      <th>20324603</th>\n",
              "      <td>49517</td>\n",
              "      <td>0% Fat Free Organic Milk</td>\n",
              "      <td>1621397</td>\n",
              "      <td>7</td>\n",
              "      <td>0</td>\n",
              "      <td>26</td>\n",
              "    </tr>\n",
              "    <tr>\n",
              "      <th>24570149</th>\n",
              "      <td>49517</td>\n",
              "      <td>0% Fat Free Organic Milk</td>\n",
              "      <td>1541736</td>\n",
              "      <td>6</td>\n",
              "      <td>0</td>\n",
              "      <td>26</td>\n",
              "    </tr>\n",
              "    <tr>\n",
              "      <th>27634858</th>\n",
              "      <td>49517</td>\n",
              "      <td>0% Fat Free Organic Milk</td>\n",
              "      <td>2599583</td>\n",
              "      <td>4</td>\n",
              "      <td>0</td>\n",
              "      <td>26</td>\n",
              "    </tr>\n",
              "    <tr>\n",
              "      <th>28962440</th>\n",
              "      <td>49517</td>\n",
              "      <td>0% Fat Free Organic Milk</td>\n",
              "      <td>1233316</td>\n",
              "      <td>5</td>\n",
              "      <td>0</td>\n",
              "      <td>26</td>\n",
              "    </tr>\n",
              "    <tr>\n",
              "      <th>29032490</th>\n",
              "      <td>49517</td>\n",
              "      <td>0% Fat Free Organic Milk</td>\n",
              "      <td>772103</td>\n",
              "      <td>7</td>\n",
              "      <td>0</td>\n",
              "      <td>26</td>\n",
              "    </tr>\n",
              "    <tr>\n",
              "      <th>29054610</th>\n",
              "      <td>49517</td>\n",
              "      <td>0% Fat Free Organic Milk</td>\n",
              "      <td>1734018</td>\n",
              "      <td>11</td>\n",
              "      <td>0</td>\n",
              "      <td>26</td>\n",
              "    </tr>\n",
              "    <tr>\n",
              "      <th>29317066</th>\n",
              "      <td>49517</td>\n",
              "      <td>0% Fat Free Organic Milk</td>\n",
              "      <td>458185</td>\n",
              "      <td>7</td>\n",
              "      <td>0</td>\n",
              "      <td>26</td>\n",
              "    </tr>\n",
              "    <tr>\n",
              "      <th>31693515</th>\n",
              "      <td>49517</td>\n",
              "      <td>0% Fat Free Organic Milk</td>\n",
              "      <td>1349078</td>\n",
              "      <td>10</td>\n",
              "      <td>0</td>\n",
              "      <td>26</td>\n",
              "    </tr>\n",
              "    <tr>\n",
              "      <th>31904990</th>\n",
              "      <td>49517</td>\n",
              "      <td>0% Fat Free Organic Milk</td>\n",
              "      <td>762026</td>\n",
              "      <td>3</td>\n",
              "      <td>0</td>\n",
              "      <td>26</td>\n",
              "    </tr>\n",
              "    <tr>\n",
              "      <th>33594153</th>\n",
              "      <td>49517</td>\n",
              "      <td>0% Fat Free Organic Milk</td>\n",
              "      <td>2230909</td>\n",
              "      <td>3</td>\n",
              "      <td>0</td>\n",
              "      <td>26</td>\n",
              "    </tr>\n",
              "    <tr>\n",
              "      <th>33698983</th>\n",
              "      <td>49517</td>\n",
              "      <td>0% Fat Free Organic Milk</td>\n",
              "      <td>2901427</td>\n",
              "      <td>2</td>\n",
              "      <td>0</td>\n",
              "      <td>26</td>\n",
              "    </tr>\n",
              "    <tr>\n",
              "      <th>33738747</th>\n",
              "      <td>49517</td>\n",
              "      <td>0% Fat Free Organic Milk</td>\n",
              "      <td>2813634</td>\n",
              "      <td>2</td>\n",
              "      <td>0</td>\n",
              "      <td>26</td>\n",
              "    </tr>\n",
              "    <tr>\n",
              "      <th>487</th>\n",
              "      <td>38928</td>\n",
              "      <td>0% Greek Strained Yogurt</td>\n",
              "      <td>93380</td>\n",
              "      <td>3</td>\n",
              "      <td>0</td>\n",
              "      <td>48</td>\n",
              "    </tr>\n",
              "    <tr>\n",
              "      <th>10323</th>\n",
              "      <td>38928</td>\n",
              "      <td>0% Greek Strained Yogurt</td>\n",
              "      <td>1945047</td>\n",
              "      <td>2</td>\n",
              "      <td>0</td>\n",
              "      <td>48</td>\n",
              "    </tr>\n",
              "    <tr>\n",
              "      <th>1183669</th>\n",
              "      <td>38928</td>\n",
              "      <td>0% Greek Strained Yogurt</td>\n",
              "      <td>380934</td>\n",
              "      <td>8</td>\n",
              "      <td>0</td>\n",
              "      <td>48</td>\n",
              "    </tr>\n",
              "    <tr>\n",
              "      <th>1205669</th>\n",
              "      <td>38928</td>\n",
              "      <td>0% Greek Strained Yogurt</td>\n",
              "      <td>3244692</td>\n",
              "      <td>7</td>\n",
              "      <td>0</td>\n",
              "      <td>48</td>\n",
              "    </tr>\n",
              "  </tbody>\n",
              "</table>\n",
              "</div>"
            ],
            "text/plain": [
              "          product_id              product_name  ...  order_hour_of_day  count\n",
              "1578199        49517  0% Fat Free Organic Milk  ...                  0     26\n",
              "3065071        49517  0% Fat Free Organic Milk  ...                  0     26\n",
              "3172480        49517  0% Fat Free Organic Milk  ...                  0     26\n",
              "9866910        49517  0% Fat Free Organic Milk  ...                  0     26\n",
              "12095995       49517  0% Fat Free Organic Milk  ...                  0     26\n",
              "12252393       49517  0% Fat Free Organic Milk  ...                  0     26\n",
              "14054857       49517  0% Fat Free Organic Milk  ...                  0     26\n",
              "14102892       49517  0% Fat Free Organic Milk  ...                  0     26\n",
              "15494785       49517  0% Fat Free Organic Milk  ...                  0     26\n",
              "16340488       49517  0% Fat Free Organic Milk  ...                  0     26\n",
              "16340895       49517  0% Fat Free Organic Milk  ...                  0     26\n",
              "19116844       49517  0% Fat Free Organic Milk  ...                  0     26\n",
              "20128261       49517  0% Fat Free Organic Milk  ...                  0     26\n",
              "20298107       49517  0% Fat Free Organic Milk  ...                  0     26\n",
              "20324603       49517  0% Fat Free Organic Milk  ...                  0     26\n",
              "24570149       49517  0% Fat Free Organic Milk  ...                  0     26\n",
              "27634858       49517  0% Fat Free Organic Milk  ...                  0     26\n",
              "28962440       49517  0% Fat Free Organic Milk  ...                  0     26\n",
              "29032490       49517  0% Fat Free Organic Milk  ...                  0     26\n",
              "29054610       49517  0% Fat Free Organic Milk  ...                  0     26\n",
              "29317066       49517  0% Fat Free Organic Milk  ...                  0     26\n",
              "31693515       49517  0% Fat Free Organic Milk  ...                  0     26\n",
              "31904990       49517  0% Fat Free Organic Milk  ...                  0     26\n",
              "33594153       49517  0% Fat Free Organic Milk  ...                  0     26\n",
              "33698983       49517  0% Fat Free Organic Milk  ...                  0     26\n",
              "33738747       49517  0% Fat Free Organic Milk  ...                  0     26\n",
              "487            38928  0% Greek Strained Yogurt  ...                  0     48\n",
              "10323          38928  0% Greek Strained Yogurt  ...                  0     48\n",
              "1183669        38928  0% Greek Strained Yogurt  ...                  0     48\n",
              "1205669        38928  0% Greek Strained Yogurt  ...                  0     48\n",
              "\n",
              "[30 rows x 6 columns]"
            ]
          },
          "metadata": {
            "tags": []
          },
          "execution_count": 24
        }
      ]
    },
    {
      "cell_type": "code",
      "metadata": {
        "id": "oaGAM0y7dJ1R",
        "colab_type": "code",
        "colab": {
          "base_uri": "https://localhost:8080/",
          "height": 1000
        },
        "outputId": "67424c25-e094-40a5-b4e6-b63010076545"
      },
      "source": [
        "subset.tail(60)"
      ],
      "execution_count": 25,
      "outputs": [
        {
          "output_type": "execute_result",
          "data": {
            "text/html": [
              "<div>\n",
              "<style scoped>\n",
              "    .dataframe tbody tr th:only-of-type {\n",
              "        vertical-align: middle;\n",
              "    }\n",
              "\n",
              "    .dataframe tbody tr th {\n",
              "        vertical-align: top;\n",
              "    }\n",
              "\n",
              "    .dataframe thead th {\n",
              "        text-align: right;\n",
              "    }\n",
              "</style>\n",
              "<table border=\"1\" class=\"dataframe\">\n",
              "  <thead>\n",
              "    <tr style=\"text-align: right;\">\n",
              "      <th></th>\n",
              "      <th>product_id</th>\n",
              "      <th>product_name</th>\n",
              "      <th>order_id</th>\n",
              "      <th>add_to_cart_order</th>\n",
              "      <th>order_hour_of_day</th>\n",
              "      <th>count</th>\n",
              "    </tr>\n",
              "  </thead>\n",
              "  <tbody>\n",
              "    <tr>\n",
              "      <th>32486437</th>\n",
              "      <td>36107</td>\n",
              "      <td>smartwater® Electrolyte Enhanced Water</td>\n",
              "      <td>1619058</td>\n",
              "      <td>10</td>\n",
              "      <td>23</td>\n",
              "      <td>48</td>\n",
              "    </tr>\n",
              "    <tr>\n",
              "      <th>32794634</th>\n",
              "      <td>36107</td>\n",
              "      <td>smartwater® Electrolyte Enhanced Water</td>\n",
              "      <td>1218058</td>\n",
              "      <td>1</td>\n",
              "      <td>23</td>\n",
              "      <td>48</td>\n",
              "    </tr>\n",
              "    <tr>\n",
              "      <th>33526028</th>\n",
              "      <td>36107</td>\n",
              "      <td>smartwater® Electrolyte Enhanced Water</td>\n",
              "      <td>3374411</td>\n",
              "      <td>2</td>\n",
              "      <td>23</td>\n",
              "      <td>48</td>\n",
              "    </tr>\n",
              "    <tr>\n",
              "      <th>33729453</th>\n",
              "      <td>36107</td>\n",
              "      <td>smartwater® Electrolyte Enhanced Water</td>\n",
              "      <td>380476</td>\n",
              "      <td>2</td>\n",
              "      <td>23</td>\n",
              "      <td>48</td>\n",
              "    </tr>\n",
              "    <tr>\n",
              "      <th>33729685</th>\n",
              "      <td>36107</td>\n",
              "      <td>smartwater® Electrolyte Enhanced Water</td>\n",
              "      <td>2884427</td>\n",
              "      <td>1</td>\n",
              "      <td>23</td>\n",
              "      <td>48</td>\n",
              "    </tr>\n",
              "    <tr>\n",
              "      <th>7193</th>\n",
              "      <td>13042</td>\n",
              "      <td>with Crispy Almonds Cereal</td>\n",
              "      <td>1375943</td>\n",
              "      <td>8</td>\n",
              "      <td>23</td>\n",
              "      <td>55</td>\n",
              "    </tr>\n",
              "    <tr>\n",
              "      <th>12521</th>\n",
              "      <td>13042</td>\n",
              "      <td>with Crispy Almonds Cereal</td>\n",
              "      <td>2297867</td>\n",
              "      <td>14</td>\n",
              "      <td>23</td>\n",
              "      <td>55</td>\n",
              "    </tr>\n",
              "    <tr>\n",
              "      <th>16101</th>\n",
              "      <td>13042</td>\n",
              "      <td>with Crispy Almonds Cereal</td>\n",
              "      <td>3017775</td>\n",
              "      <td>11</td>\n",
              "      <td>23</td>\n",
              "      <td>55</td>\n",
              "    </tr>\n",
              "    <tr>\n",
              "      <th>1040376</th>\n",
              "      <td>13042</td>\n",
              "      <td>with Crispy Almonds Cereal</td>\n",
              "      <td>2779455</td>\n",
              "      <td>16</td>\n",
              "      <td>23</td>\n",
              "      <td>55</td>\n",
              "    </tr>\n",
              "    <tr>\n",
              "      <th>1191556</th>\n",
              "      <td>13042</td>\n",
              "      <td>with Crispy Almonds Cereal</td>\n",
              "      <td>1376180</td>\n",
              "      <td>3</td>\n",
              "      <td>23</td>\n",
              "      <td>55</td>\n",
              "    </tr>\n",
              "    <tr>\n",
              "      <th>1195428</th>\n",
              "      <td>13042</td>\n",
              "      <td>with Crispy Almonds Cereal</td>\n",
              "      <td>1861268</td>\n",
              "      <td>8</td>\n",
              "      <td>23</td>\n",
              "      <td>55</td>\n",
              "    </tr>\n",
              "    <tr>\n",
              "      <th>1202797</th>\n",
              "      <td>13042</td>\n",
              "      <td>with Crispy Almonds Cereal</td>\n",
              "      <td>2848354</td>\n",
              "      <td>9</td>\n",
              "      <td>23</td>\n",
              "      <td>55</td>\n",
              "    </tr>\n",
              "    <tr>\n",
              "      <th>1761766</th>\n",
              "      <td>13042</td>\n",
              "      <td>with Crispy Almonds Cereal</td>\n",
              "      <td>1824069</td>\n",
              "      <td>17</td>\n",
              "      <td>23</td>\n",
              "      <td>55</td>\n",
              "    </tr>\n",
              "    <tr>\n",
              "      <th>1857792</th>\n",
              "      <td>13042</td>\n",
              "      <td>with Crispy Almonds Cereal</td>\n",
              "      <td>3172901</td>\n",
              "      <td>8</td>\n",
              "      <td>23</td>\n",
              "      <td>55</td>\n",
              "    </tr>\n",
              "    <tr>\n",
              "      <th>6302910</th>\n",
              "      <td>13042</td>\n",
              "      <td>with Crispy Almonds Cereal</td>\n",
              "      <td>803862</td>\n",
              "      <td>14</td>\n",
              "      <td>23</td>\n",
              "      <td>55</td>\n",
              "    </tr>\n",
              "    <tr>\n",
              "      <th>8034744</th>\n",
              "      <td>13042</td>\n",
              "      <td>with Crispy Almonds Cereal</td>\n",
              "      <td>2938595</td>\n",
              "      <td>3</td>\n",
              "      <td>23</td>\n",
              "      <td>55</td>\n",
              "    </tr>\n",
              "    <tr>\n",
              "      <th>11835822</th>\n",
              "      <td>13042</td>\n",
              "      <td>with Crispy Almonds Cereal</td>\n",
              "      <td>2584590</td>\n",
              "      <td>6</td>\n",
              "      <td>23</td>\n",
              "      <td>55</td>\n",
              "    </tr>\n",
              "    <tr>\n",
              "      <th>14275865</th>\n",
              "      <td>13042</td>\n",
              "      <td>with Crispy Almonds Cereal</td>\n",
              "      <td>3297812</td>\n",
              "      <td>5</td>\n",
              "      <td>23</td>\n",
              "      <td>55</td>\n",
              "    </tr>\n",
              "    <tr>\n",
              "      <th>14630557</th>\n",
              "      <td>13042</td>\n",
              "      <td>with Crispy Almonds Cereal</td>\n",
              "      <td>2160419</td>\n",
              "      <td>2</td>\n",
              "      <td>23</td>\n",
              "      <td>55</td>\n",
              "    </tr>\n",
              "    <tr>\n",
              "      <th>16668065</th>\n",
              "      <td>13042</td>\n",
              "      <td>with Crispy Almonds Cereal</td>\n",
              "      <td>613207</td>\n",
              "      <td>4</td>\n",
              "      <td>23</td>\n",
              "      <td>55</td>\n",
              "    </tr>\n",
              "    <tr>\n",
              "      <th>16773245</th>\n",
              "      <td>13042</td>\n",
              "      <td>with Crispy Almonds Cereal</td>\n",
              "      <td>1295825</td>\n",
              "      <td>12</td>\n",
              "      <td>23</td>\n",
              "      <td>55</td>\n",
              "    </tr>\n",
              "    <tr>\n",
              "      <th>16783860</th>\n",
              "      <td>13042</td>\n",
              "      <td>with Crispy Almonds Cereal</td>\n",
              "      <td>2035888</td>\n",
              "      <td>6</td>\n",
              "      <td>23</td>\n",
              "      <td>55</td>\n",
              "    </tr>\n",
              "    <tr>\n",
              "      <th>16797782</th>\n",
              "      <td>13042</td>\n",
              "      <td>with Crispy Almonds Cereal</td>\n",
              "      <td>3021166</td>\n",
              "      <td>10</td>\n",
              "      <td>23</td>\n",
              "      <td>55</td>\n",
              "    </tr>\n",
              "    <tr>\n",
              "      <th>18054372</th>\n",
              "      <td>13042</td>\n",
              "      <td>with Crispy Almonds Cereal</td>\n",
              "      <td>693856</td>\n",
              "      <td>4</td>\n",
              "      <td>23</td>\n",
              "      <td>55</td>\n",
              "    </tr>\n",
              "    <tr>\n",
              "      <th>19179917</th>\n",
              "      <td>13042</td>\n",
              "      <td>with Crispy Almonds Cereal</td>\n",
              "      <td>849215</td>\n",
              "      <td>13</td>\n",
              "      <td>23</td>\n",
              "      <td>55</td>\n",
              "    </tr>\n",
              "    <tr>\n",
              "      <th>19317700</th>\n",
              "      <td>13042</td>\n",
              "      <td>with Crispy Almonds Cereal</td>\n",
              "      <td>955170</td>\n",
              "      <td>2</td>\n",
              "      <td>23</td>\n",
              "      <td>55</td>\n",
              "    </tr>\n",
              "    <tr>\n",
              "      <th>19645651</th>\n",
              "      <td>13042</td>\n",
              "      <td>with Crispy Almonds Cereal</td>\n",
              "      <td>1042905</td>\n",
              "      <td>13</td>\n",
              "      <td>23</td>\n",
              "      <td>55</td>\n",
              "    </tr>\n",
              "    <tr>\n",
              "      <th>19804722</th>\n",
              "      <td>13042</td>\n",
              "      <td>with Crispy Almonds Cereal</td>\n",
              "      <td>2614154</td>\n",
              "      <td>10</td>\n",
              "      <td>23</td>\n",
              "      <td>55</td>\n",
              "    </tr>\n",
              "    <tr>\n",
              "      <th>21140349</th>\n",
              "      <td>13042</td>\n",
              "      <td>with Crispy Almonds Cereal</td>\n",
              "      <td>1957790</td>\n",
              "      <td>5</td>\n",
              "      <td>23</td>\n",
              "      <td>55</td>\n",
              "    </tr>\n",
              "    <tr>\n",
              "      <th>21145139</th>\n",
              "      <td>13042</td>\n",
              "      <td>with Crispy Almonds Cereal</td>\n",
              "      <td>2428967</td>\n",
              "      <td>12</td>\n",
              "      <td>23</td>\n",
              "      <td>55</td>\n",
              "    </tr>\n",
              "    <tr>\n",
              "      <th>23347904</th>\n",
              "      <td>13042</td>\n",
              "      <td>with Crispy Almonds Cereal</td>\n",
              "      <td>910982</td>\n",
              "      <td>18</td>\n",
              "      <td>23</td>\n",
              "      <td>55</td>\n",
              "    </tr>\n",
              "    <tr>\n",
              "      <th>24643130</th>\n",
              "      <td>13042</td>\n",
              "      <td>with Crispy Almonds Cereal</td>\n",
              "      <td>1868141</td>\n",
              "      <td>5</td>\n",
              "      <td>23</td>\n",
              "      <td>55</td>\n",
              "    </tr>\n",
              "    <tr>\n",
              "      <th>24651518</th>\n",
              "      <td>13042</td>\n",
              "      <td>with Crispy Almonds Cereal</td>\n",
              "      <td>2778438</td>\n",
              "      <td>9</td>\n",
              "      <td>23</td>\n",
              "      <td>55</td>\n",
              "    </tr>\n",
              "    <tr>\n",
              "      <th>25732112</th>\n",
              "      <td>13042</td>\n",
              "      <td>with Crispy Almonds Cereal</td>\n",
              "      <td>1729160</td>\n",
              "      <td>3</td>\n",
              "      <td>23</td>\n",
              "      <td>55</td>\n",
              "    </tr>\n",
              "    <tr>\n",
              "      <th>26553874</th>\n",
              "      <td>13042</td>\n",
              "      <td>with Crispy Almonds Cereal</td>\n",
              "      <td>2886026</td>\n",
              "      <td>4</td>\n",
              "      <td>23</td>\n",
              "      <td>55</td>\n",
              "    </tr>\n",
              "    <tr>\n",
              "      <th>26795777</th>\n",
              "      <td>13042</td>\n",
              "      <td>with Crispy Almonds Cereal</td>\n",
              "      <td>2782444</td>\n",
              "      <td>8</td>\n",
              "      <td>23</td>\n",
              "      <td>55</td>\n",
              "    </tr>\n",
              "    <tr>\n",
              "      <th>27849915</th>\n",
              "      <td>13042</td>\n",
              "      <td>with Crispy Almonds Cereal</td>\n",
              "      <td>3303630</td>\n",
              "      <td>3</td>\n",
              "      <td>23</td>\n",
              "      <td>55</td>\n",
              "    </tr>\n",
              "    <tr>\n",
              "      <th>27861294</th>\n",
              "      <td>13042</td>\n",
              "      <td>with Crispy Almonds Cereal</td>\n",
              "      <td>2925045</td>\n",
              "      <td>4</td>\n",
              "      <td>23</td>\n",
              "      <td>55</td>\n",
              "    </tr>\n",
              "    <tr>\n",
              "      <th>28678439</th>\n",
              "      <td>13042</td>\n",
              "      <td>with Crispy Almonds Cereal</td>\n",
              "      <td>989409</td>\n",
              "      <td>11</td>\n",
              "      <td>23</td>\n",
              "      <td>55</td>\n",
              "    </tr>\n",
              "    <tr>\n",
              "      <th>28693333</th>\n",
              "      <td>13042</td>\n",
              "      <td>with Crispy Almonds Cereal</td>\n",
              "      <td>2804220</td>\n",
              "      <td>2</td>\n",
              "      <td>23</td>\n",
              "      <td>55</td>\n",
              "    </tr>\n",
              "    <tr>\n",
              "      <th>28729405</th>\n",
              "      <td>13042</td>\n",
              "      <td>with Crispy Almonds Cereal</td>\n",
              "      <td>1368078</td>\n",
              "      <td>6</td>\n",
              "      <td>23</td>\n",
              "      <td>55</td>\n",
              "    </tr>\n",
              "    <tr>\n",
              "      <th>28842818</th>\n",
              "      <td>13042</td>\n",
              "      <td>with Crispy Almonds Cereal</td>\n",
              "      <td>107725</td>\n",
              "      <td>8</td>\n",
              "      <td>23</td>\n",
              "      <td>55</td>\n",
              "    </tr>\n",
              "    <tr>\n",
              "      <th>29904782</th>\n",
              "      <td>13042</td>\n",
              "      <td>with Crispy Almonds Cereal</td>\n",
              "      <td>3081985</td>\n",
              "      <td>3</td>\n",
              "      <td>23</td>\n",
              "      <td>55</td>\n",
              "    </tr>\n",
              "    <tr>\n",
              "      <th>29905944</th>\n",
              "      <td>13042</td>\n",
              "      <td>with Crispy Almonds Cereal</td>\n",
              "      <td>1373036</td>\n",
              "      <td>5</td>\n",
              "      <td>23</td>\n",
              "      <td>55</td>\n",
              "    </tr>\n",
              "    <tr>\n",
              "      <th>30022375</th>\n",
              "      <td>13042</td>\n",
              "      <td>with Crispy Almonds Cereal</td>\n",
              "      <td>1213413</td>\n",
              "      <td>2</td>\n",
              "      <td>23</td>\n",
              "      <td>55</td>\n",
              "    </tr>\n",
              "    <tr>\n",
              "      <th>30752602</th>\n",
              "      <td>13042</td>\n",
              "      <td>with Crispy Almonds Cereal</td>\n",
              "      <td>749385</td>\n",
              "      <td>5</td>\n",
              "      <td>23</td>\n",
              "      <td>55</td>\n",
              "    </tr>\n",
              "    <tr>\n",
              "      <th>30754759</th>\n",
              "      <td>13042</td>\n",
              "      <td>with Crispy Almonds Cereal</td>\n",
              "      <td>2146663</td>\n",
              "      <td>1</td>\n",
              "      <td>23</td>\n",
              "      <td>55</td>\n",
              "    </tr>\n",
              "    <tr>\n",
              "      <th>30893015</th>\n",
              "      <td>13042</td>\n",
              "      <td>with Crispy Almonds Cereal</td>\n",
              "      <td>2376423</td>\n",
              "      <td>3</td>\n",
              "      <td>23</td>\n",
              "      <td>55</td>\n",
              "    </tr>\n",
              "    <tr>\n",
              "      <th>31153820</th>\n",
              "      <td>13042</td>\n",
              "      <td>with Crispy Almonds Cereal</td>\n",
              "      <td>298325</td>\n",
              "      <td>3</td>\n",
              "      <td>23</td>\n",
              "      <td>55</td>\n",
              "    </tr>\n",
              "    <tr>\n",
              "      <th>31154221</th>\n",
              "      <td>13042</td>\n",
              "      <td>with Crispy Almonds Cereal</td>\n",
              "      <td>707699</td>\n",
              "      <td>2</td>\n",
              "      <td>23</td>\n",
              "      <td>55</td>\n",
              "    </tr>\n",
              "    <tr>\n",
              "      <th>31154359</th>\n",
              "      <td>13042</td>\n",
              "      <td>with Crispy Almonds Cereal</td>\n",
              "      <td>872842</td>\n",
              "      <td>2</td>\n",
              "      <td>23</td>\n",
              "      <td>55</td>\n",
              "    </tr>\n",
              "    <tr>\n",
              "      <th>31154823</th>\n",
              "      <td>13042</td>\n",
              "      <td>with Crispy Almonds Cereal</td>\n",
              "      <td>1326973</td>\n",
              "      <td>2</td>\n",
              "      <td>23</td>\n",
              "      <td>55</td>\n",
              "    </tr>\n",
              "    <tr>\n",
              "      <th>31155016</th>\n",
              "      <td>13042</td>\n",
              "      <td>with Crispy Almonds Cereal</td>\n",
              "      <td>1507261</td>\n",
              "      <td>4</td>\n",
              "      <td>23</td>\n",
              "      <td>55</td>\n",
              "    </tr>\n",
              "    <tr>\n",
              "      <th>31155053</th>\n",
              "      <td>13042</td>\n",
              "      <td>with Crispy Almonds Cereal</td>\n",
              "      <td>1527248</td>\n",
              "      <td>7</td>\n",
              "      <td>23</td>\n",
              "      <td>55</td>\n",
              "    </tr>\n",
              "    <tr>\n",
              "      <th>31155216</th>\n",
              "      <td>13042</td>\n",
              "      <td>with Crispy Almonds Cereal</td>\n",
              "      <td>1687704</td>\n",
              "      <td>1</td>\n",
              "      <td>23</td>\n",
              "      <td>55</td>\n",
              "    </tr>\n",
              "    <tr>\n",
              "      <th>31155632</th>\n",
              "      <td>13042</td>\n",
              "      <td>with Crispy Almonds Cereal</td>\n",
              "      <td>2120542</td>\n",
              "      <td>1</td>\n",
              "      <td>23</td>\n",
              "      <td>55</td>\n",
              "    </tr>\n",
              "    <tr>\n",
              "      <th>31156061</th>\n",
              "      <td>13042</td>\n",
              "      <td>with Crispy Almonds Cereal</td>\n",
              "      <td>2486228</td>\n",
              "      <td>1</td>\n",
              "      <td>23</td>\n",
              "      <td>55</td>\n",
              "    </tr>\n",
              "    <tr>\n",
              "      <th>31156185</th>\n",
              "      <td>13042</td>\n",
              "      <td>with Crispy Almonds Cereal</td>\n",
              "      <td>2656857</td>\n",
              "      <td>2</td>\n",
              "      <td>23</td>\n",
              "      <td>55</td>\n",
              "    </tr>\n",
              "    <tr>\n",
              "      <th>31156821</th>\n",
              "      <td>13042</td>\n",
              "      <td>with Crispy Almonds Cereal</td>\n",
              "      <td>3291565</td>\n",
              "      <td>6</td>\n",
              "      <td>23</td>\n",
              "      <td>55</td>\n",
              "    </tr>\n",
              "    <tr>\n",
              "      <th>31156876</th>\n",
              "      <td>13042</td>\n",
              "      <td>with Crispy Almonds Cereal</td>\n",
              "      <td>3333017</td>\n",
              "      <td>4</td>\n",
              "      <td>23</td>\n",
              "      <td>55</td>\n",
              "    </tr>\n",
              "  </tbody>\n",
              "</table>\n",
              "</div>"
            ],
            "text/plain": [
              "          product_id  ... count\n",
              "32486437       36107  ...    48\n",
              "32794634       36107  ...    48\n",
              "33526028       36107  ...    48\n",
              "33729453       36107  ...    48\n",
              "33729685       36107  ...    48\n",
              "7193           13042  ...    55\n",
              "12521          13042  ...    55\n",
              "16101          13042  ...    55\n",
              "1040376        13042  ...    55\n",
              "1191556        13042  ...    55\n",
              "1195428        13042  ...    55\n",
              "1202797        13042  ...    55\n",
              "1761766        13042  ...    55\n",
              "1857792        13042  ...    55\n",
              "6302910        13042  ...    55\n",
              "8034744        13042  ...    55\n",
              "11835822       13042  ...    55\n",
              "14275865       13042  ...    55\n",
              "14630557       13042  ...    55\n",
              "16668065       13042  ...    55\n",
              "16773245       13042  ...    55\n",
              "16783860       13042  ...    55\n",
              "16797782       13042  ...    55\n",
              "18054372       13042  ...    55\n",
              "19179917       13042  ...    55\n",
              "19317700       13042  ...    55\n",
              "19645651       13042  ...    55\n",
              "19804722       13042  ...    55\n",
              "21140349       13042  ...    55\n",
              "21145139       13042  ...    55\n",
              "23347904       13042  ...    55\n",
              "24643130       13042  ...    55\n",
              "24651518       13042  ...    55\n",
              "25732112       13042  ...    55\n",
              "26553874       13042  ...    55\n",
              "26795777       13042  ...    55\n",
              "27849915       13042  ...    55\n",
              "27861294       13042  ...    55\n",
              "28678439       13042  ...    55\n",
              "28693333       13042  ...    55\n",
              "28729405       13042  ...    55\n",
              "28842818       13042  ...    55\n",
              "29904782       13042  ...    55\n",
              "29905944       13042  ...    55\n",
              "30022375       13042  ...    55\n",
              "30752602       13042  ...    55\n",
              "30754759       13042  ...    55\n",
              "30893015       13042  ...    55\n",
              "31153820       13042  ...    55\n",
              "31154221       13042  ...    55\n",
              "31154359       13042  ...    55\n",
              "31154823       13042  ...    55\n",
              "31155016       13042  ...    55\n",
              "31155053       13042  ...    55\n",
              "31155216       13042  ...    55\n",
              "31155632       13042  ...    55\n",
              "31156061       13042  ...    55\n",
              "31156185       13042  ...    55\n",
              "31156821       13042  ...    55\n",
              "31156876       13042  ...    55\n",
              "\n",
              "[60 rows x 6 columns]"
            ]
          },
          "metadata": {
            "tags": []
          },
          "execution_count": 25
        }
      ]
    },
    {
      "cell_type": "code",
      "metadata": {
        "id": "5Dvb7lxLdPbW",
        "colab_type": "code",
        "colab": {
          "base_uri": "https://localhost:8080/",
          "height": 1000
        },
        "outputId": "8b5bf68c-295c-42b2-a271-657abdc43812"
      },
      "source": [
        "subset[subset['order_hour_of_day'] == 2][:50]"
      ],
      "execution_count": 16,
      "outputs": [
        {
          "output_type": "execute_result",
          "data": {
            "text/html": [
              "<div>\n",
              "<style scoped>\n",
              "    .dataframe tbody tr th:only-of-type {\n",
              "        vertical-align: middle;\n",
              "    }\n",
              "\n",
              "    .dataframe tbody tr th {\n",
              "        vertical-align: top;\n",
              "    }\n",
              "\n",
              "    .dataframe thead th {\n",
              "        text-align: right;\n",
              "    }\n",
              "</style>\n",
              "<table border=\"1\" class=\"dataframe\">\n",
              "  <thead>\n",
              "    <tr style=\"text-align: right;\">\n",
              "      <th></th>\n",
              "      <th>product_id</th>\n",
              "      <th>product_name</th>\n",
              "      <th>order_id</th>\n",
              "      <th>add_to_cart_order</th>\n",
              "      <th>order_hour_of_day</th>\n",
              "      <th>count</th>\n",
              "    </tr>\n",
              "  </thead>\n",
              "  <tbody>\n",
              "    <tr>\n",
              "      <th>4168214</th>\n",
              "      <td>49517</td>\n",
              "      <td>0% Fat Free Organic Milk</td>\n",
              "      <td>1410311</td>\n",
              "      <td>1</td>\n",
              "      <td>2</td>\n",
              "      <td>4</td>\n",
              "    </tr>\n",
              "    <tr>\n",
              "      <th>6850404</th>\n",
              "      <td>49517</td>\n",
              "      <td>0% Fat Free Organic Milk</td>\n",
              "      <td>2124604</td>\n",
              "      <td>3</td>\n",
              "      <td>2</td>\n",
              "      <td>4</td>\n",
              "    </tr>\n",
              "    <tr>\n",
              "      <th>13339207</th>\n",
              "      <td>49517</td>\n",
              "      <td>0% Fat Free Organic Milk</td>\n",
              "      <td>2485666</td>\n",
              "      <td>12</td>\n",
              "      <td>2</td>\n",
              "      <td>4</td>\n",
              "    </tr>\n",
              "    <tr>\n",
              "      <th>32908972</th>\n",
              "      <td>49517</td>\n",
              "      <td>0% Fat Free Organic Milk</td>\n",
              "      <td>124532</td>\n",
              "      <td>1</td>\n",
              "      <td>2</td>\n",
              "      <td>4</td>\n",
              "    </tr>\n",
              "    <tr>\n",
              "      <th>1185441</th>\n",
              "      <td>38928</td>\n",
              "      <td>0% Greek Strained Yogurt</td>\n",
              "      <td>577732</td>\n",
              "      <td>10</td>\n",
              "      <td>2</td>\n",
              "      <td>14</td>\n",
              "    </tr>\n",
              "    <tr>\n",
              "      <th>1666812</th>\n",
              "      <td>38928</td>\n",
              "      <td>0% Greek Strained Yogurt</td>\n",
              "      <td>487208</td>\n",
              "      <td>8</td>\n",
              "      <td>2</td>\n",
              "      <td>14</td>\n",
              "    </tr>\n",
              "    <tr>\n",
              "      <th>1740274</th>\n",
              "      <td>38928</td>\n",
              "      <td>0% Greek Strained Yogurt</td>\n",
              "      <td>1533356</td>\n",
              "      <td>4</td>\n",
              "      <td>2</td>\n",
              "      <td>14</td>\n",
              "    </tr>\n",
              "    <tr>\n",
              "      <th>1882670</th>\n",
              "      <td>38928</td>\n",
              "      <td>0% Greek Strained Yogurt</td>\n",
              "      <td>2107895</td>\n",
              "      <td>2</td>\n",
              "      <td>2</td>\n",
              "      <td>14</td>\n",
              "    </tr>\n",
              "    <tr>\n",
              "      <th>19316841</th>\n",
              "      <td>38928</td>\n",
              "      <td>0% Greek Strained Yogurt</td>\n",
              "      <td>865022</td>\n",
              "      <td>10</td>\n",
              "      <td>2</td>\n",
              "      <td>14</td>\n",
              "    </tr>\n",
              "    <tr>\n",
              "      <th>20375991</th>\n",
              "      <td>38928</td>\n",
              "      <td>0% Greek Strained Yogurt</td>\n",
              "      <td>314212</td>\n",
              "      <td>3</td>\n",
              "      <td>2</td>\n",
              "      <td>14</td>\n",
              "    </tr>\n",
              "    <tr>\n",
              "      <th>23057000</th>\n",
              "      <td>38928</td>\n",
              "      <td>0% Greek Strained Yogurt</td>\n",
              "      <td>1531315</td>\n",
              "      <td>7</td>\n",
              "      <td>2</td>\n",
              "      <td>14</td>\n",
              "    </tr>\n",
              "    <tr>\n",
              "      <th>30622018</th>\n",
              "      <td>38928</td>\n",
              "      <td>0% Greek Strained Yogurt</td>\n",
              "      <td>2490398</td>\n",
              "      <td>4</td>\n",
              "      <td>2</td>\n",
              "      <td>14</td>\n",
              "    </tr>\n",
              "    <tr>\n",
              "      <th>30910112</th>\n",
              "      <td>38928</td>\n",
              "      <td>0% Greek Strained Yogurt</td>\n",
              "      <td>1237028</td>\n",
              "      <td>1</td>\n",
              "      <td>2</td>\n",
              "      <td>14</td>\n",
              "    </tr>\n",
              "    <tr>\n",
              "      <th>32858062</th>\n",
              "      <td>38928</td>\n",
              "      <td>0% Greek Strained Yogurt</td>\n",
              "      <td>1707561</td>\n",
              "      <td>2</td>\n",
              "      <td>2</td>\n",
              "      <td>14</td>\n",
              "    </tr>\n",
              "    <tr>\n",
              "      <th>33078144</th>\n",
              "      <td>38928</td>\n",
              "      <td>0% Greek Strained Yogurt</td>\n",
              "      <td>927962</td>\n",
              "      <td>1</td>\n",
              "      <td>2</td>\n",
              "      <td>14</td>\n",
              "    </tr>\n",
              "    <tr>\n",
              "      <th>33571621</th>\n",
              "      <td>38928</td>\n",
              "      <td>0% Greek Strained Yogurt</td>\n",
              "      <td>980055</td>\n",
              "      <td>4</td>\n",
              "      <td>2</td>\n",
              "      <td>14</td>\n",
              "    </tr>\n",
              "    <tr>\n",
              "      <th>33688791</th>\n",
              "      <td>38928</td>\n",
              "      <td>0% Greek Strained Yogurt</td>\n",
              "      <td>2233521</td>\n",
              "      <td>2</td>\n",
              "      <td>2</td>\n",
              "      <td>14</td>\n",
              "    </tr>\n",
              "    <tr>\n",
              "      <th>33755783</th>\n",
              "      <td>38928</td>\n",
              "      <td>0% Greek Strained Yogurt</td>\n",
              "      <td>812670</td>\n",
              "      <td>1</td>\n",
              "      <td>2</td>\n",
              "      <td>14</td>\n",
              "    </tr>\n",
              "    <tr>\n",
              "      <th>4339183</th>\n",
              "      <td>5428</td>\n",
              "      <td>1 Liter</td>\n",
              "      <td>2969373</td>\n",
              "      <td>1</td>\n",
              "      <td>2</td>\n",
              "      <td>15</td>\n",
              "    </tr>\n",
              "    <tr>\n",
              "      <th>5048943</th>\n",
              "      <td>5428</td>\n",
              "      <td>1 Liter</td>\n",
              "      <td>1457703</td>\n",
              "      <td>4</td>\n",
              "      <td>2</td>\n",
              "      <td>15</td>\n",
              "    </tr>\n",
              "    <tr>\n",
              "      <th>11108715</th>\n",
              "      <td>5428</td>\n",
              "      <td>1 Liter</td>\n",
              "      <td>1373675</td>\n",
              "      <td>12</td>\n",
              "      <td>2</td>\n",
              "      <td>15</td>\n",
              "    </tr>\n",
              "    <tr>\n",
              "      <th>12608689</th>\n",
              "      <td>5428</td>\n",
              "      <td>1 Liter</td>\n",
              "      <td>2509021</td>\n",
              "      <td>6</td>\n",
              "      <td>2</td>\n",
              "      <td>15</td>\n",
              "    </tr>\n",
              "    <tr>\n",
              "      <th>15254293</th>\n",
              "      <td>5428</td>\n",
              "      <td>1 Liter</td>\n",
              "      <td>664696</td>\n",
              "      <td>8</td>\n",
              "      <td>2</td>\n",
              "      <td>15</td>\n",
              "    </tr>\n",
              "    <tr>\n",
              "      <th>15825517</th>\n",
              "      <td>5428</td>\n",
              "      <td>1 Liter</td>\n",
              "      <td>1773990</td>\n",
              "      <td>8</td>\n",
              "      <td>2</td>\n",
              "      <td>15</td>\n",
              "    </tr>\n",
              "    <tr>\n",
              "      <th>16172834</th>\n",
              "      <td>5428</td>\n",
              "      <td>1 Liter</td>\n",
              "      <td>3149961</td>\n",
              "      <td>6</td>\n",
              "      <td>2</td>\n",
              "      <td>15</td>\n",
              "    </tr>\n",
              "    <tr>\n",
              "      <th>23143877</th>\n",
              "      <td>5428</td>\n",
              "      <td>1 Liter</td>\n",
              "      <td>3002713</td>\n",
              "      <td>3</td>\n",
              "      <td>2</td>\n",
              "      <td>15</td>\n",
              "    </tr>\n",
              "    <tr>\n",
              "      <th>23656214</th>\n",
              "      <td>5428</td>\n",
              "      <td>1 Liter</td>\n",
              "      <td>353384</td>\n",
              "      <td>2</td>\n",
              "      <td>2</td>\n",
              "      <td>15</td>\n",
              "    </tr>\n",
              "    <tr>\n",
              "      <th>23659367</th>\n",
              "      <td>5428</td>\n",
              "      <td>1 Liter</td>\n",
              "      <td>1190890</td>\n",
              "      <td>6</td>\n",
              "      <td>2</td>\n",
              "      <td>15</td>\n",
              "    </tr>\n",
              "    <tr>\n",
              "      <th>23662014</th>\n",
              "      <td>5428</td>\n",
              "      <td>1 Liter</td>\n",
              "      <td>1805124</td>\n",
              "      <td>6</td>\n",
              "      <td>2</td>\n",
              "      <td>15</td>\n",
              "    </tr>\n",
              "    <tr>\n",
              "      <th>23665181</th>\n",
              "      <td>5428</td>\n",
              "      <td>1 Liter</td>\n",
              "      <td>2607956</td>\n",
              "      <td>1</td>\n",
              "      <td>2</td>\n",
              "      <td>15</td>\n",
              "    </tr>\n",
              "    <tr>\n",
              "      <th>23665481</th>\n",
              "      <td>5428</td>\n",
              "      <td>1 Liter</td>\n",
              "      <td>2679338</td>\n",
              "      <td>4</td>\n",
              "      <td>2</td>\n",
              "      <td>15</td>\n",
              "    </tr>\n",
              "    <tr>\n",
              "      <th>23665605</th>\n",
              "      <td>5428</td>\n",
              "      <td>1 Liter</td>\n",
              "      <td>2710003</td>\n",
              "      <td>2</td>\n",
              "      <td>2</td>\n",
              "      <td>15</td>\n",
              "    </tr>\n",
              "    <tr>\n",
              "      <th>23667484</th>\n",
              "      <td>5428</td>\n",
              "      <td>1 Liter</td>\n",
              "      <td>3148183</td>\n",
              "      <td>1</td>\n",
              "      <td>2</td>\n",
              "      <td>15</td>\n",
              "    </tr>\n",
              "    <tr>\n",
              "      <th>197441</th>\n",
              "      <td>31981</td>\n",
              "      <td>1% Low Fat Milk</td>\n",
              "      <td>387732</td>\n",
              "      <td>1</td>\n",
              "      <td>2</td>\n",
              "      <td>29</td>\n",
              "    </tr>\n",
              "    <tr>\n",
              "      <th>714324</th>\n",
              "      <td>31981</td>\n",
              "      <td>1% Low Fat Milk</td>\n",
              "      <td>1531145</td>\n",
              "      <td>2</td>\n",
              "      <td>2</td>\n",
              "      <td>29</td>\n",
              "    </tr>\n",
              "    <tr>\n",
              "      <th>1536519</th>\n",
              "      <td>31981</td>\n",
              "      <td>1% Low Fat Milk</td>\n",
              "      <td>2282389</td>\n",
              "      <td>2</td>\n",
              "      <td>2</td>\n",
              "      <td>29</td>\n",
              "    </tr>\n",
              "    <tr>\n",
              "      <th>2920404</th>\n",
              "      <td>31981</td>\n",
              "      <td>1% Low Fat Milk</td>\n",
              "      <td>679193</td>\n",
              "      <td>3</td>\n",
              "      <td>2</td>\n",
              "      <td>29</td>\n",
              "    </tr>\n",
              "    <tr>\n",
              "      <th>3532783</th>\n",
              "      <td>31981</td>\n",
              "      <td>1% Low Fat Milk</td>\n",
              "      <td>361905</td>\n",
              "      <td>6</td>\n",
              "      <td>2</td>\n",
              "      <td>29</td>\n",
              "    </tr>\n",
              "    <tr>\n",
              "      <th>3535517</th>\n",
              "      <td>31981</td>\n",
              "      <td>1% Low Fat Milk</td>\n",
              "      <td>82903</td>\n",
              "      <td>4</td>\n",
              "      <td>2</td>\n",
              "      <td>29</td>\n",
              "    </tr>\n",
              "    <tr>\n",
              "      <th>3631151</th>\n",
              "      <td>31981</td>\n",
              "      <td>1% Low Fat Milk</td>\n",
              "      <td>692311</td>\n",
              "      <td>11</td>\n",
              "      <td>2</td>\n",
              "      <td>29</td>\n",
              "    </tr>\n",
              "    <tr>\n",
              "      <th>4723348</th>\n",
              "      <td>31981</td>\n",
              "      <td>1% Low Fat Milk</td>\n",
              "      <td>167352</td>\n",
              "      <td>2</td>\n",
              "      <td>2</td>\n",
              "      <td>29</td>\n",
              "    </tr>\n",
              "    <tr>\n",
              "      <th>4876185</th>\n",
              "      <td>31981</td>\n",
              "      <td>1% Low Fat Milk</td>\n",
              "      <td>1855257</td>\n",
              "      <td>2</td>\n",
              "      <td>2</td>\n",
              "      <td>29</td>\n",
              "    </tr>\n",
              "    <tr>\n",
              "      <th>5102437</th>\n",
              "      <td>31981</td>\n",
              "      <td>1% Low Fat Milk</td>\n",
              "      <td>1996340</td>\n",
              "      <td>1</td>\n",
              "      <td>2</td>\n",
              "      <td>29</td>\n",
              "    </tr>\n",
              "    <tr>\n",
              "      <th>5218728</th>\n",
              "      <td>31981</td>\n",
              "      <td>1% Low Fat Milk</td>\n",
              "      <td>2638320</td>\n",
              "      <td>8</td>\n",
              "      <td>2</td>\n",
              "      <td>29</td>\n",
              "    </tr>\n",
              "    <tr>\n",
              "      <th>5673443</th>\n",
              "      <td>31981</td>\n",
              "      <td>1% Low Fat Milk</td>\n",
              "      <td>2475293</td>\n",
              "      <td>5</td>\n",
              "      <td>2</td>\n",
              "      <td>29</td>\n",
              "    </tr>\n",
              "    <tr>\n",
              "      <th>6076577</th>\n",
              "      <td>31981</td>\n",
              "      <td>1% Low Fat Milk</td>\n",
              "      <td>2278327</td>\n",
              "      <td>9</td>\n",
              "      <td>2</td>\n",
              "      <td>29</td>\n",
              "    </tr>\n",
              "    <tr>\n",
              "      <th>6819995</th>\n",
              "      <td>31981</td>\n",
              "      <td>1% Low Fat Milk</td>\n",
              "      <td>288747</td>\n",
              "      <td>4</td>\n",
              "      <td>2</td>\n",
              "      <td>29</td>\n",
              "    </tr>\n",
              "    <tr>\n",
              "      <th>7180181</th>\n",
              "      <td>31981</td>\n",
              "      <td>1% Low Fat Milk</td>\n",
              "      <td>2388592</td>\n",
              "      <td>2</td>\n",
              "      <td>2</td>\n",
              "      <td>29</td>\n",
              "    </tr>\n",
              "    <tr>\n",
              "      <th>11298816</th>\n",
              "      <td>31981</td>\n",
              "      <td>1% Low Fat Milk</td>\n",
              "      <td>1972952</td>\n",
              "      <td>13</td>\n",
              "      <td>2</td>\n",
              "      <td>29</td>\n",
              "    </tr>\n",
              "    <tr>\n",
              "      <th>12871994</th>\n",
              "      <td>31981</td>\n",
              "      <td>1% Low Fat Milk</td>\n",
              "      <td>1938600</td>\n",
              "      <td>4</td>\n",
              "      <td>2</td>\n",
              "      <td>29</td>\n",
              "    </tr>\n",
              "  </tbody>\n",
              "</table>\n",
              "</div>"
            ],
            "text/plain": [
              "          product_id              product_name  ...  order_hour_of_day  count\n",
              "4168214        49517  0% Fat Free Organic Milk  ...                  2      4\n",
              "6850404        49517  0% Fat Free Organic Milk  ...                  2      4\n",
              "13339207       49517  0% Fat Free Organic Milk  ...                  2      4\n",
              "32908972       49517  0% Fat Free Organic Milk  ...                  2      4\n",
              "1185441        38928  0% Greek Strained Yogurt  ...                  2     14\n",
              "1666812        38928  0% Greek Strained Yogurt  ...                  2     14\n",
              "1740274        38928  0% Greek Strained Yogurt  ...                  2     14\n",
              "1882670        38928  0% Greek Strained Yogurt  ...                  2     14\n",
              "19316841       38928  0% Greek Strained Yogurt  ...                  2     14\n",
              "20375991       38928  0% Greek Strained Yogurt  ...                  2     14\n",
              "23057000       38928  0% Greek Strained Yogurt  ...                  2     14\n",
              "30622018       38928  0% Greek Strained Yogurt  ...                  2     14\n",
              "30910112       38928  0% Greek Strained Yogurt  ...                  2     14\n",
              "32858062       38928  0% Greek Strained Yogurt  ...                  2     14\n",
              "33078144       38928  0% Greek Strained Yogurt  ...                  2     14\n",
              "33571621       38928  0% Greek Strained Yogurt  ...                  2     14\n",
              "33688791       38928  0% Greek Strained Yogurt  ...                  2     14\n",
              "33755783       38928  0% Greek Strained Yogurt  ...                  2     14\n",
              "4339183         5428                   1 Liter  ...                  2     15\n",
              "5048943         5428                   1 Liter  ...                  2     15\n",
              "11108715        5428                   1 Liter  ...                  2     15\n",
              "12608689        5428                   1 Liter  ...                  2     15\n",
              "15254293        5428                   1 Liter  ...                  2     15\n",
              "15825517        5428                   1 Liter  ...                  2     15\n",
              "16172834        5428                   1 Liter  ...                  2     15\n",
              "23143877        5428                   1 Liter  ...                  2     15\n",
              "23656214        5428                   1 Liter  ...                  2     15\n",
              "23659367        5428                   1 Liter  ...                  2     15\n",
              "23662014        5428                   1 Liter  ...                  2     15\n",
              "23665181        5428                   1 Liter  ...                  2     15\n",
              "23665481        5428                   1 Liter  ...                  2     15\n",
              "23665605        5428                   1 Liter  ...                  2     15\n",
              "23667484        5428                   1 Liter  ...                  2     15\n",
              "197441         31981           1% Low Fat Milk  ...                  2     29\n",
              "714324         31981           1% Low Fat Milk  ...                  2     29\n",
              "1536519        31981           1% Low Fat Milk  ...                  2     29\n",
              "2920404        31981           1% Low Fat Milk  ...                  2     29\n",
              "3532783        31981           1% Low Fat Milk  ...                  2     29\n",
              "3535517        31981           1% Low Fat Milk  ...                  2     29\n",
              "3631151        31981           1% Low Fat Milk  ...                  2     29\n",
              "4723348        31981           1% Low Fat Milk  ...                  2     29\n",
              "4876185        31981           1% Low Fat Milk  ...                  2     29\n",
              "5102437        31981           1% Low Fat Milk  ...                  2     29\n",
              "5218728        31981           1% Low Fat Milk  ...                  2     29\n",
              "5673443        31981           1% Low Fat Milk  ...                  2     29\n",
              "6076577        31981           1% Low Fat Milk  ...                  2     29\n",
              "6819995        31981           1% Low Fat Milk  ...                  2     29\n",
              "7180181        31981           1% Low Fat Milk  ...                  2     29\n",
              "11298816       31981           1% Low Fat Milk  ...                  2     29\n",
              "12871994       31981           1% Low Fat Milk  ...                  2     29\n",
              "\n",
              "[50 rows x 6 columns]"
            ]
          },
          "metadata": {
            "tags": []
          },
          "execution_count": 16
        }
      ]
    },
    {
      "cell_type": "markdown",
      "metadata": {
        "id": "LJY-CheIjmMS",
        "colab_type": "text"
      },
      "source": [
        "Looks like count is working correctly"
      ]
    },
    {
      "cell_type": "code",
      "metadata": {
        "id": "UaP6s15XXF-s",
        "colab_type": "code",
        "colab": {
          "base_uri": "https://localhost:8080/",
          "height": 204
        },
        "outputId": "3f9488df-3f53-4cf3-cfd9-6a93e2e63c70"
      },
      "source": [
        "subset = subset.drop(['order_id', 'add_to_cart_order'], axis = 1)\n",
        "subset = subset.drop_duplicates()\n",
        "subset.head()"
      ],
      "execution_count": 26,
      "outputs": [
        {
          "output_type": "execute_result",
          "data": {
            "text/html": [
              "<div>\n",
              "<style scoped>\n",
              "    .dataframe tbody tr th:only-of-type {\n",
              "        vertical-align: middle;\n",
              "    }\n",
              "\n",
              "    .dataframe tbody tr th {\n",
              "        vertical-align: top;\n",
              "    }\n",
              "\n",
              "    .dataframe thead th {\n",
              "        text-align: right;\n",
              "    }\n",
              "</style>\n",
              "<table border=\"1\" class=\"dataframe\">\n",
              "  <thead>\n",
              "    <tr style=\"text-align: right;\">\n",
              "      <th></th>\n",
              "      <th>product_id</th>\n",
              "      <th>product_name</th>\n",
              "      <th>order_hour_of_day</th>\n",
              "      <th>count</th>\n",
              "    </tr>\n",
              "  </thead>\n",
              "  <tbody>\n",
              "    <tr>\n",
              "      <th>1578199</th>\n",
              "      <td>49517</td>\n",
              "      <td>0% Fat Free Organic Milk</td>\n",
              "      <td>0</td>\n",
              "      <td>26</td>\n",
              "    </tr>\n",
              "    <tr>\n",
              "      <th>487</th>\n",
              "      <td>38928</td>\n",
              "      <td>0% Greek Strained Yogurt</td>\n",
              "      <td>0</td>\n",
              "      <td>48</td>\n",
              "    </tr>\n",
              "    <tr>\n",
              "      <th>1533665</th>\n",
              "      <td>5428</td>\n",
              "      <td>1 Liter</td>\n",
              "      <td>0</td>\n",
              "      <td>33</td>\n",
              "    </tr>\n",
              "    <tr>\n",
              "      <th>714437</th>\n",
              "      <td>31981</td>\n",
              "      <td>1% Low Fat Milk</td>\n",
              "      <td>0</td>\n",
              "      <td>71</td>\n",
              "    </tr>\n",
              "    <tr>\n",
              "      <th>388367</th>\n",
              "      <td>24024</td>\n",
              "      <td>1% Lowfat Milk</td>\n",
              "      <td>0</td>\n",
              "      <td>95</td>\n",
              "    </tr>\n",
              "  </tbody>\n",
              "</table>\n",
              "</div>"
            ],
            "text/plain": [
              "         product_id              product_name  order_hour_of_day  count\n",
              "1578199       49517  0% Fat Free Organic Milk                  0     26\n",
              "487           38928  0% Greek Strained Yogurt                  0     48\n",
              "1533665        5428                   1 Liter                  0     33\n",
              "714437        31981           1% Low Fat Milk                  0     71\n",
              "388367        24024            1% Lowfat Milk                  0     95"
            ]
          },
          "metadata": {
            "tags": []
          },
          "execution_count": 26
        }
      ]
    },
    {
      "cell_type": "code",
      "metadata": {
        "id": "ymacxADJPOWw",
        "colab_type": "code",
        "colab": {
          "base_uri": "https://localhost:8080/",
          "height": 204
        },
        "outputId": "4ff6e4ad-2476-455d-f451-9f91137d1afd"
      },
      "source": [
        "subset['percent'] = (subset['count'] / (subset.groupby('order_hour_of_day')['count'].transform('sum')))\n",
        "subset.head()"
      ],
      "execution_count": 34,
      "outputs": [
        {
          "output_type": "execute_result",
          "data": {
            "text/html": [
              "<div>\n",
              "<style scoped>\n",
              "    .dataframe tbody tr th:only-of-type {\n",
              "        vertical-align: middle;\n",
              "    }\n",
              "\n",
              "    .dataframe tbody tr th {\n",
              "        vertical-align: top;\n",
              "    }\n",
              "\n",
              "    .dataframe thead th {\n",
              "        text-align: right;\n",
              "    }\n",
              "</style>\n",
              "<table border=\"1\" class=\"dataframe\">\n",
              "  <thead>\n",
              "    <tr style=\"text-align: right;\">\n",
              "      <th></th>\n",
              "      <th>product_id</th>\n",
              "      <th>product_name</th>\n",
              "      <th>order_hour_of_day</th>\n",
              "      <th>count</th>\n",
              "      <th>percent</th>\n",
              "    </tr>\n",
              "  </thead>\n",
              "  <tbody>\n",
              "    <tr>\n",
              "      <th>1578199</th>\n",
              "      <td>49517</td>\n",
              "      <td>0% Fat Free Organic Milk</td>\n",
              "      <td>0</td>\n",
              "      <td>26</td>\n",
              "      <td>0.000174</td>\n",
              "    </tr>\n",
              "    <tr>\n",
              "      <th>487</th>\n",
              "      <td>38928</td>\n",
              "      <td>0% Greek Strained Yogurt</td>\n",
              "      <td>0</td>\n",
              "      <td>48</td>\n",
              "      <td>0.000322</td>\n",
              "    </tr>\n",
              "    <tr>\n",
              "      <th>1533665</th>\n",
              "      <td>5428</td>\n",
              "      <td>1 Liter</td>\n",
              "      <td>0</td>\n",
              "      <td>33</td>\n",
              "      <td>0.000221</td>\n",
              "    </tr>\n",
              "    <tr>\n",
              "      <th>714437</th>\n",
              "      <td>31981</td>\n",
              "      <td>1% Low Fat Milk</td>\n",
              "      <td>0</td>\n",
              "      <td>71</td>\n",
              "      <td>0.000476</td>\n",
              "    </tr>\n",
              "    <tr>\n",
              "      <th>388367</th>\n",
              "      <td>24024</td>\n",
              "      <td>1% Lowfat Milk</td>\n",
              "      <td>0</td>\n",
              "      <td>95</td>\n",
              "      <td>0.000636</td>\n",
              "    </tr>\n",
              "  </tbody>\n",
              "</table>\n",
              "</div>"
            ],
            "text/plain": [
              "         product_id              product_name  ...  count   percent\n",
              "1578199       49517  0% Fat Free Organic Milk  ...     26  0.000174\n",
              "487           38928  0% Greek Strained Yogurt  ...     48  0.000322\n",
              "1533665        5428                   1 Liter  ...     33  0.000221\n",
              "714437        31981           1% Low Fat Milk  ...     71  0.000476\n",
              "388367        24024            1% Lowfat Milk  ...     95  0.000636\n",
              "\n",
              "[5 rows x 5 columns]"
            ]
          },
          "metadata": {
            "tags": []
          },
          "execution_count": 34
        }
      ]
    },
    {
      "cell_type": "code",
      "metadata": {
        "id": "xr1lCuDnmpnw",
        "colab_type": "code",
        "colab": {
          "base_uri": "https://localhost:8080/",
          "height": 204
        },
        "outputId": "11f71589-3d1c-4b40-a4fd-831a4c5fdf9c"
      },
      "source": [
        "subset['product_orders_total'] = \"NaN\"\n",
        "#subset.groupby('product_name')['count'].transform('sum')\n",
        "subset.head()"
      ],
      "execution_count": 63,
      "outputs": [
        {
          "output_type": "execute_result",
          "data": {
            "text/html": [
              "<div>\n",
              "<style scoped>\n",
              "    .dataframe tbody tr th:only-of-type {\n",
              "        vertical-align: middle;\n",
              "    }\n",
              "\n",
              "    .dataframe tbody tr th {\n",
              "        vertical-align: top;\n",
              "    }\n",
              "\n",
              "    .dataframe thead th {\n",
              "        text-align: right;\n",
              "    }\n",
              "</style>\n",
              "<table border=\"1\" class=\"dataframe\">\n",
              "  <thead>\n",
              "    <tr style=\"text-align: right;\">\n",
              "      <th></th>\n",
              "      <th>product_id</th>\n",
              "      <th>product_name</th>\n",
              "      <th>order_hour_of_day</th>\n",
              "      <th>count</th>\n",
              "      <th>percent</th>\n",
              "      <th>product_orders_total</th>\n",
              "    </tr>\n",
              "  </thead>\n",
              "  <tbody>\n",
              "    <tr>\n",
              "      <th>1578199</th>\n",
              "      <td>49517</td>\n",
              "      <td>0% Fat Free Organic Milk</td>\n",
              "      <td>0</td>\n",
              "      <td>26</td>\n",
              "      <td>0.000174</td>\n",
              "      <td>NaN</td>\n",
              "    </tr>\n",
              "    <tr>\n",
              "      <th>487</th>\n",
              "      <td>38928</td>\n",
              "      <td>0% Greek Strained Yogurt</td>\n",
              "      <td>0</td>\n",
              "      <td>48</td>\n",
              "      <td>0.000322</td>\n",
              "      <td>NaN</td>\n",
              "    </tr>\n",
              "    <tr>\n",
              "      <th>1533665</th>\n",
              "      <td>5428</td>\n",
              "      <td>1 Liter</td>\n",
              "      <td>0</td>\n",
              "      <td>33</td>\n",
              "      <td>0.000221</td>\n",
              "      <td>NaN</td>\n",
              "    </tr>\n",
              "    <tr>\n",
              "      <th>714437</th>\n",
              "      <td>31981</td>\n",
              "      <td>1% Low Fat Milk</td>\n",
              "      <td>0</td>\n",
              "      <td>71</td>\n",
              "      <td>0.000476</td>\n",
              "      <td>NaN</td>\n",
              "    </tr>\n",
              "    <tr>\n",
              "      <th>388367</th>\n",
              "      <td>24024</td>\n",
              "      <td>1% Lowfat Milk</td>\n",
              "      <td>0</td>\n",
              "      <td>95</td>\n",
              "      <td>0.000636</td>\n",
              "      <td>NaN</td>\n",
              "    </tr>\n",
              "  </tbody>\n",
              "</table>\n",
              "</div>"
            ],
            "text/plain": [
              "         product_id              product_name  ...   percent  product_orders_total\n",
              "1578199       49517  0% Fat Free Organic Milk  ...  0.000174                   NaN\n",
              "487           38928  0% Greek Strained Yogurt  ...  0.000322                   NaN\n",
              "1533665        5428                   1 Liter  ...  0.000221                   NaN\n",
              "714437        31981           1% Low Fat Milk  ...  0.000476                   NaN\n",
              "388367        24024            1% Lowfat Milk  ...  0.000636                   NaN\n",
              "\n",
              "[5 rows x 6 columns]"
            ]
          },
          "metadata": {
            "tags": []
          },
          "execution_count": 63
        }
      ]
    },
    {
      "cell_type": "code",
      "metadata": {
        "id": "58rZ4e9FvwOI",
        "colab_type": "code",
        "colab": {
          "base_uri": "https://localhost:8080/",
          "height": 221
        },
        "outputId": "8035c04d-79d0-4338-afc9-f1f168bb2c66"
      },
      "source": [
        "early = subset[subset['order_hour_of_day'] < 12]\n",
        "late = subset[subset['order_hour_of_day'] >= 12]\n",
        "\n",
        "early['product_orders_total'] = early.groupby('product_name')['count'].transform('sum')\n",
        "late['product_orders_total'] = late.groupby('product_name')['count'].transform('sum')\n",
        "\n"
      ],
      "execution_count": 67,
      "outputs": [
        {
          "output_type": "stream",
          "text": [
            "/usr/local/lib/python3.6/dist-packages/ipykernel_launcher.py:4: SettingWithCopyWarning: \n",
            "A value is trying to be set on a copy of a slice from a DataFrame.\n",
            "Try using .loc[row_indexer,col_indexer] = value instead\n",
            "\n",
            "See the caveats in the documentation: http://pandas.pydata.org/pandas-docs/stable/indexing.html#indexing-view-versus-copy\n",
            "  after removing the cwd from sys.path.\n",
            "/usr/local/lib/python3.6/dist-packages/ipykernel_launcher.py:5: SettingWithCopyWarning: \n",
            "A value is trying to be set on a copy of a slice from a DataFrame.\n",
            "Try using .loc[row_indexer,col_indexer] = value instead\n",
            "\n",
            "See the caveats in the documentation: http://pandas.pydata.org/pandas-docs/stable/indexing.html#indexing-view-versus-copy\n",
            "  \"\"\"\n"
          ],
          "name": "stderr"
        }
      ]
    },
    {
      "cell_type": "code",
      "metadata": {
        "id": "v_kkDZVrvDtD",
        "colab_type": "code",
        "colab": {
          "base_uri": "https://localhost:8080/",
          "height": 442
        },
        "outputId": "21100bc4-1f4d-47e1-8bf7-b2cd45bf2596"
      },
      "source": [
        "early.sort_values('product_orders_total', ascending=False)['product_name'].unique().tolist()[:25]"
      ],
      "execution_count": 68,
      "outputs": [
        {
          "output_type": "execute_result",
          "data": {
            "text/plain": [
              "['Banana',\n",
              " 'Bag of Organic Bananas',\n",
              " 'Organic Strawberries',\n",
              " 'Organic Baby Spinach',\n",
              " 'Organic Hass Avocado',\n",
              " 'Organic Avocado',\n",
              " 'Large Lemon',\n",
              " 'Strawberries',\n",
              " 'Organic Raspberries',\n",
              " 'Organic Whole Milk',\n",
              " 'Limes',\n",
              " 'Organic Yellow Onion',\n",
              " 'Organic Garlic',\n",
              " 'Organic Zucchini',\n",
              " 'Organic Blueberries',\n",
              " 'Organic Fuji Apple',\n",
              " 'Cucumber Kirby',\n",
              " 'Organic Half & Half',\n",
              " 'Apple Honeycrisp Organic',\n",
              " 'Seedless Red Grapes',\n",
              " 'Organic Lemon',\n",
              " 'Honeycrisp Apple',\n",
              " 'Organic Grape Tomatoes',\n",
              " 'Sparkling Water Grapefruit',\n",
              " 'Organic Baby Carrots']"
            ]
          },
          "metadata": {
            "tags": []
          },
          "execution_count": 68
        }
      ]
    },
    {
      "cell_type": "code",
      "metadata": {
        "id": "kfWzAISb_W4P",
        "colab_type": "code",
        "colab": {
          "base_uri": "https://localhost:8080/",
          "height": 442
        },
        "outputId": "50d5f10d-60f2-48ef-96a2-cf5e75fb1977"
      },
      "source": [
        "late.sort_values('product_orders_total', ascending=False)['product_name'].unique().tolist()[:25]"
      ],
      "execution_count": 70,
      "outputs": [
        {
          "output_type": "execute_result",
          "data": {
            "text/plain": [
              "['Banana',\n",
              " 'Bag of Organic Bananas',\n",
              " 'Organic Strawberries',\n",
              " 'Organic Baby Spinach',\n",
              " 'Organic Hass Avocado',\n",
              " 'Organic Avocado',\n",
              " 'Large Lemon',\n",
              " 'Limes',\n",
              " 'Strawberries',\n",
              " 'Organic Whole Milk',\n",
              " 'Organic Raspberries',\n",
              " 'Organic Yellow Onion',\n",
              " 'Organic Garlic',\n",
              " 'Organic Zucchini',\n",
              " 'Organic Blueberries',\n",
              " 'Cucumber Kirby',\n",
              " 'Organic Lemon',\n",
              " 'Organic Grape Tomatoes',\n",
              " 'Organic Fuji Apple',\n",
              " 'Organic Cucumber',\n",
              " 'Apple Honeycrisp Organic',\n",
              " 'Seedless Red Grapes',\n",
              " 'Honeycrisp Apple',\n",
              " 'Organic Baby Carrots',\n",
              " 'Yellow Onions']"
            ]
          },
          "metadata": {
            "tags": []
          },
          "execution_count": 70
        }
      ]
    },
    {
      "cell_type": "code",
      "metadata": {
        "id": "Tsjnwf7e_W8P",
        "colab_type": "code",
        "colab": {}
      },
      "source": [
        ""
      ],
      "execution_count": 0,
      "outputs": []
    },
    {
      "cell_type": "code",
      "metadata": {
        "id": "camPeZpu_W6Q",
        "colab_type": "code",
        "colab": {}
      },
      "source": [
        ""
      ],
      "execution_count": 0,
      "outputs": []
    },
    {
      "cell_type": "code",
      "metadata": {
        "id": "yGCTiakZ_W2S",
        "colab_type": "code",
        "colab": {}
      },
      "source": [
        ""
      ],
      "execution_count": 0,
      "outputs": []
    },
    {
      "cell_type": "code",
      "metadata": {
        "id": "ZER5CbRs_WzI",
        "colab_type": "code",
        "colab": {}
      },
      "source": [
        ""
      ],
      "execution_count": 0,
      "outputs": []
    }
  ]
}