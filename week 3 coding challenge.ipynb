{
  "nbformat": 4,
  "nbformat_minor": 0,
  "metadata": {
    "colab": {
      "name": "Untitled4.ipynb",
      "version": "0.3.2",
      "provenance": [],
      "include_colab_link": true
    },
    "kernelspec": {
      "name": "python3",
      "display_name": "Python 3"
    }
  },
  "cells": [
    {
      "cell_type": "markdown",
      "metadata": {
        "id": "view-in-github",
        "colab_type": "text"
      },
      "source": [
        "<a href=\"https://colab.research.google.com/github/ngriggs/DS-Unit-1-Sprint-2-Data-Wrangling-and-Storytelling/blob/master/week%203%20coding%20challenge.ipynb\" target=\"_parent\"><img src=\"https://colab.research.google.com/assets/colab-badge.svg\" alt=\"Open In Colab\"/></a>"
      ]
    },
    {
      "cell_type": "code",
      "metadata": {
        "id": "2VlWK4aPfvb-",
        "colab_type": "code",
        "colab": {}
      },
      "source": [
        "# find the sum of all multiples less than a number\n",
        "\n",
        "x = 10\n"
      ],
      "execution_count": 0,
      "outputs": []
    },
    {
      "cell_type": "code",
      "metadata": {
        "id": "9mrvMoP6f1gC",
        "colab_type": "code",
        "colab": {}
      },
      "source": [
        "def sum_multiples(x):\n",
        "  sum = 0\n",
        "  for i in range(x):\n",
        "    if i % 3 == 0:\n",
        "      sum+=i\n",
        "    if i % 5 == 0:\n",
        "      sum+=i\n",
        "  return sum"
      ],
      "execution_count": 0,
      "outputs": []
    },
    {
      "cell_type": "code",
      "metadata": {
        "id": "SgV2SXUnxFtY",
        "colab_type": "code",
        "colab": {
          "base_uri": "https://localhost:8080/",
          "height": 34
        },
        "outputId": "f2f761ae-7b9b-453a-c230-e0c6dc897502"
      },
      "source": [
        "sum_multiples(10)"
      ],
      "execution_count": 2,
      "outputs": [
        {
          "output_type": "execute_result",
          "data": {
            "text/plain": [
              "23"
            ]
          },
          "metadata": {
            "tags": []
          },
          "execution_count": 2
        }
      ]
    },
    {
      "cell_type": "code",
      "metadata": {
        "id": "qyLlcCS-oDZF",
        "colab_type": "code",
        "outputId": "c0a3b22e-7b56-4d1a-f247-1145384274bc",
        "colab": {
          "base_uri": "https://localhost:8080/",
          "height": 34
        }
      },
      "source": [
        "sum_multiples(1000)"
      ],
      "execution_count": 0,
      "outputs": [
        {
          "output_type": "execute_result",
          "data": {
            "text/plain": [
              "233168"
            ]
          },
          "metadata": {
            "tags": []
          },
          "execution_count": 13
        }
      ]
    },
    {
      "cell_type": "code",
      "metadata": {
        "id": "kG1ngubpoJTP",
        "colab_type": "code",
        "colab": {}
      },
      "source": [
        "# Triangular numbers\n",
        "def sum_multiples(x):\n",
        "  sum = 0\n",
        "  for i in range(x):\n",
        "    if i % 3 == 0  or i % 5 == 0:\n",
        "      print(i)\n",
        "  return sum\n"
      ],
      "execution_count": 0,
      "outputs": []
    },
    {
      "cell_type": "code",
      "metadata": {
        "id": "26WDYWGuowUR",
        "colab_type": "code",
        "outputId": "aa570ccc-56f8-4d40-ef7f-015e589e1155",
        "colab": {
          "base_uri": "https://localhost:8080/",
          "height": 187
        }
      },
      "source": [
        "sum_multiples(20)"
      ],
      "execution_count": 0,
      "outputs": [
        {
          "output_type": "stream",
          "text": [
            "0\n",
            "3\n",
            "5\n",
            "6\n",
            "9\n",
            "10\n",
            "12\n",
            "15\n",
            "18\n"
          ],
          "name": "stdout"
        },
        {
          "output_type": "execute_result",
          "data": {
            "text/plain": [
              "0"
            ]
          },
          "metadata": {
            "tags": []
          },
          "execution_count": 15
        }
      ]
    },
    {
      "cell_type": "code",
      "metadata": {
        "id": "dRODWYmXozHv",
        "colab_type": "code",
        "colab": {}
      },
      "source": [
        "m = 10//3"
      ],
      "execution_count": 0,
      "outputs": []
    },
    {
      "cell_type": "code",
      "metadata": {
        "id": "195fpWjeptyc",
        "colab_type": "code",
        "outputId": "0ac96885-9f64-42f6-937f-5a981f10e8d2",
        "colab": {
          "base_uri": "https://localhost:8080/",
          "height": 34
        }
      },
      "source": [
        "3 * (m*(m+1) / 2)"
      ],
      "execution_count": 0,
      "outputs": [
        {
          "output_type": "execute_result",
          "data": {
            "text/plain": [
              "18.0"
            ]
          },
          "metadata": {
            "tags": []
          },
          "execution_count": 21
        }
      ]
    },
    {
      "cell_type": "code",
      "metadata": {
        "id": "Ui4dMUk7qD8C",
        "colab_type": "code",
        "colab": {}
      },
      "source": [
        "m = 10//5"
      ],
      "execution_count": 0,
      "outputs": []
    },
    {
      "cell_type": "code",
      "metadata": {
        "id": "6zyevPYTqZgF",
        "colab_type": "code",
        "outputId": "28db1a61-01a4-4f1d-d56b-2f02541f6fb5",
        "colab": {
          "base_uri": "https://localhost:8080/",
          "height": 34
        }
      },
      "source": [
        "5 * (m*(m+1) / 2)"
      ],
      "execution_count": 0,
      "outputs": [
        {
          "output_type": "execute_result",
          "data": {
            "text/plain": [
              "15.0"
            ]
          },
          "metadata": {
            "tags": []
          },
          "execution_count": 24
        }
      ]
    },
    {
      "cell_type": "code",
      "metadata": {
        "id": "kIf8C95uqbdP",
        "colab_type": "code",
        "colab": {}
      },
      "source": [
        ""
      ],
      "execution_count": 0,
      "outputs": []
    },
    {
      "cell_type": "code",
      "metadata": {
        "id": "VN0LYHHHgUxx",
        "colab_type": "code",
        "colab": {}
      },
      "source": [
        "def sum_multiples(x):\n",
        "  sum = 0\n",
        "  for i in range(x):\n",
        "    if i % 3 == 0  or i % 5 == 0:\n",
        "      sum+=i\n",
        "  return sum"
      ],
      "execution_count": 0,
      "outputs": []
    },
    {
      "cell_type": "code",
      "metadata": {
        "id": "Y2uwW75fq7XY",
        "colab_type": "code",
        "colab": {}
      },
      "source": [
        "x = 1000"
      ],
      "execution_count": 0,
      "outputs": []
    },
    {
      "cell_type": "code",
      "metadata": {
        "id": "jLEO43ZYq8bg",
        "colab_type": "code",
        "outputId": "b047e084-d353-43b6-b112-b31642022018",
        "colab": {
          "base_uri": "https://localhost:8080/",
          "height": 34
        }
      },
      "source": [
        "sum_multiples(x)"
      ],
      "execution_count": 0,
      "outputs": [
        {
          "output_type": "execute_result",
          "data": {
            "text/plain": [
              "233168"
            ]
          },
          "metadata": {
            "tags": []
          },
          "execution_count": 27
        }
      ]
    },
    {
      "cell_type": "code",
      "metadata": {
        "id": "NESY0SKBq9xt",
        "colab_type": "code",
        "colab": {}
      },
      "source": [
        "def sum_multiplesn(a, n):\n",
        "  sum = 0\n",
        "  for _ in a:\n",
        "    x = n//_\n",
        "    sum += _ * (x*(x+1) / 2)\n",
        "  return sum\n",
        "    \n",
        "test = [3, 5]\n",
        "x = 1000"
      ],
      "execution_count": 0,
      "outputs": []
    },
    {
      "cell_type": "code",
      "metadata": {
        "id": "NzSQ8sITwBl2",
        "colab_type": "code",
        "colab": {
          "base_uri": "https://localhost:8080/",
          "height": 34
        },
        "outputId": "dc2ba1f1-eea8-4bb8-b2d1-7a80b345396e"
      },
      "source": [
        "sum_multiplesn(test, x)"
      ],
      "execution_count": 39,
      "outputs": [
        {
          "output_type": "execute_result",
          "data": {
            "text/plain": [
              "267333.0"
            ]
          },
          "metadata": {
            "tags": []
          },
          "execution_count": 39
        }
      ]
    },
    {
      "cell_type": "code",
      "metadata": {
        "id": "HsDHUcoXxaJu",
        "colab_type": "code",
        "colab": {
          "base_uri": "https://localhost:8080/",
          "height": 34
        },
        "outputId": "a3f95477-afdf-47dc-8619-ef2c5fb7fbeb"
      },
      "source": [
        "267333-233168"
      ],
      "execution_count": 16,
      "outputs": [
        {
          "output_type": "execute_result",
          "data": {
            "text/plain": [
              "34165"
            ]
          },
          "metadata": {
            "tags": []
          },
          "execution_count": 16
        }
      ]
    },
    {
      "cell_type": "code",
      "metadata": {
        "id": "EGyqhVawyI9h",
        "colab_type": "code",
        "colab": {
          "base_uri": "https://localhost:8080/",
          "height": 34
        },
        "outputId": "f45bdcba-62b0-43fb-cdcc-773b4c0d8940"
      },
      "source": [
        "sum_multiplesn([15], 1000)"
      ],
      "execution_count": 23,
      "outputs": [
        {
          "output_type": "execute_result",
          "data": {
            "text/plain": [
              "33165.0"
            ]
          },
          "metadata": {
            "tags": []
          },
          "execution_count": 23
        }
      ]
    },
    {
      "cell_type": "code",
      "metadata": {
        "id": "zfg21k6oyN8g",
        "colab_type": "code",
        "colab": {}
      },
      "source": [
        ""
      ],
      "execution_count": 0,
      "outputs": []
    }
  ]
}