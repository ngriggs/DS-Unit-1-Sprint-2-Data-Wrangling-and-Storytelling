{
  "nbformat": 4,
  "nbformat_minor": 0,
  "metadata": {
    "colab": {
      "name": "snippets.ipynb",
      "version": "0.3.2",
      "provenance": [],
      "collapsed_sections": [],
      "include_colab_link": true
    },
    "kernelspec": {
      "name": "python3",
      "display_name": "Python 3"
    }
  },
  "cells": [
    {
      "cell_type": "markdown",
      "metadata": {
        "id": "view-in-github",
        "colab_type": "text"
      },
      "source": [
        "<a href=\"https://colab.research.google.com/github/ngriggs/DS-Unit-1-Sprint-2-Data-Wrangling-and-Storytelling/blob/master/colab%20snippets.ipynb\" target=\"_parent\"><img src=\"https://colab.research.google.com/assets/colab-badge.svg\" alt=\"Open In Colab\"/></a>"
      ]
    },
    {
      "cell_type": "markdown",
      "metadata": {
        "id": "O3XTmfNlJoiv",
        "colab_type": "text"
      },
      "source": [
        "# PyData"
      ]
    },
    {
      "cell_type": "code",
      "metadata": {
        "id": "NqViVTzUHpHp",
        "colab_type": "code",
        "colab": {}
      },
      "source": [
        "import pandas as pd\n",
        "import numpy as np\n",
        "import matplotlib.pyplot as plt\n",
        "import altair as alt\n",
        "import seaborn as sns\n",
        "plt.style.use('fivethirtyeight')\n",
        "%matplotlib inline"
      ],
      "execution_count": 0,
      "outputs": []
    },
    {
      "cell_type": "markdown",
      "metadata": {
        "id": "Y2pDWNmO_cXD",
        "colab_type": "text"
      },
      "source": [
        "# Pandas Options"
      ]
    },
    {
      "cell_type": "code",
      "metadata": {
        "id": "HhU55MQd_aUt",
        "colab_type": "code",
        "colab": {}
      },
      "source": [
        "def start():\n",
        "    options = {\n",
        "        'display': {\n",
        "            'max_columns': None,\n",
        "            'max_colwidth': 25,\n",
        "            'expand_frame_repr': False,  # Don't wrap to multiple pages\n",
        "            'max_rows': 25,\n",
        "            'max_seq_items': 50,         # Max length of printed sequence\n",
        "            'precision': 4,\n",
        "            'show_dimensions': False\n",
        "        },\n",
        "        'mode': {\n",
        "            'chained_assignment': None   # Controls SettingWithCopyWarning\n",
        "        }\n",
        "    }\n",
        "    for category, option in options.items():\n",
        "        for op, value in option.items():\n",
        "            pd.set_option(f'{category}.{op}', value)  # Python 3.6+\n",
        "start()"
      ],
      "execution_count": 0,
      "outputs": []
    },
    {
      "cell_type": "markdown",
      "metadata": {
        "id": "zzBKd8fCe-Hy",
        "colab_type": "text"
      },
      "source": [
        "# Fonts"
      ]
    },
    {
      "cell_type": "code",
      "metadata": {
        "id": "9eN9wJ58e_8h",
        "colab_type": "code",
        "colab": {}
      },
      "source": [
        "%%sh\n",
        "wget \n",
        "mv /content/*.ttf /usr/share/fonts/truetype/\n",
        "sudo fc-cache -fv\n",
        "sudo rm -fr /root/.cache/matplotlib\n",
        "fc-list"
      ],
      "execution_count": 0,
      "outputs": []
    },
    {
      "cell_type": "markdown",
      "metadata": {
        "id": "EB-BUDdtfQUK",
        "colab_type": "text"
      },
      "source": [
        "# Matplotlib Fonts"
      ]
    },
    {
      "cell_type": "code",
      "metadata": {
        "id": "pbw1TR4jfTNj",
        "colab_type": "code",
        "colab": {}
      },
      "source": [
        "plt.rcParams['font.family'] = 'sans-serif'\n",
        "plt.rcParams['font.sans-serif'] = ''"
      ],
      "execution_count": 0,
      "outputs": []
    }
  ]
}