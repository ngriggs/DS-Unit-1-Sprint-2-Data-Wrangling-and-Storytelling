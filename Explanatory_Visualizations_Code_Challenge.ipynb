{
  "nbformat": 4,
  "nbformat_minor": 0,
  "metadata": {
    "colab": {
      "name": "Explanatory Visualizations Code Challenge.ipynb",
      "version": "0.3.2",
      "provenance": [],
      "include_colab_link": true
    },
    "kernelspec": {
      "name": "python3",
      "display_name": "Python 3"
    }
  },
  "cells": [
    {
      "cell_type": "markdown",
      "metadata": {
        "id": "view-in-github",
        "colab_type": "text"
      },
      "source": [
        "<a href=\"https://colab.research.google.com/github/ngriggs/DS-Unit-1-Sprint-2-Data-Wrangling-and-Storytelling/blob/master/Explanatory_Visualizations_Code_Challenge.ipynb\" target=\"_parent\"><img src=\"https://colab.research.google.com/assets/colab-badge.svg\" alt=\"Open In Colab\"/></a>"
      ]
    },
    {
      "cell_type": "code",
      "metadata": {
        "id": "PHFzWqycZcim",
        "colab_type": "code",
        "outputId": "e0677f91-2297-4fb5-b7ee-933c8392c07b",
        "colab": {
          "base_uri": "https://localhost:8080/",
          "height": 136
        }
      },
      "source": [
        "import pandas as pd\n",
        "\n",
        "# Data Frame to practice .loc[] techniques on\n",
        "df = pd.DataFrame({'index':[1, 2, 3, 4, 5],\n",
        "                   'name_1':['entry1', 'entry2', 'entry3', 'entry4', 'entry5'],\n",
        "                   'name_2':['entry1', 'entry2', 'entry3', 'entry4', 'entry5'],\n",
        "                   'name_3':['entry1', 'entry2', 'entry3', 'entry4', 'entry5'],\n",
        "                   'name_4':['entry1', 'entry2', 'entry3', 'entry4', 'entry5'],\n",
        "                   'name_5':['entry1', 'entry2', 'entry3', 'entry4', 'entry5']})\n",
        "\n",
        "# Set Index\n",
        "df.set_index('index', inplace=True)\n",
        "\n",
        "print(df)\n",
        "### Select by a Single Label\n",
        "#1 Select and print the '1' Row\n",
        "\n",
        "#2 Select and print Row 1 Label with Column 1 Label to get entry1\n",
        "\n",
        "### Select Multiple Rows Using LISTS\n",
        "#1 Select and print Row Labels 1, 2\n",
        "\n",
        "#2 Select and print Row Labels 1, 3, 5\n",
        "\n",
        "# Now Rows WITH desired Columns\n",
        "#3 Select and print Row Labels 1, 2, 3 with Column Labels 'name_1', 'name_2', 'name_3'\n",
        "\n",
        "#4 Select and print Row Labels 1, 3, 4, 5 with Column Labels 'name_1', 'name_3', 'name_4', 'name_5'"
      ],
      "execution_count": 0,
      "outputs": [
        {
          "output_type": "stream",
          "text": [
            "       name_1  name_2  name_3  name_4  name_5\n",
            "index                                        \n",
            "1      entry1  entry1  entry1  entry1  entry1\n",
            "2      entry2  entry2  entry2  entry2  entry2\n",
            "3      entry3  entry3  entry3  entry3  entry3\n",
            "4      entry4  entry4  entry4  entry4  entry4\n",
            "5      entry5  entry5  entry5  entry5  entry5\n"
          ],
          "name": "stdout"
        }
      ]
    },
    {
      "cell_type": "markdown",
      "metadata": {
        "id": "dgvF4JmfbP5_",
        "colab_type": "text"
      },
      "source": [
        "### Select by a Single Label"
      ]
    },
    {
      "cell_type": "code",
      "metadata": {
        "id": "1Jd51WPeZ87O",
        "colab_type": "code",
        "outputId": "3f88fcb4-a130-4403-dd51-7163aae82007",
        "colab": {
          "base_uri": "https://localhost:8080/",
          "height": 119
        }
      },
      "source": [
        "#1 Select and print the '1' Row\n",
        "\n",
        "df.loc[1]"
      ],
      "execution_count": 0,
      "outputs": [
        {
          "output_type": "execute_result",
          "data": {
            "text/plain": [
              "name_1    entry1\n",
              "name_2    entry1\n",
              "name_3    entry1\n",
              "name_4    entry1\n",
              "name_5    entry1\n",
              "Name: 1, dtype: object"
            ]
          },
          "metadata": {
            "tags": []
          },
          "execution_count": 13
        }
      ]
    },
    {
      "cell_type": "code",
      "metadata": {
        "id": "qvyIymJPaDfJ",
        "colab_type": "code",
        "outputId": "515b9e3d-dc7c-4027-e791-45a216445383",
        "colab": {
          "base_uri": "https://localhost:8080/",
          "height": 34
        }
      },
      "source": [
        "#2 Select and print Row 1 Label with Column 1 Label to get entry1\n",
        "df.loc[1,'name_1']"
      ],
      "execution_count": 0,
      "outputs": [
        {
          "output_type": "execute_result",
          "data": {
            "text/plain": [
              "'entry1'"
            ]
          },
          "metadata": {
            "tags": []
          },
          "execution_count": 17
        }
      ]
    },
    {
      "cell_type": "markdown",
      "metadata": {
        "id": "0VkTl5pPbU7B",
        "colab_type": "text"
      },
      "source": [
        "### Select Multiple Rows Using LISTS"
      ]
    },
    {
      "cell_type": "code",
      "metadata": {
        "id": "NJHvPH2la6kp",
        "colab_type": "code",
        "outputId": "191e5f18-5f22-4302-935c-613ca8b8ead4",
        "colab": {
          "base_uri": "https://localhost:8080/",
          "height": 142
        }
      },
      "source": [
        "#1 Select and print Row Labels 1, 2\n",
        "\n",
        "df.loc[1:2]"
      ],
      "execution_count": 0,
      "outputs": [
        {
          "output_type": "execute_result",
          "data": {
            "text/html": [
              "<div>\n",
              "<style scoped>\n",
              "    .dataframe tbody tr th:only-of-type {\n",
              "        vertical-align: middle;\n",
              "    }\n",
              "\n",
              "    .dataframe tbody tr th {\n",
              "        vertical-align: top;\n",
              "    }\n",
              "\n",
              "    .dataframe thead th {\n",
              "        text-align: right;\n",
              "    }\n",
              "</style>\n",
              "<table border=\"1\" class=\"dataframe\">\n",
              "  <thead>\n",
              "    <tr style=\"text-align: right;\">\n",
              "      <th></th>\n",
              "      <th>name_1</th>\n",
              "      <th>name_2</th>\n",
              "      <th>name_3</th>\n",
              "      <th>name_4</th>\n",
              "      <th>name_5</th>\n",
              "    </tr>\n",
              "    <tr>\n",
              "      <th>index</th>\n",
              "      <th></th>\n",
              "      <th></th>\n",
              "      <th></th>\n",
              "      <th></th>\n",
              "      <th></th>\n",
              "    </tr>\n",
              "  </thead>\n",
              "  <tbody>\n",
              "    <tr>\n",
              "      <th>1</th>\n",
              "      <td>entry1</td>\n",
              "      <td>entry1</td>\n",
              "      <td>entry1</td>\n",
              "      <td>entry1</td>\n",
              "      <td>entry1</td>\n",
              "    </tr>\n",
              "    <tr>\n",
              "      <th>2</th>\n",
              "      <td>entry2</td>\n",
              "      <td>entry2</td>\n",
              "      <td>entry2</td>\n",
              "      <td>entry2</td>\n",
              "      <td>entry2</td>\n",
              "    </tr>\n",
              "  </tbody>\n",
              "</table>\n",
              "</div>"
            ],
            "text/plain": [
              "       name_1  name_2  name_3  name_4  name_5\n",
              "index                                        \n",
              "1      entry1  entry1  entry1  entry1  entry1\n",
              "2      entry2  entry2  entry2  entry2  entry2"
            ]
          },
          "metadata": {
            "tags": []
          },
          "execution_count": 18
        }
      ]
    },
    {
      "cell_type": "code",
      "metadata": {
        "id": "DZ9dvJvybZuL",
        "colab_type": "code",
        "outputId": "b297d97e-7b9c-44cb-c013-5a2c75c0dc93",
        "colab": {
          "base_uri": "https://localhost:8080/",
          "height": 173
        }
      },
      "source": [
        "#2 Select and print Row Labels 1, 3, 5\n",
        "\n",
        "df.loc[[1,3,5]]"
      ],
      "execution_count": 0,
      "outputs": [
        {
          "output_type": "execute_result",
          "data": {
            "text/html": [
              "<div>\n",
              "<style scoped>\n",
              "    .dataframe tbody tr th:only-of-type {\n",
              "        vertical-align: middle;\n",
              "    }\n",
              "\n",
              "    .dataframe tbody tr th {\n",
              "        vertical-align: top;\n",
              "    }\n",
              "\n",
              "    .dataframe thead th {\n",
              "        text-align: right;\n",
              "    }\n",
              "</style>\n",
              "<table border=\"1\" class=\"dataframe\">\n",
              "  <thead>\n",
              "    <tr style=\"text-align: right;\">\n",
              "      <th></th>\n",
              "      <th>name_1</th>\n",
              "      <th>name_2</th>\n",
              "      <th>name_3</th>\n",
              "      <th>name_4</th>\n",
              "      <th>name_5</th>\n",
              "    </tr>\n",
              "    <tr>\n",
              "      <th>index</th>\n",
              "      <th></th>\n",
              "      <th></th>\n",
              "      <th></th>\n",
              "      <th></th>\n",
              "      <th></th>\n",
              "    </tr>\n",
              "  </thead>\n",
              "  <tbody>\n",
              "    <tr>\n",
              "      <th>1</th>\n",
              "      <td>entry1</td>\n",
              "      <td>entry1</td>\n",
              "      <td>entry1</td>\n",
              "      <td>entry1</td>\n",
              "      <td>entry1</td>\n",
              "    </tr>\n",
              "    <tr>\n",
              "      <th>3</th>\n",
              "      <td>entry3</td>\n",
              "      <td>entry3</td>\n",
              "      <td>entry3</td>\n",
              "      <td>entry3</td>\n",
              "      <td>entry3</td>\n",
              "    </tr>\n",
              "    <tr>\n",
              "      <th>5</th>\n",
              "      <td>entry5</td>\n",
              "      <td>entry5</td>\n",
              "      <td>entry5</td>\n",
              "      <td>entry5</td>\n",
              "      <td>entry5</td>\n",
              "    </tr>\n",
              "  </tbody>\n",
              "</table>\n",
              "</div>"
            ],
            "text/plain": [
              "       name_1  name_2  name_3  name_4  name_5\n",
              "index                                        \n",
              "1      entry1  entry1  entry1  entry1  entry1\n",
              "3      entry3  entry3  entry3  entry3  entry3\n",
              "5      entry5  entry5  entry5  entry5  entry5"
            ]
          },
          "metadata": {
            "tags": []
          },
          "execution_count": 19
        }
      ]
    },
    {
      "cell_type": "markdown",
      "metadata": {
        "id": "Y9dYP_dcbm2l",
        "colab_type": "text"
      },
      "source": [
        "# Now Rows WITH desired Columns"
      ]
    },
    {
      "cell_type": "code",
      "metadata": {
        "id": "EweetgCJbhfi",
        "colab_type": "code",
        "outputId": "707801c8-21ab-4a52-dbe4-a4f9dd9c74b5",
        "colab": {
          "base_uri": "https://localhost:8080/",
          "height": 173
        }
      },
      "source": [
        "#3 Select and print Row Labels 1, 2, 3 with Column Labels 'name_1', 'name_2', 'name_3'\n",
        "\n",
        "df.loc[[1,3,5], ['name_1', 'name_2', 'name_3']]"
      ],
      "execution_count": 0,
      "outputs": [
        {
          "output_type": "execute_result",
          "data": {
            "text/html": [
              "<div>\n",
              "<style scoped>\n",
              "    .dataframe tbody tr th:only-of-type {\n",
              "        vertical-align: middle;\n",
              "    }\n",
              "\n",
              "    .dataframe tbody tr th {\n",
              "        vertical-align: top;\n",
              "    }\n",
              "\n",
              "    .dataframe thead th {\n",
              "        text-align: right;\n",
              "    }\n",
              "</style>\n",
              "<table border=\"1\" class=\"dataframe\">\n",
              "  <thead>\n",
              "    <tr style=\"text-align: right;\">\n",
              "      <th></th>\n",
              "      <th>name_1</th>\n",
              "      <th>name_2</th>\n",
              "      <th>name_3</th>\n",
              "    </tr>\n",
              "    <tr>\n",
              "      <th>index</th>\n",
              "      <th></th>\n",
              "      <th></th>\n",
              "      <th></th>\n",
              "    </tr>\n",
              "  </thead>\n",
              "  <tbody>\n",
              "    <tr>\n",
              "      <th>1</th>\n",
              "      <td>entry1</td>\n",
              "      <td>entry1</td>\n",
              "      <td>entry1</td>\n",
              "    </tr>\n",
              "    <tr>\n",
              "      <th>3</th>\n",
              "      <td>entry3</td>\n",
              "      <td>entry3</td>\n",
              "      <td>entry3</td>\n",
              "    </tr>\n",
              "    <tr>\n",
              "      <th>5</th>\n",
              "      <td>entry5</td>\n",
              "      <td>entry5</td>\n",
              "      <td>entry5</td>\n",
              "    </tr>\n",
              "  </tbody>\n",
              "</table>\n",
              "</div>"
            ],
            "text/plain": [
              "       name_1  name_2  name_3\n",
              "index                        \n",
              "1      entry1  entry1  entry1\n",
              "3      entry3  entry3  entry3\n",
              "5      entry5  entry5  entry5"
            ]
          },
          "metadata": {
            "tags": []
          },
          "execution_count": 20
        }
      ]
    },
    {
      "cell_type": "code",
      "metadata": {
        "id": "H1o-ao-lb20X",
        "colab_type": "code",
        "outputId": "344ee360-f30a-4b02-f931-5b52d4a48258",
        "colab": {
          "base_uri": "https://localhost:8080/",
          "height": 204
        }
      },
      "source": [
        "#4 Select and print Row Labels 1, 3, 4, 5 with Column Labels 'name_1', 'name_3', 'name_4', 'name_5'\n",
        "\n",
        "df.loc[[1,3,4,5],['name_1', 'name_3', 'name_4', 'name_5']]"
      ],
      "execution_count": 0,
      "outputs": [
        {
          "output_type": "execute_result",
          "data": {
            "text/html": [
              "<div>\n",
              "<style scoped>\n",
              "    .dataframe tbody tr th:only-of-type {\n",
              "        vertical-align: middle;\n",
              "    }\n",
              "\n",
              "    .dataframe tbody tr th {\n",
              "        vertical-align: top;\n",
              "    }\n",
              "\n",
              "    .dataframe thead th {\n",
              "        text-align: right;\n",
              "    }\n",
              "</style>\n",
              "<table border=\"1\" class=\"dataframe\">\n",
              "  <thead>\n",
              "    <tr style=\"text-align: right;\">\n",
              "      <th></th>\n",
              "      <th>name_1</th>\n",
              "      <th>name_3</th>\n",
              "      <th>name_4</th>\n",
              "      <th>name_5</th>\n",
              "    </tr>\n",
              "    <tr>\n",
              "      <th>index</th>\n",
              "      <th></th>\n",
              "      <th></th>\n",
              "      <th></th>\n",
              "      <th></th>\n",
              "    </tr>\n",
              "  </thead>\n",
              "  <tbody>\n",
              "    <tr>\n",
              "      <th>1</th>\n",
              "      <td>entry1</td>\n",
              "      <td>entry1</td>\n",
              "      <td>entry1</td>\n",
              "      <td>entry1</td>\n",
              "    </tr>\n",
              "    <tr>\n",
              "      <th>3</th>\n",
              "      <td>entry3</td>\n",
              "      <td>entry3</td>\n",
              "      <td>entry3</td>\n",
              "      <td>entry3</td>\n",
              "    </tr>\n",
              "    <tr>\n",
              "      <th>4</th>\n",
              "      <td>entry4</td>\n",
              "      <td>entry4</td>\n",
              "      <td>entry4</td>\n",
              "      <td>entry4</td>\n",
              "    </tr>\n",
              "    <tr>\n",
              "      <th>5</th>\n",
              "      <td>entry5</td>\n",
              "      <td>entry5</td>\n",
              "      <td>entry5</td>\n",
              "      <td>entry5</td>\n",
              "    </tr>\n",
              "  </tbody>\n",
              "</table>\n",
              "</div>"
            ],
            "text/plain": [
              "       name_1  name_3  name_4  name_5\n",
              "index                                \n",
              "1      entry1  entry1  entry1  entry1\n",
              "3      entry3  entry3  entry3  entry3\n",
              "4      entry4  entry4  entry4  entry4\n",
              "5      entry5  entry5  entry5  entry5"
            ]
          },
          "metadata": {
            "tags": []
          },
          "execution_count": 21
        }
      ]
    },
    {
      "cell_type": "code",
      "metadata": {
        "id": "K2s1oFVIcCiv",
        "colab_type": "code",
        "colab": {}
      },
      "source": [
        ""
      ],
      "execution_count": 0,
      "outputs": []
    }
  ]
}