{
  "nbformat": 4,
  "nbformat_minor": 0,
  "metadata": {
    "colab": {
      "name": "Untitled6.ipynb",
      "version": "0.3.2",
      "provenance": [],
      "include_colab_link": true
    },
    "kernelspec": {
      "name": "python3",
      "display_name": "Python 3"
    }
  },
  "cells": [
    {
      "cell_type": "markdown",
      "metadata": {
        "id": "view-in-github",
        "colab_type": "text"
      },
      "source": [
        "<a href=\"https://colab.research.google.com/github/ngriggs/DS-Unit-1-Sprint-2-Data-Wrangling-and-Storytelling/blob/master/day%202%20code%20challenge.ipynb\" target=\"_parent\"><img src=\"https://colab.research.google.com/assets/colab-badge.svg\" alt=\"Open In Colab\"/></a>"
      ]
    },
    {
      "cell_type": "markdown",
      "metadata": {
        "id": "MD1g4E63tW6L",
        "colab_type": "text"
      },
      "source": [
        "Given an array of integers, return a new array such that each element at index i of the new array is the product of all the numbers in the original array except the one at i.\n",
        "\n",
        "For example, if our input was [1, 2, 3, 4, 5], the expected output would be [120, 60, 40, 30, 24]. If our input was [3, 2, 1], the expected output would be [2*1, 3*1, 2*3] == [2, 3, 6].\n",
        "\n",
        "Stretch Goal: Only use python standard libraries (no importing numpy, pandas etc..)\n",
        "\n",
        "Stretch Goal 2: Do it without using division"
      ]
    },
    {
      "cell_type": "code",
      "metadata": {
        "id": "Vju4KrsFtVhu",
        "colab_type": "code",
        "colab": {}
      },
      "source": [
        "int_array = [1, 2, 3, 4, 5]"
      ],
      "execution_count": 0,
      "outputs": []
    },
    {
      "cell_type": "code",
      "metadata": {
        "id": "cDNOaRsX2QlQ",
        "colab_type": "code",
        "colab": {
          "base_uri": "https://localhost:8080/",
          "height": 34
        },
        "outputId": "c85ef849-d593-451b-c9fb-1e2c94c8cd94"
      },
      "source": [
        "len(int_array)"
      ],
      "execution_count": 83,
      "outputs": [
        {
          "output_type": "execute_result",
          "data": {
            "text/plain": [
              "5"
            ]
          },
          "metadata": {
            "tags": []
          },
          "execution_count": 83
        }
      ]
    },
    {
      "cell_type": "code",
      "metadata": {
        "id": "iN4qwv44tmD3",
        "colab_type": "code",
        "colab": {}
      },
      "source": [
        "import numpy as np\n",
        "def newArray(nums):\n",
        "  newNums = []\n",
        "  for i in range(len(nums)):\n",
        "    newNums.append(np.prod(nums) // nums[i])\n",
        "  return newNums\n"
      ],
      "execution_count": 0,
      "outputs": []
    },
    {
      "cell_type": "code",
      "metadata": {
        "id": "rFR3ttBAvA2q",
        "colab_type": "code",
        "colab": {
          "base_uri": "https://localhost:8080/",
          "height": 34
        },
        "outputId": "24f6137e-f253-4354-c4ce-63c1a04186aa"
      },
      "source": [
        "print(newArray(int_array))"
      ],
      "execution_count": 87,
      "outputs": [
        {
          "output_type": "stream",
          "text": [
            "[120, 60, 40, 30, 24]\n"
          ],
          "name": "stdout"
        }
      ]
    },
    {
      "cell_type": "code",
      "metadata": {
        "id": "gnTkWATOvDVR",
        "colab_type": "code",
        "colab": {}
      },
      "source": [
        "# Now without division\n",
        "\n",
        "def newArray(nums):\n",
        "  newNums = []\n",
        "  for i in range(len(nums)):\n",
        "    if i == 0:\n",
        "      newNums.append(np.prod(nums[i:]))\n",
        "    if i == (len(nums)-1):\n",
        "      print(np.prod(nums[:i]))\n",
        "      newNums.append(np.prod(nums[:i]))\n",
        "    else:\n",
        "      print(np.prod(nums[(i+1):]))\n",
        "      print(np.prod(nums[:(i-1)]))\n",
        "      newNums.append(np.prod(nums[(i+1):]) * np.prod(nums[:(i-1)]))\n",
        "  return newNums"
      ],
      "execution_count": 0,
      "outputs": []
    },
    {
      "cell_type": "code",
      "metadata": {
        "id": "WW93020pwm3c",
        "colab_type": "code",
        "colab": {
          "base_uri": "https://localhost:8080/",
          "height": 187
        },
        "outputId": "d91190fb-0786-4b4a-94b1-8346624e0627"
      },
      "source": [
        "print(newArray(int_array))"
      ],
      "execution_count": 103,
      "outputs": [
        {
          "output_type": "stream",
          "text": [
            "120\n",
            "24\n",
            "60\n",
            "1.0\n",
            "20\n",
            "1\n",
            "5\n",
            "2\n",
            "24\n",
            "[120, 2880, 60.0, 20, 10, 24]\n"
          ],
          "name": "stdout"
        }
      ]
    }
  ]
}